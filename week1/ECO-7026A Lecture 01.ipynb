{
 "cells": [
  {
   "cell_type": "markdown",
   "id": "9fbbb356",
   "metadata": {},
   "source": [
    "# Welcome to ECO-7026A!\n",
    "\n",
    "\n",
    "## Andrea Calef\n",
    "\n",
    "> 💁‍♂️ My details: a.calef@uea.ac.uk; office hours Wednesdays 4-6pm on Teams. Or meet live by appointment!\n",
    "\n",
    "\n",
    "The materials for this week are available as a Jupyter notebook. Jupyter notebooks mix rich text with runnable python code. So, you can follow along with this lecture, run the python examples, and even add your own notes and code. To do this go to \n",
    "\n",
    "https://mybinder.org/v2/gh/tturocy/eco7026a/HEAD\n",
    "\n",
    "Alternatively, you can copy and paste code from here into the python command line or an IDE such as Spyder.\n",
    "\n",
    "### Using Jupyter notebooks\n",
    "\n",
    "To get your own copy of this notebook, choose **File** above then **Download**. \n",
    "\n",
    "When you have done that, click in the field below, and either press the **play** button or type **Shift+Enter**. This executes the Python cell."
   ]
  },
  {
   "cell_type": "markdown",
   "id": "6764452a",
   "metadata": {},
   "source": [
    "Let me greet you in three different ways!"
   ]
  },
  {
   "cell_type": "code",
   "execution_count": null,
   "id": "8e1daf18",
   "metadata": {},
   "outputs": [],
   "source": [
    "Hello students!"
   ]
  },
  {
   "cell_type": "code",
   "execution_count": null,
   "id": "9919763c",
   "metadata": {},
   "outputs": [],
   "source": [
    "'Hello students!'"
   ]
  },
  {
   "cell_type": "code",
   "execution_count": null,
   "id": "9541e26f",
   "metadata": {},
   "outputs": [],
   "source": [
    "print('Hello students!') # \"Print()\" displays what it written within it. \n",
    "# Note that everything written after \"#\" is ignored. It is a way to write comments or notes near your codes."
   ]
  },
  {
   "cell_type": "markdown",
   "id": "185c292d",
   "metadata": {},
   "source": [
    "The first attempt does not work and shows that in Python \"apostrophes\" ('') matter. Do you want more information on the built-in function **print()**? Use the **help()** function! This is very similar to Stata."
   ]
  },
  {
   "cell_type": "code",
   "execution_count": null,
   "id": "e1bf79dc",
   "metadata": {},
   "outputs": [],
   "source": [
    "help(print)"
   ]
  },
  {
   "cell_type": "markdown",
   "id": "19d5de2f",
   "metadata": {},
   "source": [
    "Try now to display your name. We need to use both **print()** and **input()**. But let us know more about the latter."
   ]
  },
  {
   "cell_type": "code",
   "execution_count": null,
   "id": "44a9f40b",
   "metadata": {},
   "outputs": [],
   "source": [
    "name = input('What is your name?')"
   ]
  },
  {
   "cell_type": "markdown",
   "id": "7a71cd1a",
   "metadata": {},
   "source": [
    "Can we run the two cells together? Yes, in two ways:\n",
    "\n",
    "i) either you select them together, \n",
    "<br>\n",
    "ii) or you write the two lines in the same cell."
   ]
  },
  {
   "cell_type": "code",
   "execution_count": null,
   "id": "f425ccd4",
   "metadata": {},
   "outputs": [],
   "source": [
    "print('Hello students!')\n",
    "name = input('What is your name?')"
   ]
  },
  {
   "cell_type": "markdown",
   "id": "12eebee0",
   "metadata": {},
   "source": [
    "But make sure that there are no errors in the first line. "
   ]
  },
  {
   "cell_type": "code",
   "execution_count": null,
   "id": "583bd268",
   "metadata": {},
   "outputs": [],
   "source": [
    "print('Hello {name}!')"
   ]
  },
  {
   "cell_type": "code",
   "execution_count": null,
   "id": "c79ba735",
   "metadata": {},
   "outputs": [],
   "source": [
    "print(f\"Hello {name}!\")"
   ]
  },
  {
   "cell_type": "markdown",
   "id": "c150ee4c",
   "metadata": {},
   "source": [
    "## Strings \n",
    "\n",
    "What are strings?\n",
    "\n",
    "In Python, a string refers to a **sequence of characters**, i.e. text.\n",
    "\n",
    "Please create a variable containing your name below:"
   ]
  },
  {
   "cell_type": "code",
   "execution_count": null,
   "id": "212d3d67",
   "metadata": {},
   "outputs": [],
   "source": [
    "name = 'Andrea'"
   ]
  },
  {
   "cell_type": "markdown",
   "id": "feb0afdb",
   "metadata": {},
   "source": [
    "Let us now recall the first letter of your name."
   ]
  },
  {
   "cell_type": "code",
   "execution_count": null,
   "id": "57a80135",
   "metadata": {},
   "outputs": [],
   "source": [
    "print(name[1])"
   ]
  },
  {
   "cell_type": "markdown",
   "id": "e87a56f5",
   "metadata": {},
   "source": [
    "Python has an **index** to check the order and it starts from **0**. Let us double check below."
   ]
  },
  {
   "cell_type": "code",
   "execution_count": null,
   "id": "ba470a70",
   "metadata": {},
   "outputs": [],
   "source": [
    "print(name[0])"
   ]
  },
  {
   "cell_type": "markdown",
   "id": "954517bd",
   "metadata": {},
   "source": [
    "We can also get a range of characters from a string. Let us try with the first two letters of your name (without using print())."
   ]
  },
  {
   "cell_type": "code",
   "execution_count": null,
   "id": "6e304586",
   "metadata": {},
   "outputs": [],
   "source": [
    "name[0:2]"
   ]
  },
  {
   "cell_type": "markdown",
   "id": "0e726c8d",
   "metadata": {},
   "source": [
    "How many letters compose your name? Let us check with **len()**."
   ]
  },
  {
   "cell_type": "code",
   "execution_count": null,
   "id": "d235f908",
   "metadata": {},
   "outputs": [],
   "source": [
    "len(name)"
   ]
  },
  {
   "cell_type": "markdown",
   "id": "d69798d1",
   "metadata": {},
   "source": [
    "Exercise: Count the number of letters that compose your full name. "
   ]
  },
  {
   "cell_type": "code",
   "execution_count": null,
   "id": "000c0d19",
   "metadata": {},
   "outputs": [],
   "source": [
    "fullname = 'Andrea Calef'\n",
    "len(fullname)"
   ]
  },
  {
   "cell_type": "markdown",
   "id": "566b4ccd",
   "metadata": {},
   "source": [
    "## Other variables\n",
    "\n",
    "A string is one of many types of variables that Python can handle. We also have: \n",
    "\n",
    "i) Numbers\n",
    "<br>\n",
    "ii) Lists, tuples, and sets\n",
    "<br>\n",
    "iii) Dictionaries\n",
    "<br>\n",
    "iv) Boolean"
   ]
  },
  {
   "cell_type": "markdown",
   "id": "fa210345",
   "metadata": {},
   "source": [
    "### Numbers \n",
    "\n",
    "Numbers can be either **integers** (e.g. 3) or **floating-point numbers** (e.g. 3.1). Let us make some calculations. "
   ]
  },
  {
   "cell_type": "code",
   "execution_count": null,
   "id": "ebf5a810",
   "metadata": {},
   "outputs": [],
   "source": [
    "a = 6\n",
    "b = 3\n",
    "e = 2.718"
   ]
  },
  {
   "cell_type": "code",
   "execution_count": null,
   "id": "c7a03404",
   "metadata": {},
   "outputs": [],
   "source": [
    "a + b "
   ]
  },
  {
   "cell_type": "code",
   "execution_count": null,
   "id": "3bd71431",
   "metadata": {},
   "outputs": [],
   "source": [
    "a + e "
   ]
  },
  {
   "cell_type": "code",
   "execution_count": null,
   "id": "e4ddb129",
   "metadata": {},
   "outputs": [],
   "source": [
    "a / b"
   ]
  },
  {
   "cell_type": "code",
   "execution_count": null,
   "id": "b7271d94",
   "metadata": {},
   "outputs": [],
   "source": [
    "a / e"
   ]
  },
  {
   "cell_type": "code",
   "execution_count": null,
   "id": "ff7416f6",
   "metadata": {},
   "outputs": [],
   "source": [
    "a * b "
   ]
  },
  {
   "cell_type": "code",
   "execution_count": null,
   "id": "b7993cfc",
   "metadata": {},
   "outputs": [],
   "source": [
    "a * e"
   ]
  },
  {
   "cell_type": "code",
   "execution_count": null,
   "id": "6d721338",
   "metadata": {},
   "outputs": [],
   "source": [
    "a ** b "
   ]
  },
  {
   "cell_type": "code",
   "execution_count": null,
   "id": "d332904d",
   "metadata": {},
   "outputs": [],
   "source": [
    "a ** e"
   ]
  },
  {
   "cell_type": "markdown",
   "id": "0c55d999",
   "metadata": {},
   "source": [
    "What did we learn? Any operation with a floating-point number or any division produces a floating-point number."
   ]
  },
  {
   "cell_type": "markdown",
   "id": "7d25d52e",
   "metadata": {},
   "source": [
    "### Converting between number and strings\n",
    "\n",
    "We can also use Python to convert between variable types. This is useful, for example, when taking user **input()**, because **input()** always returns a string.\n",
    "\n",
    "Exercise: Suppose we want to write a program to convert dog years to human years, using a formula that 1 dog year is 7 human years. We can convert the age to an integer with **int()** or a floating point with **float()** (they work with both numbers and strings), then do the multiplication.\n",
    "\n",
    "It will be automatically converted back using an f-string like we saw before."
   ]
  },
  {
   "cell_type": "code",
   "execution_count": null,
   "id": "ec128032",
   "metadata": {
    "direction": "rtl"
   },
   "outputs": [],
   "source": [
    "dog_age_string = input(\"Dog's age:\") \n",
    "dog_age = int(dog_age_string)\n",
    "human_age = dog_age * 7\n",
    "print(f'Your dog is {human_age} human years old')"
   ]
  },
  {
   "cell_type": "markdown",
   "id": "ba9f6d6b",
   "metadata": {},
   "source": [
    "### Lists, tuples and sets\n",
    "\n",
    "They are **data structures**, which can contain other variables (or be left empty!)"
   ]
  },
  {
   "cell_type": "markdown",
   "id": "4b545670",
   "metadata": {},
   "source": [
    "### Lists\n",
    "\n",
    "Lists are data structures containing a number of other variables. They are **ordered** and **changeable**. We create a list using **square brackets**. Let us check whether what is written is correct."
   ]
  },
  {
   "cell_type": "code",
   "execution_count": null,
   "id": "3435ba24",
   "metadata": {},
   "outputs": [],
   "source": [
    "names = [\"Steven\", \"Eric\", \"John\"]"
   ]
  },
  {
   "cell_type": "code",
   "execution_count": null,
   "id": "e83eb31b",
   "metadata": {},
   "outputs": [],
   "source": [
    "names[1]"
   ]
  },
  {
   "cell_type": "code",
   "execution_count": null,
   "id": "d6b48045",
   "metadata": {},
   "outputs": [],
   "source": [
    "names[1] = \"Bob\""
   ]
  },
  {
   "cell_type": "code",
   "execution_count": null,
   "id": "86d9345f",
   "metadata": {},
   "outputs": [],
   "source": [
    "names"
   ]
  },
  {
   "cell_type": "markdown",
   "id": "af50119f",
   "metadata": {},
   "source": [
    "### Tuples\n",
    "\n",
    "Tuples are defined the same way as lists but with with **round brackets**, we **cannot change** individual elements. Let us see. "
   ]
  },
  {
   "cell_type": "code",
   "execution_count": null,
   "id": "b75e9311",
   "metadata": {},
   "outputs": [],
   "source": [
    "names = (\"Steven\", \"Eric\", \"John\")"
   ]
  },
  {
   "cell_type": "code",
   "execution_count": null,
   "id": "400a97e9",
   "metadata": {},
   "outputs": [],
   "source": [
    "names[1] = \"Bob\""
   ]
  },
  {
   "cell_type": "markdown",
   "id": "ef786c8b",
   "metadata": {},
   "source": [
    "### Sets \n",
    "\n",
    "Sets are unindexed and are denoted by **curly braces**. "
   ]
  },
  {
   "cell_type": "code",
   "execution_count": null,
   "id": "d405f7cb",
   "metadata": {},
   "outputs": [],
   "source": [
    "lunch = {\"sandwich\", \"drink\", \"crisps\"}"
   ]
  },
  {
   "cell_type": "code",
   "execution_count": null,
   "id": "a840b6a0",
   "metadata": {},
   "outputs": [],
   "source": [
    "\"sandwich\" in lunch"
   ]
  },
  {
   "cell_type": "code",
   "execution_count": null,
   "id": "ff4d79ed",
   "metadata": {},
   "outputs": [],
   "source": [
    "\"fruit\" in lunch"
   ]
  },
  {
   "cell_type": "markdown",
   "id": "22d9ab43",
   "metadata": {},
   "source": [
    "### Booleans\n",
    "\n",
    "True and False are boolean variables, meaning yes and no, or 1 and 0, respectively."
   ]
  },
  {
   "cell_type": "markdown",
   "id": "a397ba66",
   "metadata": {},
   "source": [
    "Dictionaries\n",
    "\n",
    "A dictionary works exactly like a real-life one might. We look up a key, and we are returned a value. It could quite literally be a dictionary. Let see an example. "
   ]
  },
  {
   "cell_type": "code",
   "execution_count": null,
   "id": "f2118a4e",
   "metadata": {},
   "outputs": [],
   "source": [
    "my_dict = {\"Hello\": \"Hola\", \"Goodbye\": \"Adios\"}\n",
    "my_dict[\"Hello\"]"
   ]
  },
  {
   "cell_type": "markdown",
   "id": "49e4e629",
   "metadata": {},
   "source": [
    "## Control Flow Tools\n",
    "\n",
    "We will likely want to adjust how our program runs. As it stands, all of our scripts have simply been run one-line-at-a-time.\n",
    "\n",
    "Python can be instructed to change the path that it takes through a program, depending on some conditions. The three tools which can be used in Python to adjust this are **if**, **while**, and **for**.\n",
    "\n",
    "Before using them, let us introduce **comparison operators** and **logical operators**. \n",
    "\n",
    "**Comparison operators**: \n",
    "\n",
    "$==$\n",
    "<br>\n",
    "$!=$\n",
    "<br>\n",
    "$<$\n",
    "<br>\n",
    "$>$\n",
    "<br>\n",
    "$<=$\n",
    "<br>\n",
    "$>=$\n",
    "\n",
    "**Logical operators**: \n",
    "\n",
    "and (&)\n",
    "<br>\n",
    "or (!)\n",
    "<br>\n",
    "not (~)\n",
    "\n",
    "Let us exercise a bit. "
   ]
  },
  {
   "cell_type": "code",
   "execution_count": null,
   "id": "5e20d019",
   "metadata": {},
   "outputs": [],
   "source": [
    "a = 3\n",
    "b = 4"
   ]
  },
  {
   "cell_type": "code",
   "execution_count": null,
   "id": "6139c575",
   "metadata": {
    "scrolled": true
   },
   "outputs": [],
   "source": [
    "(b > a) and (b > 0)"
   ]
  },
  {
   "cell_type": "code",
   "execution_count": null,
   "id": "cc9923cb",
   "metadata": {},
   "outputs": [],
   "source": [
    "(b > a) or (a < 0)"
   ]
  },
  {
   "cell_type": "code",
   "execution_count": null,
   "id": "2e4a0979",
   "metadata": {},
   "outputs": [],
   "source": [
    "(b < a) and b == 3 or a == 3"
   ]
  },
  {
   "cell_type": "markdown",
   "id": "5610abc7",
   "metadata": {},
   "source": [
    "Python has an order of operation, much like in mathematics – **or** comes before **and**, and **and** comes before **not**."
   ]
  },
  {
   "cell_type": "markdown",
   "id": "b3d13e67",
   "metadata": {},
   "source": [
    "### Control Flow Tools: if \n",
    "    \n",
    "It simply checks a test condition, then if that condition is met, runs some code.\n",
    "\n",
    "The syntax is:\n",
    "    \n",
    "if <test condition>:\n",
    "    <br>\n",
    "    statement\n",
    "\n",
    "Exercise: Let us write a program to tell us if the number we have given is positive."
   ]
  },
  {
   "cell_type": "code",
   "execution_count": null,
   "id": "ecf9b8a1",
   "metadata": {
    "scrolled": true
   },
   "outputs": [],
   "source": [
    "number = int(input(\"Enter a number:\"))\n",
    "\n",
    "if number > 0:\n",
    "    print(\"The number is positive!\")"
   ]
  },
  {
   "cell_type": "markdown",
   "id": "8399ae87",
   "metadata": {},
   "source": [
    "Try again with a negative number."
   ]
  },
  {
   "cell_type": "code",
   "execution_count": null,
   "id": "8beb25c3",
   "metadata": {},
   "outputs": [],
   "source": [
    "number = int(input(\"Enter a number:\"))\n",
    "\n",
    "if number > 0:\n",
    "    print(\"The number is positive!\")"
   ]
  },
  {
   "cell_type": "markdown",
   "id": "235964a5",
   "metadata": {},
   "source": [
    "### Control Flow Tools: else\n",
    "\n",
    "When used with **if**, the code after an **else** condition will execute if the test condition in the if block is not met.\n",
    "\n",
    "if <test condition>:\n",
    "    <br>\n",
    "    statement\n",
    "<br>\n",
    "else:\n",
    "    <br>\n",
    "    other_statement\n",
    "\n",
    "Let us introduce it in the previous example. "
   ]
  },
  {
   "cell_type": "code",
   "execution_count": null,
   "id": "642365aa",
   "metadata": {},
   "outputs": [],
   "source": [
    "number = int(input(\"Enter a number:\"))\n",
    "if number > 0:\n",
    "    print(\"The number is positive!\")\n",
    "else:\n",
    "    print(\"The number is not positive!\")"
   ]
  },
  {
   "cell_type": "markdown",
   "id": "1689a291",
   "metadata": {},
   "source": [
    "What if we type 0? We need another condition, an **elif** (else if). "
   ]
  },
  {
   "cell_type": "code",
   "execution_count": null,
   "id": "4fba8ad1",
   "metadata": {},
   "outputs": [],
   "source": [
    "number = int(input(\"Enter a number:\"))\n",
    "if number > 0:\n",
    "    print(\"The number is positive!\")\n",
    "elif number == 0:\n",
    "    print(\"The number is zero!\")\n",
    "else:\n",
    "    print(\"The number is negative!\")"
   ]
  },
  {
   "cell_type": "markdown",
   "id": "e8469c1f",
   "metadata": {},
   "source": [
    "### Control Flow Tools: while\n",
    "\n",
    "We can use while to run a block of code until a certain condition is met.\n",
    "\n",
    "The syntax is:\n",
    "\n",
    "while <test condition>:\n",
    "    <br>\n",
    "    statement\n",
    "\n",
    "Let us modify the dog years program to reject negative ages as input. "
   ]
  },
  {
   "cell_type": "code",
   "execution_count": null,
   "id": "69a59577",
   "metadata": {},
   "outputs": [],
   "source": [
    "dog_age_string = input(\"Dog's age:\")\n",
    "dog_age = int(dog_age_string)\n",
    "while dog_age < 0:\n",
    "    print(\"Sorry, dog's age must be positive.\")\n",
    "    dog_age_string = input(\"Dog's age:\")\n",
    "    dog_age = int(dog_age_string)\n",
    "human_age = dog_age * 7\n",
    "print(f'Your dog is {human_age} human years old')"
   ]
  },
  {
   "cell_type": "markdown",
   "id": "107c6e69",
   "metadata": {},
   "source": [
    "### Control Flow Tools: for loops\n",
    "\n",
    "Suppose we wanted to **iterate** over a **sequence**.\n",
    "\n",
    "i) Iterate: Running code again and again.\n",
    "<br>\n",
    "ii) Sequence: Lists, sets, tuples, dictionaries, strings, and some built-in functions.\n",
    "\n",
    "Let us look at an example where we go through a **range** of numbers, and cube each of them."
   ]
  },
  {
   "cell_type": "code",
   "execution_count": null,
   "id": "880ec696",
   "metadata": {},
   "outputs": [],
   "source": [
    "for i in range(1, 9): \n",
    "    print(i**3)"
   ]
  },
  {
   "cell_type": "markdown",
   "id": "0dffddf4",
   "metadata": {},
   "source": [
    "## Defining and using functions\n",
    "\n",
    "We can also define **our own functions** in Python. \n",
    "\n",
    "Let us use the keyword **def**, followed by a **function name** and the **parameters** in brackets. \n",
    "\n",
    "Exercise: Suppose we want a function that takes a list of names, and says hello to each of them. "
   ]
  },
  {
   "cell_type": "code",
   "execution_count": null,
   "id": "1c662d11",
   "metadata": {},
   "outputs": [],
   "source": [
    "names = [\"Steven\", \"Eric\", \"John\"]\n",
    "def hello_folks(names):\n",
    "    for name in names:\n",
    "        print(\"Hello \" + name)\n",
    "hello_folks([\"Eric\"])"
   ]
  },
  {
   "cell_type": "markdown",
   "id": "3e7f721b",
   "metadata": {},
   "source": [
    "We often want our function to return a variable, one which will be used (perhaps in another function), without being displayed to the user yet.\n",
    "\n",
    "Exercise: Suppose we want to write a program to determine if the numbers between 0 and 9 are odd or even."
   ]
  },
  {
   "cell_type": "code",
   "execution_count": null,
   "id": "ae517e84",
   "metadata": {},
   "outputs": [],
   "source": [
    "def is_even(n):\n",
    "    if n % 2 == 0:\n",
    "        return True\n",
    "    else:\n",
    "        return False\n",
    "\n",
    "for i in range(0,10):\n",
    "    if is_even(i):\n",
    "        print(f'The number {i} is even')\n",
    "    else: \n",
    "        print(f'The number {i} is odd')"
   ]
  }
 ],
 "metadata": {
  "celltoolbar": "Tags",
  "kernelspec": {
   "display_name": "Python 3 (ipykernel)",
   "language": "python",
   "name": "python3"
  },
  "language_info": {
   "codemirror_mode": {
    "name": "ipython",
    "version": 3
   },
   "file_extension": ".py",
   "mimetype": "text/x-python",
   "name": "python",
   "nbconvert_exporter": "python",
   "pygments_lexer": "ipython3",
   "version": "3.9.12"
  }
 },
 "nbformat": 4,
 "nbformat_minor": 5
}
