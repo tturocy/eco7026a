{
 "cells": [
  {
   "cell_type": "markdown",
   "id": "9fbbb356",
   "metadata": {},
   "source": [
    "# Welcome to ECO-7026A!"
   ]
  },
  {
   "cell_type": "markdown",
   "id": "6764452a",
   "metadata": {},
   "source": [
    "Let me greet you in three different ways!"
   ]
  },
  {
   "cell_type": "code",
   "execution_count": null,
   "id": "8e1daf18",
   "metadata": {},
   "outputs": [],
   "source": [
    "Hello students!"
   ]
  },
  {
   "cell_type": "code",
   "execution_count": null,
   "id": "9919763c",
   "metadata": {},
   "outputs": [],
   "source": [
    "'Hello students!'"
   ]
  },
  {
   "cell_type": "code",
   "execution_count": null,
   "id": "9541e26f",
   "metadata": {},
   "outputs": [],
   "source": [
    "print('Hello students!') # \"Print()\" displays what it written within it. \n",
    "# Note that everything written after \"#\" is ignore. It is a way to write comments or notes near your codes."
   ]
  },
  {
   "cell_type": "markdown",
   "id": "185c292d",
   "metadata": {},
   "source": [
    "The first attempt does not work and shows that in Python \"apostrophes\" ('') matter. Do you want more information on the built-in function \"print()\"? Use the \"help()\" function! This is very similar to Stata."
   ]
  },
  {
   "cell_type": "code",
   "execution_count": null,
   "id": "e1bf79dc",
   "metadata": {},
   "outputs": [],
   "source": [
    "help(print)"
   ]
  },
  {
   "cell_type": "markdown",
   "id": "19d5de2f",
   "metadata": {},
   "source": [
    "Try now to display your name. We need to use both \"print()\" and \"input()\". But let us know more about the latter."
   ]
  },
  {
   "cell_type": "code",
   "execution_count": null,
   "id": "44a9f40b",
   "metadata": {},
   "outputs": [],
   "source": [
    "name = input('What is your name?')"
   ]
  },
  {
   "cell_type": "markdown",
   "id": "7a71cd1a",
   "metadata": {},
   "source": [
    "Can we run the two cells together? Yes, in two ways:\n",
    "\n",
    "i) either you select them together, \n",
    "ii) or you write the two lines in the same cell."
   ]
  },
  {
   "cell_type": "code",
   "execution_count": null,
   "id": "f425ccd4",
   "metadata": {},
   "outputs": [],
   "source": [
    "print('Hello students!')\n",
    "name = input('What is your name?')"
   ]
  },
  {
   "cell_type": "markdown",
   "id": "12eebee0",
   "metadata": {},
   "source": [
    "But make sure that there are no errors in the first line. "
   ]
  },
  {
   "cell_type": "code",
   "execution_count": null,
   "id": "583bd268",
   "metadata": {},
   "outputs": [],
   "source": [
    "print('Hello {name}!')"
   ]
  },
  {
   "cell_type": "code",
   "execution_count": null,
   "id": "c79ba735",
   "metadata": {},
   "outputs": [],
   "source": [
    "print(f\"Hello {name}!\")"
   ]
  },
  {
   "cell_type": "markdown",
   "id": "c150ee4c",
   "metadata": {},
   "source": [
    "What are strings?\n",
    "\n",
    "In Python, a string refers to a sequence of characters, i.e. text.\n",
    "\n",
    "Please create a variable containing your name below:"
   ]
  },
  {
   "cell_type": "code",
   "execution_count": null,
   "id": "212d3d67",
   "metadata": {},
   "outputs": [],
   "source": [
    "name = 'Andrea'"
   ]
  },
  {
   "cell_type": "markdown",
   "id": "feb0afdb",
   "metadata": {},
   "source": [
    "Let us now recall the first letter of your name."
   ]
  },
  {
   "cell_type": "code",
   "execution_count": null,
   "id": "57a80135",
   "metadata": {},
   "outputs": [],
   "source": [
    "print(name[1])"
   ]
  },
  {
   "cell_type": "markdown",
   "id": "e87a56f5",
   "metadata": {},
   "source": [
    "Python has an index to check the order and it starts from 0. Let us double check below."
   ]
  },
  {
   "cell_type": "code",
   "execution_count": null,
   "id": "ba470a70",
   "metadata": {},
   "outputs": [],
   "source": [
    "print(name[0])"
   ]
  },
  {
   "cell_type": "markdown",
   "id": "954517bd",
   "metadata": {},
   "source": [
    "We can also get a range of characters from a string. Let us try with the first two letters of your name (without using print())."
   ]
  },
  {
   "cell_type": "code",
   "execution_count": null,
   "id": "6e304586",
   "metadata": {},
   "outputs": [],
   "source": [
    "name[0:2]"
   ]
  },
  {
   "cell_type": "markdown",
   "id": "0e726c8d",
   "metadata": {},
   "source": [
    "How many letters compose your name? Let us check with \"len()\"."
   ]
  },
  {
   "cell_type": "code",
   "execution_count": null,
   "id": "d235f908",
   "metadata": {},
   "outputs": [],
   "source": [
    "len(name)"
   ]
  },
  {
   "cell_type": "markdown",
   "id": "d69798d1",
   "metadata": {},
   "source": [
    "Exercise: Count the number of letters that compose your full name. "
   ]
  },
  {
   "cell_type": "code",
   "execution_count": null,
   "id": "000c0d19",
   "metadata": {},
   "outputs": [],
   "source": [
    "fullname = 'Andrea Calef'\n",
    "len(fullname)"
   ]
  },
  {
   "cell_type": "markdown",
   "id": "566b4ccd",
   "metadata": {},
   "source": [
    "A string is one of many types of variables that Python can handle. We also have: \n",
    "\n",
    "i) Numbers\n",
    "ii) Lists, tuples, and sets\n",
    "iii) Dictionaries\n",
    "iv) Boolean\n"
   ]
  },
  {
   "cell_type": "markdown",
   "id": "fa210345",
   "metadata": {},
   "source": [
    "Numbers can be either \"Integers\" (e.g. 3) or floating-point numbers (e.g. 3.1). Let us make some calculations. "
   ]
  },
  {
   "cell_type": "code",
   "execution_count": null,
   "id": "ebf5a810",
   "metadata": {},
   "outputs": [],
   "source": [
    "a = 6\n",
    "b = 3\n",
    "e = 2.718"
   ]
  },
  {
   "cell_type": "code",
   "execution_count": null,
   "id": "c7a03404",
   "metadata": {},
   "outputs": [],
   "source": [
    "a + b "
   ]
  },
  {
   "cell_type": "code",
   "execution_count": null,
   "id": "3bd71431",
   "metadata": {},
   "outputs": [],
   "source": [
    "a + e "
   ]
  },
  {
   "cell_type": "code",
   "execution_count": null,
   "id": "e4ddb129",
   "metadata": {},
   "outputs": [],
   "source": [
    "a / b"
   ]
  },
  {
   "cell_type": "code",
   "execution_count": null,
   "id": "b7271d94",
   "metadata": {},
   "outputs": [],
   "source": [
    "a / e"
   ]
  },
  {
   "cell_type": "code",
   "execution_count": null,
   "id": "ff7416f6",
   "metadata": {},
   "outputs": [],
   "source": [
    "a * b "
   ]
  },
  {
   "cell_type": "code",
   "execution_count": null,
   "id": "b7993cfc",
   "metadata": {},
   "outputs": [],
   "source": [
    "a * e"
   ]
  },
  {
   "cell_type": "code",
   "execution_count": null,
   "id": "6d721338",
   "metadata": {},
   "outputs": [],
   "source": [
    "a ** b "
   ]
  },
  {
   "cell_type": "code",
   "execution_count": null,
   "id": "d332904d",
   "metadata": {},
   "outputs": [],
   "source": [
    "a ** e"
   ]
  },
  {
   "cell_type": "markdown",
   "id": "0c55d999",
   "metadata": {},
   "source": [
    "What did we learn? Any operation with a floating-point number or any division produces a floating-point number."
   ]
  },
  {
   "cell_type": "markdown",
   "id": "7d25d52e",
   "metadata": {},
   "source": [
    "We can also use Python to convert between variable types. This is useful, for example, when taking user input, because input() always returns a string.\n",
    "\n",
    "Exercise: Suppose we want to write a program to convert dog years to human years, using a formula that 1 dog year is 7 human years. We can convert the age to an integer with \"int()\" or a floating point with \"float()\" (they work with both numbers and strings), then do the multiplication.\n",
    "\n",
    "It will be automatically converted back using an f-string like we saw before."
   ]
  },
  {
   "cell_type": "code",
   "execution_count": 51,
   "id": "ec128032",
   "metadata": {
    "direction": "rtl",
    "scrolled": false,
    "tags": [
     "hide_code"
    ]
   },
   "outputs": [
    {
     "name": "stdout",
     "output_type": "stream",
     "text": [
      "Dog's age:10\n",
      "Your dog is 70 human years old\n"
     ]
    }
   ],
   "source": [
    "dog_age_string = input(\"Dog's age:\") \n",
    "dog_age = int(dog_age_string)\n",
    "human_age = dog_age * 7\n",
    "print(f'Your dog is {human_age} human years old')"
   ]
  },
  {
   "cell_type": "code",
   "execution_count": null,
   "id": "4784b173",
   "metadata": {},
   "outputs": [],
   "source": []
  }
 ],
 "metadata": {
  "celltoolbar": "Tags",
  "kernelspec": {
   "display_name": "Python 3 (ipykernel)",
   "language": "python",
   "name": "python3"
  },
  "language_info": {
   "codemirror_mode": {
    "name": "ipython",
    "version": 3
   },
   "file_extension": ".py",
   "mimetype": "text/x-python",
   "name": "python",
   "nbconvert_exporter": "python",
   "pygments_lexer": "ipython3",
   "version": "3.9.12"
  }
 },
 "nbformat": 4,
 "nbformat_minor": 5
}
