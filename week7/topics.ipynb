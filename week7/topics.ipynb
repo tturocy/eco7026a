{
 "cells": [
  {
   "cell_type": "code",
   "execution_count": 1,
   "id": "bb3cd0b2",
   "metadata": {},
   "outputs": [
    {
     "name": "stdout",
     "output_type": "stream",
     "text": [
      "The Zen of Python, by Tim Peters\n",
      "\n",
      "Beautiful is better than ugly.\n",
      "Explicit is better than implicit.\n",
      "Simple is better than complex.\n",
      "Complex is better than complicated.\n",
      "Flat is better than nested.\n",
      "Sparse is better than dense.\n",
      "Readability counts.\n",
      "Special cases aren't special enough to break the rules.\n",
      "Although practicality beats purity.\n",
      "Errors should never pass silently.\n",
      "Unless explicitly silenced.\n",
      "In the face of ambiguity, refuse the temptation to guess.\n",
      "There should be one-- and preferably only one --obvious way to do it.\n",
      "Although that way may not be obvious at first unless you're Dutch.\n",
      "Now is better than never.\n",
      "Although never is often better than *right* now.\n",
      "If the implementation is hard to explain, it's a bad idea.\n",
      "If the implementation is easy to explain, it may be a good idea.\n",
      "Namespaces are one honking great idea -- let's do more of those!\n"
     ]
    }
   ],
   "source": [
    "import this"
   ]
  },
  {
   "cell_type": "markdown",
   "id": "745c8a70",
   "metadata": {},
   "source": [
    "## Mini-focus: Code layout and structure in Python\n",
    "\n",
    "Python is an unusual language in that \"whitespace\" (spaces, tabs, newlines, and so forth) are significant in determining what is valid Python.\n",
    "\n",
    "This was (is?) shocking to proponents of other languages.  For example, in Python, we would write a for loop like this:\n",
    "\n",
    "```\n",
    "for i in range(5):\n",
    "    print(i)\n",
    "```\n",
    "\n",
    "where the `print` function call must be indented.  Although you have choice HOW MUCH to indent (as long as your are consistent), you MUST indent.\n",
    "\n",
    "Meanwhile, in other languages like C, one would write\n",
    "\n",
    "```\n",
    "for (i = 0; i < 5; i++) {\n",
    "    printf(\"%d\", i);\n",
    "}\n",
    "```\n",
    "\n",
    "But also it could be written\n",
    "\n",
    "```\n",
    "for (i = 0; i < 5; i++) { printf(\"%d\", i); }\n",
    "```\n",
    "\n",
    "```\n",
    "for (i = 0; i < 5; i++) \n",
    "{\n",
    "    printf(\"%d\", i);\n",
    "}\n",
    "```\n",
    "\n",
    "```\n",
    "for(i=0;i<5;i++)printf(\"%d\",i);\n",
    "```\n",
    "\n",
    "among a myriad of other ways.\n",
    "\n",
    "An important implication of the spacing rules of Python is that they (somewhat) encourage you to structure your code to make it more human-readable.  We'll look a bit at some potentially confusing points and also some suggestions for good practice.\n",
    "\n"
   ]
  },
  {
   "cell_type": "markdown",
   "id": "afc0eb69",
   "metadata": {},
   "source": [
    "You may have noticed I tend to have certain conventions in how I have laid out the expressions I have written.\n",
    "\n",
    "First, because spacing is important in Python, an expression ends at the end of a line.  So for example I cannot do"
   ]
  },
  {
   "cell_type": "code",
   "execution_count": 3,
   "id": "e9ce89e3",
   "metadata": {},
   "outputs": [
    {
     "ename": "SyntaxError",
     "evalue": "invalid syntax (2770051154.py, line 1)",
     "output_type": "error",
     "traceback": [
      "\u001b[0;36m  Cell \u001b[0;32mIn [3], line 1\u001b[0;36m\u001b[0m\n\u001b[0;31m    foo =\u001b[0m\n\u001b[0m         ^\u001b[0m\n\u001b[0;31mSyntaxError\u001b[0m\u001b[0;31m:\u001b[0m invalid syntax\n"
     ]
    }
   ],
   "source": [
    "foo =\n",
    "1"
   ]
  },
  {
   "cell_type": "markdown",
   "id": "9f1b13f6",
   "metadata": {},
   "source": [
    "The end of the line ends the expression, which is incomplete because Python is expecting something to be on the right-side of that assignment.  Now, if we had a good reason to, there is a way to continue an expression across multiple lines, which is using the `\\` (backslash) character:"
   ]
  },
  {
   "cell_type": "code",
   "execution_count": 4,
   "id": "8e521af5",
   "metadata": {},
   "outputs": [],
   "source": [
    "foo = \\\n",
    "1"
   ]
  },
  {
   "cell_type": "code",
   "execution_count": 5,
   "id": "dcaa53e2",
   "metadata": {},
   "outputs": [
    {
     "data": {
      "text/plain": [
       "1"
      ]
     },
     "execution_count": 5,
     "metadata": {},
     "output_type": "execute_result"
    }
   ],
   "source": [
    "foo"
   ]
  },
  {
   "cell_type": "markdown",
   "id": "090f09e4",
   "metadata": {},
   "source": [
    "There's really no good reason to write such a simple expression over multiple lines.  However, if you have long expressions, you might want to break them up for readability.  Most Python style guides suggest lines should not be too long - 80 characters is a standard recommendation although there are a few guides which are more permissive."
   ]
  },
  {
   "cell_type": "code",
   "execution_count": 8,
   "id": "2188254e",
   "metadata": {},
   "outputs": [
    {
     "data": {
      "text/plain": [
       "939"
      ]
     },
     "execution_count": 8,
     "metadata": {},
     "output_type": "execute_result"
    }
   ],
   "source": [
    "def myexpression(x):\n",
    "    return \\\n",
    "        3 * x**2 + \\\n",
    "        16 * x + \\\n",
    "        24\n",
    "myexpression(15)"
   ]
  },
  {
   "cell_type": "markdown",
   "id": "2a860ae8",
   "metadata": {},
   "source": [
    "However, there is an exception to the end-of-line equals end-of-expression rule.  If you have an \"open\" delimiter like `(`, `[`, or `{`, then the expression **automatically** is assumed to continue to the next line, and you don't need to use the backslash character to continue the expression.\n",
    "\n",
    "So I could write the function `myexpression` like this as well, by wrapping the expression inside parentheses.\n",
    "There parentheses don't affect the meaning of the code, but by having the open parenthesis, the expression automatically extends to the next line.\n",
    "\n",
    "Further, I use the flexibility of spacing to lay out the expression in a way that is visually appealing (I think!)"
   ]
  },
  {
   "cell_type": "code",
   "execution_count": 9,
   "id": "9bc37806",
   "metadata": {},
   "outputs": [
    {
     "data": {
      "text/plain": [
       "939"
      ]
     },
     "execution_count": 9,
     "metadata": {},
     "output_type": "execute_result"
    }
   ],
   "source": [
    "def myexpression(x):\n",
    "    return (\n",
    "        3 * x**2 +\n",
    "        16 * x +\n",
    "        24\n",
    "    )\n",
    "myexpression(15)"
   ]
  },
  {
   "cell_type": "markdown",
   "id": "4585b814",
   "metadata": {},
   "source": [
    "This technique combines very well with working with `DataFrame`s and transforming data in `pandas`.\n",
    "\n",
    "For example, when I have created ad-hoc `DataFrame`s, I usually use a layout like the one below.  This creates a `DataFrame` based on a list of `dict`s.  In this case, I am able to put one row of the `DataFrame` (one `dict`) on each line.  Further, because I have open delimiters - two in fact (a parenthesis and a square bracket), I don't have to worry about explicitly continuing a line."
   ]
  },
  {
   "cell_type": "code",
   "execution_count": 11,
   "id": "54d863a7",
   "metadata": {},
   "outputs": [
    {
     "data": {
      "text/html": [
       "<div>\n",
       "<style scoped>\n",
       "    .dataframe tbody tr th:only-of-type {\n",
       "        vertical-align: middle;\n",
       "    }\n",
       "\n",
       "    .dataframe tbody tr th {\n",
       "        vertical-align: top;\n",
       "    }\n",
       "\n",
       "    .dataframe thead th {\n",
       "        text-align: right;\n",
       "    }\n",
       "</style>\n",
       "<table border=\"1\" class=\"dataframe\">\n",
       "  <thead>\n",
       "    <tr style=\"text-align: right;\">\n",
       "      <th></th>\n",
       "      <th>city</th>\n",
       "      <th>temperature</th>\n",
       "    </tr>\n",
       "  </thead>\n",
       "  <tbody>\n",
       "    <tr>\n",
       "      <th>0</th>\n",
       "      <td>Aberdeen</td>\n",
       "      <td>0</td>\n",
       "    </tr>\n",
       "    <tr>\n",
       "      <th>1</th>\n",
       "      <td>Norwich</td>\n",
       "      <td>5</td>\n",
       "    </tr>\n",
       "  </tbody>\n",
       "</table>\n",
       "</div>"
      ],
      "text/plain": [
       "       city  temperature\n",
       "0  Aberdeen            0\n",
       "1   Norwich            5"
      ]
     },
     "execution_count": 11,
     "metadata": {},
     "output_type": "execute_result"
    }
   ],
   "source": [
    "import pandas as pd\n",
    "df = pd.DataFrame([\n",
    "    {'city': \"Aberdeen\", 'temperature': 0},\n",
    "    {'city': \"Norwich\", 'temperature': 5}\n",
    "])\n",
    "df"
   ]
  },
  {
   "cell_type": "markdown",
   "id": "c622923f",
   "metadata": {},
   "source": [
    "Compare this with the below, which is exactly equivalent, but more difficult to read, and more difficult to keep your delimiters straight - there is the sequence of `([{` and then the sequence of `}])`."
   ]
  },
  {
   "cell_type": "code",
   "execution_count": 13,
   "id": "36013ed5",
   "metadata": {},
   "outputs": [
    {
     "data": {
      "text/html": [
       "<div>\n",
       "<style scoped>\n",
       "    .dataframe tbody tr th:only-of-type {\n",
       "        vertical-align: middle;\n",
       "    }\n",
       "\n",
       "    .dataframe tbody tr th {\n",
       "        vertical-align: top;\n",
       "    }\n",
       "\n",
       "    .dataframe thead th {\n",
       "        text-align: right;\n",
       "    }\n",
       "</style>\n",
       "<table border=\"1\" class=\"dataframe\">\n",
       "  <thead>\n",
       "    <tr style=\"text-align: right;\">\n",
       "      <th></th>\n",
       "      <th>city</th>\n",
       "      <th>temperature</th>\n",
       "    </tr>\n",
       "  </thead>\n",
       "  <tbody>\n",
       "    <tr>\n",
       "      <th>0</th>\n",
       "      <td>Aberdeen</td>\n",
       "      <td>0</td>\n",
       "    </tr>\n",
       "    <tr>\n",
       "      <th>1</th>\n",
       "      <td>Norwich</td>\n",
       "      <td>5</td>\n",
       "    </tr>\n",
       "  </tbody>\n",
       "</table>\n",
       "</div>"
      ],
      "text/plain": [
       "       city  temperature\n",
       "0  Aberdeen            0\n",
       "1   Norwich            5"
      ]
     },
     "execution_count": 13,
     "metadata": {},
     "output_type": "execute_result"
    }
   ],
   "source": [
    "df = pd.DataFrame([{'city': \"Aberdeen\", 'temperature': 0}, {'city': \"Norwich\", 'temperature': 5}])\n",
    "df"
   ]
  },
  {
   "cell_type": "markdown",
   "id": "c971361a",
   "metadata": {},
   "source": [
    "## Mini-focus: Strings in Python\n",
    "\n",
    "Python takes a flexible approach to how you indicate literal text strings.  In particular, you can use either single-quotes or double-quotes - as long as you use the same type of quotes on each string.  You can mix-and-match all you want with different strings.\n",
    "\n",
    "In the above, I used both double-quotes (when giving the city names) and single-quotes (when giving the field names).  This is a convention I use myself - I use the different types of quoting to denote different types of information.  I usually use single-quotes for column names and double-quotes for data values.  However, you will also find plenty of examples where I don't follow this convention.  And, it's purely a personal convention - an example of using the language to let you try to express more information to the human reader.\n",
    "\n",
    "I could just as well create the previous DataFrame like this.  It's exactly the same and exactly as correct."
   ]
  },
  {
   "cell_type": "code",
   "execution_count": 14,
   "id": "9fde100b",
   "metadata": {},
   "outputs": [
    {
     "data": {
      "text/html": [
       "<div>\n",
       "<style scoped>\n",
       "    .dataframe tbody tr th:only-of-type {\n",
       "        vertical-align: middle;\n",
       "    }\n",
       "\n",
       "    .dataframe tbody tr th {\n",
       "        vertical-align: top;\n",
       "    }\n",
       "\n",
       "    .dataframe thead th {\n",
       "        text-align: right;\n",
       "    }\n",
       "</style>\n",
       "<table border=\"1\" class=\"dataframe\">\n",
       "  <thead>\n",
       "    <tr style=\"text-align: right;\">\n",
       "      <th></th>\n",
       "      <th>city</th>\n",
       "      <th>temperature</th>\n",
       "    </tr>\n",
       "  </thead>\n",
       "  <tbody>\n",
       "    <tr>\n",
       "      <th>0</th>\n",
       "      <td>Aberdeen</td>\n",
       "      <td>0</td>\n",
       "    </tr>\n",
       "    <tr>\n",
       "      <th>1</th>\n",
       "      <td>Norwich</td>\n",
       "      <td>5</td>\n",
       "    </tr>\n",
       "  </tbody>\n",
       "</table>\n",
       "</div>"
      ],
      "text/plain": [
       "       city  temperature\n",
       "0  Aberdeen            0\n",
       "1   Norwich            5"
      ]
     },
     "execution_count": 14,
     "metadata": {},
     "output_type": "execute_result"
    }
   ],
   "source": [
    "df = pd.DataFrame([\n",
    "    {'city': 'Aberdeen', 'temperature': 0},\n",
    "    {'city': 'Norwich', 'temperature': 5}\n",
    "])\n",
    "df"
   ]
  },
  {
   "cell_type": "markdown",
   "id": "0331b287",
   "metadata": {},
   "source": [
    "Allowing both the single-quote and double-quote makes it easier to deal with text strings which themselves have quotes in them.  If we have a string that has a single-quote in it, then we can use double-quotes to indicate the string:"
   ]
  },
  {
   "cell_type": "code",
   "execution_count": 24,
   "id": "65ca53c9",
   "metadata": {},
   "outputs": [
    {
     "data": {
      "text/plain": [
       "\"Dwayne 'The Rock' Johnson\""
      ]
     },
     "execution_count": 24,
     "metadata": {},
     "output_type": "execute_result"
    }
   ],
   "source": [
    "\"Dwayne 'The Rock' Johnson\""
   ]
  },
  {
   "cell_type": "markdown",
   "id": "814c59b3",
   "metadata": {},
   "source": [
    "Or, if we have a string that has a double-quote inside of it, we can use single-quotes to indicate the string:"
   ]
  },
  {
   "cell_type": "code",
   "execution_count": 25,
   "id": "3f8ddc00",
   "metadata": {},
   "outputs": [
    {
     "data": {
      "text/plain": [
       "'Dwayne \"The Rock\" Johnson'"
      ]
     },
     "execution_count": 25,
     "metadata": {},
     "output_type": "execute_result"
    }
   ],
   "source": [
    "'Dwayne \"The Rock\" Johnson'"
   ]
  },
  {
   "cell_type": "markdown",
   "id": "a5ffb910",
   "metadata": {},
   "source": [
    "Of course, the two strings are *not* the same, because although single-quotes and double-quotes both mean \"this is a string\" in Python, when comparing the text **inside** the string, a single-quote and a double-quote are different characters."
   ]
  },
  {
   "cell_type": "code",
   "execution_count": 26,
   "id": "696c0ca1",
   "metadata": {},
   "outputs": [
    {
     "data": {
      "text/plain": [
       "False"
      ]
     },
     "execution_count": 26,
     "metadata": {},
     "output_type": "execute_result"
    }
   ],
   "source": [
    "\"Dwayne 'The Rock' Johnson\" == 'Dwayne \"The Rock\" Johnson'"
   ]
  },
  {
   "cell_type": "markdown",
   "id": "94116b87",
   "metadata": {},
   "source": [
    "As noted before, however, we don't like to have long lines in programs because they're difficult to read and difficult to maintain.  Python allows you to create multi-line strings using **three double-quotes** or **three single-quotes** in succession.\n",
    "If you do this, everything between the quotes is included in the string.  Notice below that the newline characters (represented by `\\n` in the output) are retained, so the formatting inside these strings is significant and is taken literally."
   ]
  },
  {
   "cell_type": "code",
   "execution_count": 20,
   "id": "df6eb1ca",
   "metadata": {},
   "outputs": [
    {
     "data": {
      "text/plain": [
       "\"It is a period of civil war.\\nRebel spaceships, striking\\nfrom a hidden base, have won\\ntheir first victory against\\nthe evil Galactic Empire.\\n\\nDuring the battle, Rebel\\nspies managed to steal secret\\nplans to the Empire's\\nultimate weapon, the DEATH\\nSTAR, an armored space\\nstation with enough power to\\ndestroy an entire planet.\\n\\nPursued by the Empire's\\nsinister agents, Princess\\nLeia races home aboard her\\nstarship, custodian of the\\nstolen plans that can save\\nher people and restore\\nfreedom to the galaxy....\\n\""
      ]
     },
     "execution_count": 20,
     "metadata": {},
     "output_type": "execute_result"
    }
   ],
   "source": [
    "\"\"\"It is a period of civil war.\n",
    "Rebel spaceships, striking\n",
    "from a hidden base, have won\n",
    "their first victory against\n",
    "the evil Galactic Empire.\n",
    "\n",
    "During the battle, Rebel\n",
    "spies managed to steal secret\n",
    "plans to the Empire's\n",
    "ultimate weapon, the DEATH\n",
    "STAR, an armored space\n",
    "station with enough power to\n",
    "destroy an entire planet.\n",
    "\n",
    "Pursued by the Empire's\n",
    "sinister agents, Princess\n",
    "Leia races home aboard her\n",
    "starship, custodian of the\n",
    "stolen plans that can save\n",
    "her people and restore\n",
    "freedom to the galaxy....\n",
    "\"\"\""
   ]
  },
  {
   "cell_type": "markdown",
   "id": "e8abf434",
   "metadata": {},
   "source": [
    "But what if you don't want to retain the newlines?  Python also automatically joins up strings which are adjacent.  So we could write:"
   ]
  },
  {
   "cell_type": "code",
   "execution_count": 21,
   "id": "153d5020",
   "metadata": {},
   "outputs": [
    {
     "data": {
      "text/plain": [
       "'It is a period of civil war. Rebel spaceships, striking from a hidden base, have won their first victory against the evil Galactic Empire.'"
      ]
     },
     "execution_count": 21,
     "metadata": {},
     "output_type": "execute_result"
    }
   ],
   "source": [
    "crawler = (\n",
    "    \"It is a period of civil war. \"\n",
    "    \"Rebel spaceships, striking \"\n",
    "    \"from a hidden base, have won \"\n",
    "    \"their first victory against \"\n",
    "    \"the evil Galactic Empire.\"\n",
    ")\n",
    "crawler"
   ]
  },
  {
   "cell_type": "markdown",
   "id": "68d1843e",
   "metadata": {},
   "source": [
    "This feature is useful, but also leads to a type of error, which arises from a common kind of typo where you forget to put, for example, a comma between successive strings in a list.\n",
    "\n",
    "For example, in the below I forgot the comma between `'city'` and `'temperature'`.  You might think this would be a syntax error and Python would tell you something is missing.  But actually, what it does is treats this like you wrote `'citytemperature`', and as a result the error we get is from `pandas` telling us there is no such column.  This can be a tricky kind of bug to track down because if you search your code for `citytemperature`, you won't find it...!"
   ]
  },
  {
   "cell_type": "code",
   "execution_count": 23,
   "id": "c74a70c5",
   "metadata": {},
   "outputs": [
    {
     "ename": "KeyError",
     "evalue": "\"None of [Index(['citytemperature'], dtype='object')] are in the [columns]\"",
     "output_type": "error",
     "traceback": [
      "\u001b[0;31m---------------------------------------------------------------------------\u001b[0m",
      "\u001b[0;31mKeyError\u001b[0m                                  Traceback (most recent call last)",
      "Cell \u001b[0;32mIn [23], line 1\u001b[0m\n\u001b[0;32m----> 1\u001b[0m \u001b[43mdf\u001b[49m\u001b[43m[\u001b[49m\u001b[43m[\u001b[49m\u001b[38;5;124;43m'\u001b[39;49m\u001b[38;5;124;43mcity\u001b[39;49m\u001b[38;5;124;43m'\u001b[39;49m\u001b[43m \u001b[49m\u001b[38;5;124;43m'\u001b[39;49m\u001b[38;5;124;43mtemperature\u001b[39;49m\u001b[38;5;124;43m'\u001b[39;49m\u001b[43m]\u001b[49m\u001b[43m]\u001b[49m\n",
      "File \u001b[0;32m~/.pyenv/versions/3.8.12/envs/eco7026a/lib/python3.8/site-packages/pandas/core/frame.py:3030\u001b[0m, in \u001b[0;36mDataFrame.__getitem__\u001b[0;34m(self, key)\u001b[0m\n\u001b[1;32m   3028\u001b[0m     \u001b[38;5;28;01mif\u001b[39;00m is_iterator(key):\n\u001b[1;32m   3029\u001b[0m         key \u001b[38;5;241m=\u001b[39m \u001b[38;5;28mlist\u001b[39m(key)\n\u001b[0;32m-> 3030\u001b[0m     indexer \u001b[38;5;241m=\u001b[39m \u001b[38;5;28;43mself\u001b[39;49m\u001b[38;5;241;43m.\u001b[39;49m\u001b[43mloc\u001b[49m\u001b[38;5;241;43m.\u001b[39;49m\u001b[43m_get_listlike_indexer\u001b[49m\u001b[43m(\u001b[49m\u001b[43mkey\u001b[49m\u001b[43m,\u001b[49m\u001b[43m \u001b[49m\u001b[43maxis\u001b[49m\u001b[38;5;241;43m=\u001b[39;49m\u001b[38;5;241;43m1\u001b[39;49m\u001b[43m,\u001b[49m\u001b[43m \u001b[49m\u001b[43mraise_missing\u001b[49m\u001b[38;5;241;43m=\u001b[39;49m\u001b[38;5;28;43;01mTrue\u001b[39;49;00m\u001b[43m)\u001b[49m[\u001b[38;5;241m1\u001b[39m]\n\u001b[1;32m   3032\u001b[0m \u001b[38;5;66;03m# take() does not accept boolean indexers\u001b[39;00m\n\u001b[1;32m   3033\u001b[0m \u001b[38;5;28;01mif\u001b[39;00m \u001b[38;5;28mgetattr\u001b[39m(indexer, \u001b[38;5;124m\"\u001b[39m\u001b[38;5;124mdtype\u001b[39m\u001b[38;5;124m\"\u001b[39m, \u001b[38;5;28;01mNone\u001b[39;00m) \u001b[38;5;241m==\u001b[39m \u001b[38;5;28mbool\u001b[39m:\n",
      "File \u001b[0;32m~/.pyenv/versions/3.8.12/envs/eco7026a/lib/python3.8/site-packages/pandas/core/indexing.py:1266\u001b[0m, in \u001b[0;36m_LocIndexer._get_listlike_indexer\u001b[0;34m(self, key, axis, raise_missing)\u001b[0m\n\u001b[1;32m   1263\u001b[0m \u001b[38;5;28;01melse\u001b[39;00m:\n\u001b[1;32m   1264\u001b[0m     keyarr, indexer, new_indexer \u001b[38;5;241m=\u001b[39m ax\u001b[38;5;241m.\u001b[39m_reindex_non_unique(keyarr)\n\u001b[0;32m-> 1266\u001b[0m \u001b[38;5;28;43mself\u001b[39;49m\u001b[38;5;241;43m.\u001b[39;49m\u001b[43m_validate_read_indexer\u001b[49m\u001b[43m(\u001b[49m\u001b[43mkeyarr\u001b[49m\u001b[43m,\u001b[49m\u001b[43m \u001b[49m\u001b[43mindexer\u001b[49m\u001b[43m,\u001b[49m\u001b[43m \u001b[49m\u001b[43maxis\u001b[49m\u001b[43m,\u001b[49m\u001b[43m \u001b[49m\u001b[43mraise_missing\u001b[49m\u001b[38;5;241;43m=\u001b[39;49m\u001b[43mraise_missing\u001b[49m\u001b[43m)\u001b[49m\n\u001b[1;32m   1267\u001b[0m \u001b[38;5;28;01mreturn\u001b[39;00m keyarr, indexer\n",
      "File \u001b[0;32m~/.pyenv/versions/3.8.12/envs/eco7026a/lib/python3.8/site-packages/pandas/core/indexing.py:1308\u001b[0m, in \u001b[0;36m_LocIndexer._validate_read_indexer\u001b[0;34m(self, key, indexer, axis, raise_missing)\u001b[0m\n\u001b[1;32m   1306\u001b[0m \u001b[38;5;28;01mif\u001b[39;00m missing \u001b[38;5;241m==\u001b[39m \u001b[38;5;28mlen\u001b[39m(indexer):\n\u001b[1;32m   1307\u001b[0m     axis_name \u001b[38;5;241m=\u001b[39m \u001b[38;5;28mself\u001b[39m\u001b[38;5;241m.\u001b[39mobj\u001b[38;5;241m.\u001b[39m_get_axis_name(axis)\n\u001b[0;32m-> 1308\u001b[0m     \u001b[38;5;28;01mraise\u001b[39;00m \u001b[38;5;167;01mKeyError\u001b[39;00m(\u001b[38;5;124mf\u001b[39m\u001b[38;5;124m\"\u001b[39m\u001b[38;5;124mNone of [\u001b[39m\u001b[38;5;132;01m{\u001b[39;00mkey\u001b[38;5;132;01m}\u001b[39;00m\u001b[38;5;124m] are in the [\u001b[39m\u001b[38;5;132;01m{\u001b[39;00maxis_name\u001b[38;5;132;01m}\u001b[39;00m\u001b[38;5;124m]\u001b[39m\u001b[38;5;124m\"\u001b[39m)\n\u001b[1;32m   1310\u001b[0m ax \u001b[38;5;241m=\u001b[39m \u001b[38;5;28mself\u001b[39m\u001b[38;5;241m.\u001b[39mobj\u001b[38;5;241m.\u001b[39m_get_axis(axis)\n\u001b[1;32m   1312\u001b[0m \u001b[38;5;66;03m# We (temporarily) allow for some missing keys with .loc, except in\u001b[39;00m\n\u001b[1;32m   1313\u001b[0m \u001b[38;5;66;03m# some cases (e.g. setting) in which \"raise_missing\" will be False\u001b[39;00m\n",
      "\u001b[0;31mKeyError\u001b[0m: \"None of [Index(['citytemperature'], dtype='object')] are in the [columns]\""
     ]
    }
   ],
   "source": [
    "df[['city' 'temperature']]"
   ]
  },
  {
   "cell_type": "code",
   "execution_count": null,
   "id": "9ce8e617",
   "metadata": {},
   "outputs": [],
   "source": []
  }
 ],
 "metadata": {
  "kernelspec": {
   "display_name": "Python 3 (ipykernel)",
   "language": "python",
   "name": "python3"
  },
  "language_info": {
   "codemirror_mode": {
    "name": "ipython",
    "version": 3
   },
   "file_extension": ".py",
   "mimetype": "text/x-python",
   "name": "python",
   "nbconvert_exporter": "python",
   "pygments_lexer": "ipython3",
   "version": "3.8.12"
  }
 },
 "nbformat": 4,
 "nbformat_minor": 5
}
