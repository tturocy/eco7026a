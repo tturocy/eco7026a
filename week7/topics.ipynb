{
 "cells": [
  {
   "cell_type": "markdown",
   "id": "d4311ceb",
   "metadata": {},
   "source": [
    "## The Zen of Python"
   ]
  },
  {
   "cell_type": "code",
   "execution_count": null,
   "id": "bb3cd0b2",
   "metadata": {},
   "outputs": [],
   "source": [
    "import this"
   ]
  },
  {
   "cell_type": "markdown",
   "id": "745c8a70",
   "metadata": {},
   "source": [
    "## Mini-focus: Code layout and structure in Python\n",
    "\n",
    "Python is an unusual language in that \"whitespace\" (spaces, tabs, newlines, and so forth) are significant in determining what is valid Python.\n",
    "\n",
    "This was (is?) shocking to proponents of other languages.  For example, in Python, we would write a for loop like this:\n",
    "\n",
    "```\n",
    "for i in range(5):\n",
    "    print(i)\n",
    "```\n",
    "\n",
    "where the `print` function call must be indented.  Although you have choice HOW MUCH to indent (as long as your are consistent), you MUST indent.\n",
    "\n",
    "Meanwhile, in other languages like C, one would write\n",
    "\n",
    "```\n",
    "for (i = 0; i < 5; i++) {\n",
    "    printf(\"%d\", i);\n",
    "}\n",
    "```\n",
    "\n",
    "But also it could be written\n",
    "\n",
    "```\n",
    "for (i = 0; i < 5; i++) { printf(\"%d\", i); }\n",
    "```\n",
    "\n",
    "```\n",
    "for (i = 0; i < 5; i++) \n",
    "{\n",
    "    printf(\"%d\", i);\n",
    "}\n",
    "```\n",
    "\n",
    "```\n",
    "for(i=0;i<5;i++)printf(\"%d\",i);\n",
    "```\n",
    "\n",
    "among a myriad of other ways.\n",
    "\n",
    "An important implication of the spacing rules of Python is that they (somewhat) encourage you to structure your code to make it more human-readable.  We'll look a bit at some potentially confusing points and also some suggestions for good practice.\n",
    "\n"
   ]
  },
  {
   "cell_type": "markdown",
   "id": "afc0eb69",
   "metadata": {},
   "source": [
    "You may have noticed I tend to have certain conventions in how I have laid out the expressions I have written.\n",
    "\n",
    "First, because spacing is important in Python, an expression ends at the end of a line.  So for example I cannot do"
   ]
  },
  {
   "cell_type": "code",
   "execution_count": null,
   "id": "e9ce89e3",
   "metadata": {},
   "outputs": [],
   "source": [
    "foo =\n",
    "1"
   ]
  },
  {
   "cell_type": "markdown",
   "id": "9f1b13f6",
   "metadata": {},
   "source": [
    "The end of the line ends the expression, which is incomplete because Python is expecting something to be on the right-side of that assignment.  Now, if we had a good reason to, there is a way to continue an expression across multiple lines, which is using the `\\` (backslash) character:"
   ]
  },
  {
   "cell_type": "code",
   "execution_count": null,
   "id": "8e521af5",
   "metadata": {},
   "outputs": [],
   "source": [
    "foo = \\\n",
    "1"
   ]
  },
  {
   "cell_type": "code",
   "execution_count": null,
   "id": "dcaa53e2",
   "metadata": {},
   "outputs": [],
   "source": [
    "foo"
   ]
  },
  {
   "cell_type": "markdown",
   "id": "090f09e4",
   "metadata": {},
   "source": [
    "There's really no good reason to write such a simple expression over multiple lines.  However, if you have long expressions, you might want to break them up for readability.  Most Python style guides suggest lines should not be too long - 80 characters is a standard recommendation although there are a few guides which are more permissive."
   ]
  },
  {
   "cell_type": "code",
   "execution_count": null,
   "id": "2188254e",
   "metadata": {},
   "outputs": [],
   "source": [
    "def myexpression(x):\n",
    "    return \\\n",
    "        3 * x**2 + \\\n",
    "        16 * x + \\\n",
    "        24\n",
    "myexpression(15)"
   ]
  },
  {
   "cell_type": "markdown",
   "id": "2a860ae8",
   "metadata": {},
   "source": [
    "However, there is an exception to the end-of-line equals end-of-expression rule.  If you have an \"open\" delimiter like `(`, `[`, or `{`, then the expression **automatically** is assumed to continue to the next line, and you don't need to use the backslash character to continue the expression.\n",
    "\n",
    "So I could write the function `myexpression` like this as well, by wrapping the expression inside parentheses.\n",
    "There parentheses don't affect the meaning of the code, but by having the open parenthesis, the expression automatically extends to the next line.\n",
    "\n",
    "Further, I use the flexibility of spacing to lay out the expression in a way that is visually appealing (I think!)"
   ]
  },
  {
   "cell_type": "code",
   "execution_count": null,
   "id": "9bc37806",
   "metadata": {},
   "outputs": [],
   "source": [
    "def myexpression(x):\n",
    "    return (\n",
    "        3 * x**2 +\n",
    "        16 * x +\n",
    "        24\n",
    "    )\n",
    "myexpression(15)"
   ]
  },
  {
   "cell_type": "markdown",
   "id": "4585b814",
   "metadata": {},
   "source": [
    "This technique combines very well with working with `DataFrame`s and transforming data in `pandas`.\n",
    "\n",
    "For example, when I have created ad-hoc `DataFrame`s, I usually use a layout like the one below.  This creates a `DataFrame` based on a list of `dict`s.  In this case, I am able to put one row of the `DataFrame` (one `dict`) on each line.  Further, because I have open delimiters - two in fact (a parenthesis and a square bracket), I don't have to worry about explicitly continuing a line."
   ]
  },
  {
   "cell_type": "code",
   "execution_count": null,
   "id": "54d863a7",
   "metadata": {},
   "outputs": [],
   "source": [
    "import pandas as pd\n",
    "df = pd.DataFrame([\n",
    "    {'city': \"Aberdeen\", 'temperature': 0},\n",
    "    {'city': \"Norwich\", 'temperature': 5}\n",
    "])\n",
    "df"
   ]
  },
  {
   "cell_type": "markdown",
   "id": "c622923f",
   "metadata": {},
   "source": [
    "Compare this with the below, which is exactly equivalent, but more difficult to read, and more difficult to keep your delimiters straight - there is the sequence of `([{` and then the sequence of `}])`."
   ]
  },
  {
   "cell_type": "code",
   "execution_count": null,
   "id": "36013ed5",
   "metadata": {},
   "outputs": [],
   "source": [
    "temps = pd.DataFrame([{'city': \"Aberdeen\", 'temperature': 0}, {'city': \"Norwich\", 'temperature': 5}])\n",
    "temps"
   ]
  },
  {
   "cell_type": "markdown",
   "id": "c971361a",
   "metadata": {},
   "source": [
    "## Mini-focus: Strings in Python\n",
    "\n",
    "Python takes a flexible approach to how you indicate literal text strings.  In particular, you can use either single-quotes or double-quotes - as long as you use the same type of quotes on each string.  You can mix-and-match all you want with different strings.\n",
    "\n",
    "In the above, I used both double-quotes (when giving the city names) and single-quotes (when giving the field names).  This is a convention I use myself - I use the different types of quoting to denote different types of information.  I usually use single-quotes for column names and double-quotes for data values.  However, you will also find plenty of examples where I don't follow this convention.  And, it's purely a personal convention - an example of using the language to let you try to express more information to the human reader.\n",
    "\n",
    "I could just as well create the previous DataFrame like this.  It's exactly the same and exactly as correct."
   ]
  },
  {
   "cell_type": "code",
   "execution_count": null,
   "id": "9fde100b",
   "metadata": {},
   "outputs": [],
   "source": [
    "temps = pd.DataFrame([\n",
    "    {'city': 'Aberdeen', 'temperature': 0},\n",
    "    {'city': 'Norwich', 'temperature': 5}\n",
    "])\n",
    "temps"
   ]
  },
  {
   "cell_type": "markdown",
   "id": "0331b287",
   "metadata": {},
   "source": [
    "Allowing both the single-quote and double-quote makes it easier to deal with text strings which themselves have quotes in them.  If we have a string that has a single-quote in it, then we can use double-quotes to indicate the string:"
   ]
  },
  {
   "cell_type": "code",
   "execution_count": null,
   "id": "65ca53c9",
   "metadata": {},
   "outputs": [],
   "source": [
    "\"Dwayne 'The Rock' Johnson\""
   ]
  },
  {
   "cell_type": "markdown",
   "id": "814c59b3",
   "metadata": {},
   "source": [
    "Or, if we have a string that has a double-quote inside of it, we can use single-quotes to indicate the string:"
   ]
  },
  {
   "cell_type": "code",
   "execution_count": null,
   "id": "3f8ddc00",
   "metadata": {},
   "outputs": [],
   "source": [
    "'Dwayne \"The Rock\" Johnson'"
   ]
  },
  {
   "cell_type": "markdown",
   "id": "a5ffb910",
   "metadata": {},
   "source": [
    "Of course, the two strings are *not* the same, because although single-quotes and double-quotes both mean \"this is a string\" in Python, when comparing the text **inside** the string, a single-quote and a double-quote are different characters."
   ]
  },
  {
   "cell_type": "code",
   "execution_count": null,
   "id": "696c0ca1",
   "metadata": {},
   "outputs": [],
   "source": [
    "\"Dwayne 'The Rock' Johnson\" == 'Dwayne \"The Rock\" Johnson'"
   ]
  },
  {
   "cell_type": "markdown",
   "id": "94116b87",
   "metadata": {},
   "source": [
    "As noted before, however, we don't like to have long lines in programs because they're difficult to read and difficult to maintain.  Python allows you to create multi-line strings using **three double-quotes** or **three single-quotes** in succession.\n",
    "If you do this, everything between the quotes is included in the string.  Notice below that the newline characters (represented by `\\n` in the output) are retained, so the formatting inside these strings is significant and is taken literally."
   ]
  },
  {
   "cell_type": "markdown",
   "id": "3604739d",
   "metadata": {},
   "source": [
    "If for some reason you really wanted to use double-quotes for strings everywhere but had a string with a double-quote in it, you can \"escape\" the quotes by putting a backslash before it."
   ]
  },
  {
   "cell_type": "code",
   "execution_count": null,
   "id": "a32eaf51",
   "metadata": {},
   "outputs": [],
   "source": [
    "\"Dwayne \\\"The Rock\\\" Johnson\""
   ]
  },
  {
   "cell_type": "code",
   "execution_count": null,
   "id": "df6eb1ca",
   "metadata": {},
   "outputs": [],
   "source": [
    "\"\"\"It is a period of civil war.\n",
    "Rebel spaceships, striking\n",
    "from a hidden base, have won\n",
    "their first victory against\n",
    "the evil Galactic Empire.\n",
    "\n",
    "During the battle, Rebel\n",
    "spies managed to steal secret\n",
    "plans to the Empire's\n",
    "ultimate weapon, the DEATH\n",
    "STAR, an armored space\n",
    "station with enough power to\n",
    "destroy an entire planet.\n",
    "\n",
    "Pursued by the Empire's\n",
    "sinister agents, Princess\n",
    "Leia races home aboard her\n",
    "starship, custodian of the\n",
    "stolen plans that can save\n",
    "her people and restore\n",
    "freedom to the galaxy....\n",
    "\"\"\""
   ]
  },
  {
   "cell_type": "markdown",
   "id": "e8abf434",
   "metadata": {},
   "source": [
    "But what if you don't want to retain the newlines?  Python also automatically joins up strings which are adjacent.  So we could write:"
   ]
  },
  {
   "cell_type": "code",
   "execution_count": null,
   "id": "153d5020",
   "metadata": {},
   "outputs": [],
   "source": [
    "crawler = (\n",
    "    \"It is a period of civil war. \"\n",
    "    \"Rebel spaceships, striking \"\n",
    "    \"from a hidden base, have won \"\n",
    "    \"their first victory against \"\n",
    "    \"the evil Galactic Empire.\"\n",
    ")\n",
    "crawler"
   ]
  },
  {
   "cell_type": "markdown",
   "id": "68d1843e",
   "metadata": {},
   "source": [
    "This feature is useful, but also leads to a type of error, which arises from a common kind of typo where you forget to put, for example, a comma between successive strings in a list.\n",
    "\n",
    "For example, in the below I forgot the comma between `'city'` and `'temperature'`.  You might think this would be a syntax error and Python would tell you something is missing.  But actually, what it does is treats this like you wrote `'citytemperature`', and as a result the error we get is from `pandas` telling us there is no such column.  This can be a tricky kind of bug to track down because if you search your code for `citytemperature`, you won't find it...!"
   ]
  },
  {
   "cell_type": "code",
   "execution_count": null,
   "id": "c74a70c5",
   "metadata": {},
   "outputs": [],
   "source": [
    "temps[['city' 'temperature']]"
   ]
  },
  {
   "cell_type": "markdown",
   "id": "99533b28",
   "metadata": {},
   "source": [
    "## Mini-focus: Documentation and help\n",
    "\n",
    "In most Python environments, you can access documentation on objects, function calls, and so on from within the interface, using `help`.\n",
    "\n",
    "Including these documentation strings (\"docstrings\") is something that package developers/maintainers are responsible for - but you'll find that mature and actively-developed packages, such as the ones we're focusing on in this module, will have very good coverage.  (In fact, those web-based help documents I've been linking to are actually generated by pulling these docstrings out of the code!)"
   ]
  },
  {
   "cell_type": "code",
   "execution_count": null,
   "id": "67d97350",
   "metadata": {},
   "outputs": [],
   "source": [
    "help(temps)"
   ]
  },
  {
   "cell_type": "code",
   "execution_count": null,
   "id": "47417eb2",
   "metadata": {},
   "outputs": [],
   "source": [
    "help(temps.assign)"
   ]
  },
  {
   "cell_type": "code",
   "execution_count": null,
   "id": "e595c4ce",
   "metadata": {},
   "outputs": [],
   "source": [
    "help(temps['city'])"
   ]
  },
  {
   "cell_type": "code",
   "execution_count": null,
   "id": "f8b17171",
   "metadata": {},
   "outputs": [],
   "source": [
    "help(temps['city'].str)"
   ]
  },
  {
   "cell_type": "markdown",
   "id": "8c5a1de4",
   "metadata": {},
   "source": [
    "## Mini-focus: Functions (and lambda)\n",
    "\n",
    "We've seen two ways to define functions: using `def` and using `lambda`.\n",
    "\n",
    "Most functions are defined using `def`.  For example, to convert Centigrade to Fahrenheit, we could write:"
   ]
  },
  {
   "cell_type": "code",
   "execution_count": null,
   "id": "9ce8e617",
   "metadata": {},
   "outputs": [],
   "source": [
    "def CtoF(x):\n",
    "    \"Converts from Centigrade to Fahrenheit temperatures\"\n",
    "    return 32 + 9*x/5"
   ]
  },
  {
   "cell_type": "code",
   "execution_count": null,
   "id": "9fb5c32f",
   "metadata": {},
   "outputs": [],
   "source": [
    "CtoF(10)"
   ]
  },
  {
   "cell_type": "markdown",
   "id": "f0c90f28",
   "metadata": {},
   "source": [
    "Python also allows functions to be defined using another syntax, using the `lambda` keyword.\n",
    "\n",
    "In the below, inside the first set of parentheses we define our function, and then we call it."
   ]
  },
  {
   "cell_type": "code",
   "execution_count": null,
   "id": "dfe425f6",
   "metadata": {},
   "outputs": [],
   "source": [
    "(lambda x: 32 + 9*x/5)(10)"
   ]
  },
  {
   "cell_type": "markdown",
   "id": "c1661f38",
   "metadata": {},
   "source": [
    "Functions defined by `lambda` work the same as those defined by `def`, with two restrictions:\n",
    "\n",
    "1. `lambda` functions can only consist of a single expression\n",
    "2. `lambda` functions are \"anonymous\".  They're intended to be used ad-hoc in one place.\n",
    "\n",
    "The benefit of `lambda` functions is they are more compact to define, which can help with readability of code, as we'll see in a moment."
   ]
  },
  {
   "cell_type": "markdown",
   "id": "cfaa4351",
   "metadata": {},
   "source": [
    "Before we move on, you might notice I put a string in the first line of the function.  This is the function's `docstring`.  It's optional, but if you include it, it becomes the documentation of the function.\n",
    "\n",
    "Python is somewhat ununsual in that this convention of putting a string as the first line of a function definition is supported by the language itself.  In most languages, documentation is relegated to a comment, and you can't access it from within the language environment.  Python builds in documentation as a \"first-class\" concept.\n",
    "\n",
    "This also means that because I gave my function a docstring, I can access that help using the `help` facility!"
   ]
  },
  {
   "cell_type": "code",
   "execution_count": null,
   "id": "36ac503d",
   "metadata": {},
   "outputs": [],
   "source": [
    "help(CtoF)"
   ]
  },
  {
   "cell_type": "markdown",
   "id": "75b7f021",
   "metadata": {},
   "source": [
    "## Mini-focus: Transforming data columns\n",
    "\n",
    "We can put some of the above together to look more closely at what we are doing when we are transforming columns of data.  Using our simple temperature example, we'll look at several ways to solve the problem of creating a column of temperatures in Fahrenheit.  They're all \"correct\" - but we will also look at ways which are more robust and, importantly, easier for people to read.\n",
    "\n",
    "The simplest way to do this would be something like this:"
   ]
  },
  {
   "cell_type": "code",
   "execution_count": null,
   "id": "1b31f15d",
   "metadata": {},
   "outputs": [],
   "source": [
    "temps.assign(tempF=32 + 9*temps['temperature']/5)"
   ]
  },
  {
   "cell_type": "markdown",
   "id": "8b1d0f67",
   "metadata": {},
   "source": [
    "One way that can improve readability is to put the calculation into a named function; the function name then makes the intent of the calculation more clear.  This is quite useful especially if you have this function defined for some other reason, such as part of a library."
   ]
  },
  {
   "cell_type": "code",
   "execution_count": null,
   "id": "9b7f4d15",
   "metadata": {},
   "outputs": [],
   "source": [
    "temps.assign(tempF=CtoF(temps['temperature']))"
   ]
  },
  {
   "cell_type": "markdown",
   "id": "0d835d4a",
   "metadata": {},
   "source": [
    "But wait a minute here.  Previously we were calling `CtoF` just giving it a single number.  Now we are giving it a pandas `Series`.  What's going here?"
   ]
  },
  {
   "cell_type": "code",
   "execution_count": null,
   "id": "af4bccf7",
   "metadata": {},
   "outputs": [],
   "source": [
    "CtoF(temps['temperature'])"
   ]
  },
  {
   "cell_type": "code",
   "execution_count": null,
   "id": "02cd8246",
   "metadata": {},
   "outputs": [],
   "source": [
    "CtoF(10)"
   ]
  },
  {
   "cell_type": "markdown",
   "id": "3e1cdbef",
   "metadata": {},
   "source": [
    "Python determines the types of variables while running the code.  When we define `CtoF` as above, all we need for the code to run is that multiplication, division, and addition are defined on whatever we pass as `x` to the function.  These operations are defined on `Series` (as well as on floating-point numbers).  So we can call this function on a `Series` and it does the right thing.\n",
    "\n",
    "This is called \"duck typing\" in Python.  (\"If it looks like a duck...\")\n",
    "\n",
    "Remember that in general, when we're working with `assign`, we work with the entire `Series` (or column), and apply operations row-by-row.\n"
   ]
  },
  {
   "cell_type": "markdown",
   "id": "a148f29f",
   "metadata": {},
   "source": [
    "In the above code, we were computing a `Series` by passing temperatures through `CtoF`, and then passing them to `assign`.  Instead of passing a `Series` to `assign`, we can pass a **function** to `assign`.  `pandas` will then call that function to compute the value for the column.\n",
    "\n",
    "Here's where `lambda` functions can really shine.  When using `assign`, `pandas` will pass the `DataFrame` to your function, and so you can compute new columns using whatever combination of existing columns you might want."
   ]
  },
  {
   "cell_type": "code",
   "execution_count": null,
   "id": "73aeedad",
   "metadata": {},
   "outputs": [],
   "source": [
    "temps.assign(tempF=lambda x: 32 + 9*x['temperature']/5)"
   ]
  },
  {
   "cell_type": "markdown",
   "id": "7fbee1c1",
   "metadata": {},
   "source": [
    "Using a function with `assign` is also powerful because it works with the `DataFrame` as it is at the time you call `assign`.  So if you are chaining together several operations, you can write things like this - where we have better names for the temperature columns."
   ]
  },
  {
   "cell_type": "code",
   "execution_count": null,
   "id": "4a300b54",
   "metadata": {},
   "outputs": [],
   "source": [
    "(\n",
    "    temps.rename(columns={'temperature': 'tempC'})\n",
    "    .assign(tempF=lambda x: 32 + 9*x['tempC']/5)\n",
    ")"
   ]
  },
  {
   "cell_type": "markdown",
   "id": "b5ffb85a",
   "metadata": {},
   "source": [
    "There's a useful (but a bit advanced) Python language feature which works really well with `assign`.  When we write `columns=` or `tempF=` in the above, these are called \"keyword arguments\" to those functions (because we specify the names of the arguments, specifically `columns` or `tempF` in this case).\n",
    "\n",
    "Python allows you also to specify keyword arguments to functions using **\"dictionary unpacking\"**.  We can create a dictionary of the arguments to the function, and then pass them to the function, putting `**` in front of the dictionary."
   ]
  },
  {
   "cell_type": "code",
   "execution_count": null,
   "id": "c53402a7",
   "metadata": {},
   "outputs": [],
   "source": [
    "(\n",
    "    temps.rename(columns={'temperature': 'tempC'})\n",
    "    .assign(**{\n",
    "        'tempF': lambda x: 32 + 9*x['tempC']/5\n",
    "    })\n",
    ")"
   ]
  },
  {
   "cell_type": "markdown",
   "id": "b3768e8e",
   "metadata": {},
   "source": [
    "In most cases there's no difference between the two styles of calling `assign`, because unpacking the dictionary using `**` is exactly the same in Python as just passing the keyword arguments.  However, you can have valid column names in `pandas` which are not valid argument names in Python.  The most common situation - which we've encountered already - is when there is a full-stop in the name of a variable.\n",
    "\n",
    "In a situation like the below, we would need to use the dictionary-unpacking method as below in order to assign to the column `temp.F`.\n",
    "\n",
    "In my own practice, I just about **always** use dictionary-unpacking with `assign`.  But it is completely OK to use the keyword-argument method as well in the usual case."
   ]
  },
  {
   "cell_type": "code",
   "execution_count": null,
   "id": "661460ed",
   "metadata": {},
   "outputs": [],
   "source": [
    "(\n",
    "    temps.rename(columns={'temperature': 'temp.C'})\n",
    "    .assign(**{\n",
    "        'temp.F': lambda x: 32 + 9*x['temp.C']/5\n",
    "    })\n",
    ")"
   ]
  },
  {
   "cell_type": "markdown",
   "id": "ffc22a17",
   "metadata": {},
   "source": [
    "## Mini-topic: using `query` with awkward column names\n",
    "\n",
    "The `DataFrame` method called `query` is the usual way we select a subset of rows.  As we previously mentioned, it's a slightly unusual function because we write the expression for the selection criteria inside a text string, even though the expression we write inside of it is (usually) valid Python.  At this moment, let's not go into exactly why; you don't need to know the technical details in order to be able to get your work done!\n",
    "\n",
    "As above, however, when we have awkward column names, such as those with a full-stop in them, we can't write these:"
   ]
  },
  {
   "cell_type": "code",
   "execution_count": null,
   "id": "7d2e5536",
   "metadata": {},
   "outputs": [],
   "source": [
    "(\n",
    "    temps.rename(columns={'temperature': 'temp.C'})\n",
    "    .assign(**{\n",
    "        'temp.F': lambda x: 32 + 9*x['temp.C']/5\n",
    "    })\n",
    "    .query(\"temp.F > 40\")\n",
    ")"
   ]
  },
  {
   "cell_type": "markdown",
   "id": "d03886dc",
   "metadata": {},
   "source": [
    "We can solve this by surrounding the column name with \"back-ticks\".  This is the character \\`.  This is one of those characters that tends to go walkabout in terms of where it is on your keyboard - but don't confuse it with the single quote that we were using earlier for strings!"
   ]
  },
  {
   "cell_type": "code",
   "execution_count": null,
   "id": "ddfa71c5",
   "metadata": {},
   "outputs": [],
   "source": [
    "(\n",
    "    temps.rename(columns={'temperature': 'temp.C'})\n",
    "    .assign(**{\n",
    "        'temp.F': lambda x: 32 + 9*x['temp.C']/5\n",
    "    })\n",
    "    .query(\"`temp.F` > 40\")\n",
    ")"
   ]
  },
  {
   "cell_type": "markdown",
   "id": "8e27aab7",
   "metadata": {},
   "source": [
    "## When to use .str?\n",
    "\n",
    "Let's suppose our incoming data wasn't quite so nicely formatted, and instead looked like this."
   ]
  },
  {
   "cell_type": "code",
   "execution_count": null,
   "id": "9071cca7",
   "metadata": {},
   "outputs": [],
   "source": [
    "temps = pd.DataFrame([\n",
    "    {'City': \"aberdeen\", 'Temperature': 0},\n",
    "    {'City': \"norwich\", 'Temperature': 5}\n",
    "])\n",
    "temps"
   ]
  },
  {
   "cell_type": "markdown",
   "id": "7ae06b80",
   "metadata": {},
   "source": [
    "We could make some very good use of `lambda` functions to clean this data, because both `rename` and `assign` accept functions."
   ]
  },
  {
   "cell_type": "code",
   "execution_count": null,
   "id": "910c1b8f",
   "metadata": {},
   "outputs": [],
   "source": [
    "(\n",
    "    temps.rename(columns=lambda x: x.lower())\n",
    "    .assign(**{\n",
    "        'city': lambda x: x['city'].str.title()\n",
    "    })\n",
    ")"
   ]
  },
  {
   "cell_type": "markdown",
   "id": "4942ab0e",
   "metadata": {},
   "source": [
    "Notice however a difference.  When we call `rename`, we call the string function `lower` directly on the object being passed.  Meanwhile, when we call `assign`, we refer to the `.str` member of `x['city']` and then call the string function `title` on that.  This looks confusing!  (And, it is a bit confusing.)\n",
    "\n",
    "The difference is in what the functions are operating on.  When you call `rename` with a function, `pandas` passes each column name to the function in turn.  Column names are strings themselves.  So in that `lambda` function, `x` will be a string, and you can call string functions directly on it.\n",
    "\n",
    "What are the string functions?  Happy you asked!\n",
    "\n"
   ]
  },
  {
   "cell_type": "code",
   "execution_count": null,
   "id": "1f56b08d",
   "metadata": {},
   "outputs": [],
   "source": [
    "help(str)"
   ]
  },
  {
   "cell_type": "markdown",
   "id": "c1b63ca5",
   "metadata": {},
   "source": [
    "Meanwhile, when we are using `assign`, remember that what is being passed is a `DataFrame`, and in particular `x['city']` is going to be a `Series`.  The `Series` class collects all of the string operations under `.str`:"
   ]
  },
  {
   "cell_type": "code",
   "execution_count": null,
   "id": "7592d1b8",
   "metadata": {},
   "outputs": [],
   "source": [
    "help(pd.Series.str)"
   ]
  },
  {
   "cell_type": "markdown",
   "id": "83872aa9",
   "metadata": {},
   "source": [
    "In short: If you are working with a `Series`, you'll access string operations using `.str`.  Principally this will happen when you are doing operations on a column as a whole - and so the most common situation will be in the context of `assign`."
   ]
  }
 ],
 "metadata": {
  "kernelspec": {
   "display_name": "Python 3 (ipykernel)",
   "language": "python",
   "name": "python3"
  },
  "language_info": {
   "codemirror_mode": {
    "name": "ipython",
    "version": 3
   },
   "file_extension": ".py",
   "mimetype": "text/x-python",
   "name": "python",
   "nbconvert_exporter": "python",
   "pygments_lexer": "ipython3",
   "version": "3.8.12"
  }
 },
 "nbformat": 4,
 "nbformat_minor": 5
}
