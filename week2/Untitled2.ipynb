{
 "cells": [
  {
   "cell_type": "code",
   "execution_count": null,
   "id": "d68029c7",
   "metadata": {},
   "outputs": [],
   "source": [
    "import numpy as np\n",
    "import pandas as pd\n",
    "import os"
   ]
  },
  {
   "cell_type": "code",
   "execution_count": null,
   "id": "2291e72c",
   "metadata": {},
   "outputs": [],
   "source": [
    "a = np.array([[1,2],[3,4]])\n",
    "print(a)\n",
    "print(a*3)\n"
   ]
  },
  {
   "cell_type": "code",
   "execution_count": null,
   "id": "0c659a82",
   "metadata": {},
   "outputs": [],
   "source": [
    "m = np.array([[2,1],[1,2]])\n",
    "eigen_value, eigen_vector = np.linalg.eig(m)\n",
    "print(eigen_value)\n",
    "print(eigen_vector)"
   ]
  },
  {
   "cell_type": "code",
   "execution_count": null,
   "id": "9d0dfe7f",
   "metadata": {},
   "outputs": [],
   "source": [
    "from np import linalg as la"
   ]
  },
  {
   "cell_type": "code",
   "execution_count": null,
   "id": "d956a718",
   "metadata": {},
   "outputs": [],
   "source": [
    "from numpy import linalg as la \n",
    "eigen_value_, eigen_vector_ = la.eig(m)\n",
    "print(eigen_value_)\n",
    "print(eigen_vector_)"
   ]
  },
  {
   "cell_type": "code",
   "execution_count": null,
   "id": "93b194c8",
   "metadata": {},
   "outputs": [],
   "source": [
    "print(la.det(a))\n",
    "det = la.det(a)\n",
    "print(np.round(det))\n",
    "b = la.inv(a)\n",
    "print(b)\n",
    "print(np.matmul(b,a))\n"
   ]
  },
  {
   "cell_type": "code",
   "execution_count": null,
   "id": "4613fdb1",
   "metadata": {},
   "outputs": [],
   "source": [
    "s = pd.Series([3,2,3,4], name='inflation')\n",
    "print(s)\n",
    "s = pd.Series([3,2,3,4], name='inflation', index = [2008, 2009, 2010, 2011])\n",
    "print(s[2008])\n",
    "print(s.loc[2008:2010])\n"
   ]
  },
  {
   "cell_type": "code",
   "execution_count": null,
   "id": "31f750c5",
   "metadata": {},
   "outputs": [],
   "source": [
    "print(s.describe())\n",
    "print(s.count())\n",
    "print(s.mean())\n",
    "print(s.median())\n",
    "print(s.std())\n",
    "print(s.min())\n",
    "print(s.quantile(0.25))\n",
    "print(s.max())\n",
    "\n",
    "print(s.mode())\n",
    "print(s.skew())\n",
    "print(s.kurt())"
   ]
  },
  {
   "cell_type": "markdown",
   "id": "37890018",
   "metadata": {},
   "source": [
    "If the file is stored online on GitHub\n",
    "Link GitBub - Raw - Copy the hyperlink afterwords\n",
    "\n",
    "If the file is stored on your computer\n",
    "import os \n",
    "os. getcwd()\n",
    "#os.chdir(\"C:/Users/andre/Dropbox/University/Teaching/UEA/Module organiser/ECO-7026A Programming and Data Analytics for Behavioural Economists/Lecture 02\")\n"
   ]
  },
  {
   "cell_type": "code",
   "execution_count": null,
   "id": "12e8f850",
   "metadata": {},
   "outputs": [],
   "source": [
    "url = 'https://raw.githubusercontent.com/tturocy/eco7026a/main/week1/LRHUTTTTGBM156S.csv'\n",
    "df = pd.read_csv(url)"
   ]
  },
  {
   "cell_type": "code",
   "execution_count": null,
   "id": "a2d87970",
   "metadata": {},
   "outputs": [],
   "source": [
    "print(df)"
   ]
  },
  {
   "cell_type": "code",
   "execution_count": null,
   "id": "b33ddb09",
   "metadata": {},
   "outputs": [],
   "source": [
    "usa_data = pd.read_csv('https://raw.githubusercontent.com/tturocy/eco7026a/main/week1/LRHUTTTTUSM156S.csv')\n",
    "usa_data.head(4) # it shows the first \"n\" observations. By defeault, n is equal to 5, but this can changed with any number put in parenthesis. \n"
   ]
  },
  {
   "cell_type": "code",
   "execution_count": null,
   "id": "d8a8b7ee",
   "metadata": {},
   "outputs": [],
   "source": [
    "usa_data.tail(4)"
   ]
  },
  {
   "cell_type": "code",
   "execution_count": null,
   "id": "5b0c4da4",
   "metadata": {},
   "outputs": [],
   "source": [
    "world_data = df.merge(usa_data,sort=True) # The merge considers just the dates in common. \n",
    "world_data.head(8) # it shows the first \"n\" observations. By defeault, n is equal to 5, but this can changed with any number put in parenthesis. \n"
   ]
  },
  {
   "cell_type": "code",
   "execution_count": null,
   "id": "a36eb11f",
   "metadata": {},
   "outputs": [],
   "source": [
    "world_data1 = df.merge(usa_data,how='outer') # The merge considers the longest time period and generates Nan for the variables with shorter time periods. \n",
    "world_data1.head(8) # it shows the first \"n\" observations. By defeault, n is equal to 5, but this can changed with any number put in parenthesis. \n"
   ]
  },
  {
   "cell_type": "code",
   "execution_count": null,
   "id": "329ebe30",
   "metadata": {},
   "outputs": [],
   "source": [
    "world_data1 = world_data1.sort_values(by=['DATE']) # This column sorts world_data1 dataframe by column Date. \n",
    "world_data1.head(8) # it shows the first \"n\" observations. By defeault, n is equal to 5, but this can changed with any number put in parenthesis. \n"
   ]
  },
  {
   "cell_type": "code",
   "execution_count": null,
   "id": "98db50b0",
   "metadata": {},
   "outputs": [],
   "source": [
    "world_data1.index = range(len(world_data1.index))\n",
    "world_data1.head(8)"
   ]
  },
  {
   "cell_type": "markdown",
   "id": "d3352411",
   "metadata": {},
   "source": [
    "Alternative solution \n",
    "\n",
    "world_data1.reset_index(drop=True, inplace = True) # This command resets the index. The change is permanement with the option inplace=True. \n",
    "world_data1.head(8) # it shows the first \"n\" observations. By defeault, n is equal to 5, but this can changed with any number put in parenthesis. \n"
   ]
  },
  {
   "cell_type": "code",
   "execution_count": null,
   "id": "46f08b66",
   "metadata": {},
   "outputs": [],
   "source": [
    "world_data1 = df.merge(usa_data,how='outer', sort = True) # This is ok, only because data sets were already sorted by Date.\n",
    "world_data1.head(8) # it shows the first \"n\" observations. By defeault, n is equal to 5, but this can changed with any number put in parenthesis. \n"
   ]
  },
  {
   "cell_type": "code",
   "execution_count": null,
   "id": "b7535562",
   "metadata": {},
   "outputs": [],
   "source": [
    "world_data.rename(columns={'LRHUTTTTGBM156S': \"uk_nemployment\", 'LRHUTTTTUSM156S': \"usa_nemployment\"})"
   ]
  },
  {
   "cell_type": "code",
   "execution_count": null,
   "id": "3680e694",
   "metadata": {},
   "outputs": [],
   "source": [
    "with pd.option_context('display.max_rows', None, 'display.max_columns', None): print(world_data)"
   ]
  },
  {
   "cell_type": "code",
   "execution_count": null,
   "id": "2c63c700",
   "metadata": {},
   "outputs": [],
   "source": [
    "print(world_data['USA Unemployment'])\n"
   ]
  },
  {
   "cell_type": "markdown",
   "id": "977d97c1",
   "metadata": {},
   "source": [
    "**DataFrame.assign()** adds one or more columns. It can contain functions and/or operations inside."
   ]
  },
  {
   "cell_type": "code",
   "execution_count": null,
   "id": "366b298f",
   "metadata": {},
   "outputs": [],
   "source": [
    "world_data = world_data.assign(Source = 'FRED', Diff_U = world_data.uk_unemployment - world_data.usa_unemployment) \n",
    "world_data"
   ]
  },
  {
   "cell_type": "code",
   "execution_count": null,
   "id": "dbd28f84",
   "metadata": {},
   "outputs": [],
   "source": [
    "world_data.dtypes "
   ]
  },
  {
   "cell_type": "code",
   "execution_count": null,
   "id": "3a4b7739",
   "metadata": {},
   "outputs": [],
   "source": [
    "world_data.info()"
   ]
  },
  {
   "cell_type": "code",
   "execution_count": null,
   "id": "79988c84",
   "metadata": {},
   "outputs": [],
   "source": [
    "world_data1.info()"
   ]
  },
  {
   "cell_type": "markdown",
   "id": "a617e7d9",
   "metadata": {},
   "source": [
    "DataFrame.dtypes is a subset of DataFrame.info()"
   ]
  },
  {
   "cell_type": "code",
   "execution_count": null,
   "id": "531088ab",
   "metadata": {},
   "outputs": [],
   "source": [
    "import datetime\n",
    "world_data['date'] = pd.to_datetime(world_data['DATE'], yearfirst = True, format='%Y-%m-%d') # it creates a datetime64[ns] variable. \n",
    "world_data['day'] = world_data['date'].dt.day\n",
    "world_data['month'] = world_data['date'].dt.month\n",
    "world_data['year'] = world_data['date'].dt.year\n",
    "world_data['weekday'] = world_data['date'].dt.dayofweek\n"
   ]
  },
  {
   "cell_type": "code",
   "execution_count": null,
   "id": "5f10973b",
   "metadata": {},
   "outputs": [],
   "source": [
    "world_data.dtypes\n"
   ]
  },
  {
   "cell_type": "code",
   "execution_count": null,
   "id": "931e45d4",
   "metadata": {},
   "outputs": [],
   "source": [
    "world_data[['DATE','weekday']] # note the double square parenthesis, when you recall more than a column. \n"
   ]
  },
  {
   "cell_type": "code",
   "execution_count": null,
   "id": "00a269ab",
   "metadata": {},
   "outputs": [],
   "source": [
    "world_data = world_data.set_index(['DATE'])\n",
    "world_data"
   ]
  },
  {
   "cell_type": "code",
   "execution_count": null,
   "id": "b2fe686f",
   "metadata": {},
   "outputs": [],
   "source": [
    "nineties_data = world_data.loc['1990-01-01':'1999-12-01']\n",
    "nineties_data"
   ]
  },
  {
   "cell_type": "code",
   "execution_count": null,
   "id": "e43e9b91",
   "metadata": {},
   "outputs": [],
   "source": [
    "nineties_data_reduced = world_data.loc['1990-01-01':'1999-12-01', world_data.columns != 'day']\n",
    "nineties_data_reduced"
   ]
  },
  {
   "cell_type": "code",
   "execution_count": null,
   "id": "21e0ef2c",
   "metadata": {},
   "outputs": [],
   "source": [
    "nineties_data_reduced = world_data.loc['1990-01-01':'1999-12-01',['date','UK Unemployment','USA Unemployment','weekday']]\n",
    "nineties_data_reduced"
   ]
  },
  {
   "cell_type": "code",
   "execution_count": null,
   "id": "828911d9",
   "metadata": {},
   "outputs": [],
   "source": [
    "world_data.rename(columns={'LRHUTTTTGBM156S': \"UK Unemployment\", 'LRHUTTTTUSM156S': \"USA Unemployment\"}, inplace = True)\n",
    "nineties_data_reduced = world_data.loc['1990-01-01':'1999-12-01',['date','UK Unemployment','USA Unemployment','weekday']]\n",
    "nineties_data_reduced"
   ]
  },
  {
   "cell_type": "markdown",
   "id": "a3978084",
   "metadata": {},
   "source": [
    "Without the option \"inplace = True\", the change in the name of the column is temporary and not fixed in the dataframe."
   ]
  },
  {
   "cell_type": "code",
   "execution_count": null,
   "id": "7ccde888",
   "metadata": {},
   "outputs": [],
   "source": [
    "nineties_data['UK Unemployment'].mean()\n",
    "nineties_data['USA Unemployment'].mean()\n",
    "nineties_data[['UK Unemployment','USA Unemployment']].mean()\n",
    "nineties_data.describe(exclude=['int64','datetime64[ns]'])\n"
   ]
  },
  {
   "cell_type": "code",
   "execution_count": null,
   "id": "e63220c6",
   "metadata": {},
   "outputs": [],
   "source": [
    "nineties_data = world_data.loc['1990-01-01':'1999-12-01']\n",
    "nineties_data['UK Unemployment'].mean()\n"
   ]
  },
  {
   "cell_type": "code",
   "execution_count": null,
   "id": "ccfdb25e",
   "metadata": {},
   "outputs": [],
   "source": [
    "nineties_data['USA Unemployment'].mean()\n"
   ]
  },
  {
   "cell_type": "code",
   "execution_count": null,
   "id": "1c902be8",
   "metadata": {},
   "outputs": [],
   "source": [
    "nineties_data[['UK Unemployment','USA Unemployment']].mean()\n"
   ]
  },
  {
   "cell_type": "code",
   "execution_count": null,
   "id": "69cdaa28",
   "metadata": {},
   "outputs": [],
   "source": [
    "nineties_data.describe(exclude=['int64','datetime64[ns]'])\n"
   ]
  },
  {
   "cell_type": "code",
   "execution_count": null,
   "id": "fba852fc",
   "metadata": {},
   "outputs": [],
   "source": [
    "from pandas_datareader import wb\n",
    "matches = wb.search('government.*debt.*gdp')\n",
    "matches\n"
   ]
  },
  {
   "cell_type": "code",
   "execution_count": null,
   "id": "4b755699",
   "metadata": {},
   "outputs": [],
   "source": [
    "debt = wb.download(indicator='GC.DOD.TOTL.GD.ZS', country=\"all\", start=2005, end=2016)\n",
    "debt"
   ]
  },
  {
   "cell_type": "code",
   "execution_count": null,
   "id": "1c783cda",
   "metadata": {},
   "outputs": [],
   "source": [
    "debt = wb.download(indicator='GC.DOD.TOTL.GD.ZS', country=\"all\", start=2005, end=2016).stack().unstack(0)\n",
    "debt"
   ]
  },
  {
   "cell_type": "code",
   "execution_count": null,
   "id": "f623cb72",
   "metadata": {},
   "outputs": [],
   "source": [
    "debt1 = wb.download(indicator='GC.DOD.TOTL.GD.ZS', country=\"all\", start=2005, end=2016).stack(dropna=False).unstack(0)\n",
    "debt1"
   ]
  },
  {
   "cell_type": "code",
   "execution_count": null,
   "id": "7b399ee2",
   "metadata": {},
   "outputs": [],
   "source": [
    "debt2 = wb.download(indicator='GC.DOD.TOTL.GD.ZS', country=\"all\", start=2005, end=2016).unstack(0)\n",
    "debt2"
   ]
  },
  {
   "cell_type": "code",
   "execution_count": null,
   "id": "567e4840",
   "metadata": {},
   "outputs": [],
   "source": [
    "del [[debt1, debt2]]"
   ]
  },
  {
   "cell_type": "code",
   "execution_count": null,
   "id": "729fb725",
   "metadata": {},
   "outputs": [],
   "source": [
    "debt"
   ]
  },
  {
   "cell_type": "code",
   "execution_count": null,
   "id": "511a1051",
   "metadata": {},
   "outputs": [],
   "source": [
    "debt.index = debt.index.droplevel(1) # drop indicator index \n",
    "debt"
   ]
  },
  {
   "cell_type": "code",
   "execution_count": null,
   "id": "c27a88c5",
   "metadata": {},
   "outputs": [],
   "source": [
    "print(debt.loc[\"2005\"].kurtosis())\n",
    "print(debt.loc[\"2005\"].skew())"
   ]
  },
  {
   "cell_type": "code",
   "execution_count": null,
   "id": "87843275",
   "metadata": {},
   "outputs": [],
   "source": [
    "debt.to_csv('debt.csv')\n",
    "debt.to_stata('debt.dta')\n",
    "debt.to_json('debt.json')\n",
    "debt.to_pickle('debt.pkl')\n",
    "debt.to_parquet('debt.parquet')\n"
   ]
  },
  {
   "cell_type": "markdown",
   "id": "a52ca88e",
   "metadata": {},
   "source": [
    "Where are these files?"
   ]
  },
  {
   "cell_type": "code",
   "execution_count": null,
   "id": "9ffe98ea",
   "metadata": {},
   "outputs": [],
   "source": [
    "os.getcwd()"
   ]
  },
  {
   "cell_type": "code",
   "execution_count": null,
   "id": "9983fee7",
   "metadata": {},
   "outputs": [],
   "source": [
    "pip list"
   ]
  },
  {
   "cell_type": "code",
   "execution_count": null,
   "id": "085d8e87",
   "metadata": {},
   "outputs": [],
   "source": []
  }
 ],
 "metadata": {
  "kernelspec": {
   "display_name": "Python 3 (ipykernel)",
   "language": "python",
   "name": "python3"
  },
  "language_info": {
   "codemirror_mode": {
    "name": "ipython",
    "version": 3
   },
   "file_extension": ".py",
   "mimetype": "text/x-python",
   "name": "python",
   "nbconvert_exporter": "python",
   "pygments_lexer": "ipython3",
   "version": "3.9.13"
  }
 },
 "nbformat": 4,
 "nbformat_minor": 5
}
