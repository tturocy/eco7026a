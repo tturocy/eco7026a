{
 "cells": [
  {
   "cell_type": "code",
   "execution_count": null,
   "id": "d68029c7",
   "metadata": {},
   "outputs": [],
   "source": [
    "import numpy as np\n",
    "import pandas as pd\n",
    "import os"
   ]
  },
  {
   "cell_type": "code",
   "execution_count": null,
   "id": "2291e72c",
   "metadata": {},
   "outputs": [],
   "source": [
    "a = np.array([[1,2],[3,4]])\n",
    "print(a)\n",
    "print(a*3)\n"
   ]
  },
  {
   "cell_type": "code",
   "execution_count": null,
   "id": "0c659a82",
   "metadata": {},
   "outputs": [],
   "source": [
    "m = np.array([[2,1],[1,2]])\n",
    "eigen_value, eigen_vector = np.linalg.eig(m)\n",
    "print(eigen_value)\n",
    "print(eigen_vector)"
   ]
  },
  {
   "cell_type": "code",
   "execution_count": null,
   "id": "9d0dfe7f",
   "metadata": {},
   "outputs": [],
   "source": [
    "from np import linalg as la"
   ]
  },
  {
   "cell_type": "code",
   "execution_count": null,
   "id": "d956a718",
   "metadata": {},
   "outputs": [],
   "source": [
    "from numpy import linalg as la \n",
    "eigen_value_, eigen_vector_ = la.eig(m)\n",
    "print(eigen_value_)\n",
    "print(eigen_vector_)"
   ]
  },
  {
   "cell_type": "code",
   "execution_count": null,
   "id": "93b194c8",
   "metadata": {},
   "outputs": [],
   "source": [
    "print(la.det(a))\n",
    "det = la.det(a)\n",
    "print(np.round(det))\n",
    "b = la.inv(a)\n",
    "print(b)\n",
    "print(np.matmul(b,a))\n"
   ]
  },
  {
   "cell_type": "code",
   "execution_count": null,
   "id": "4613fdb1",
   "metadata": {},
   "outputs": [],
   "source": [
    "s = pd.Series([3,2,3,4], name='inflation')\n",
    "print(s)\n",
    "s = pd.Series([3,2,3,4], name='inflation', index = [2008, 2009, 2010, 2011])\n",
    "print(s[2008])\n",
    "print(s.loc[2008:2010])\n"
   ]
  },
  {
   "cell_type": "code",
   "execution_count": null,
   "id": "31f750c5",
   "metadata": {},
   "outputs": [],
   "source": [
    "print(s.describe())\n",
    "print(s.count())\n",
    "print(s.mean())\n",
    "print(s.median())\n",
    "print(s.std())\n",
    "print(s.min())\n",
    "print(s.quantile(0.25))\n",
    "print(s.max())\n",
    "\n",
    "print(s.mode())\n",
    "print(s.skew())\n",
    "print(s.kurt())"
   ]
  },
  {
   "cell_type": "markdown",
   "id": "37890018",
   "metadata": {},
   "source": [
    "If the file is stored online on GitHub\n",
    "Link GitBub - Raw - Copy the hyperlink afterwords\n",
    "\n",
    "If the file is stored on your computer\n",
    "import os \n",
    "os. getcwd()\n",
    "#os.chdir(\"C:/Users/andre/Dropbox/University/Teaching/UEA/Module organiser/ECO-7026A Programming and Data Analytics for Behavioural Economists/Lecture 02\")\n"
   ]
  },
  {
   "cell_type": "code",
   "execution_count": null,
   "id": "12e8f850",
   "metadata": {},
   "outputs": [],
   "source": [
    "url = 'https://raw.githubusercontent.com/tturocy/eco7026a/main/week1/LRHUTTTTGBM156S.csv'\n",
    "df = pd.read_csv(url)"
   ]
  },
  {
   "cell_type": "code",
   "execution_count": null,
   "id": "a2d87970",
   "metadata": {},
   "outputs": [],
   "source": [
    "print(df)"
   ]
  },
  {
   "cell_type": "code",
   "execution_count": null,
   "id": "b33ddb09",
   "metadata": {},
   "outputs": [],
   "source": [
    "usa_data = pd.read_csv('https://raw.githubusercontent.com/tturocy/eco7026a/main/week1/LRHUTTTTUSM156S.csv')\n",
    "usa_data.head(4) # it shows the first \"n\" observations. By defeault, n is equal to 5, but this can changed with any number put in parenthesis. \n"
   ]
  },
  {
   "cell_type": "code",
   "execution_count": null,
   "id": "d8a8b7ee",
   "metadata": {},
   "outputs": [],
   "source": [
    "usa_data.tail(4)"
   ]
  },
  {
   "cell_type": "code",
   "execution_count": null,
   "id": "5b0c4da4",
   "metadata": {},
   "outputs": [],
   "source": [
    "world_data = df.merge(usa_data,sort=True) # The merge considers just the dates in common. \n",
    "world_data.head(8) # it shows the first \"n\" observations. By defeault, n is equal to 5, but this can changed with any number put in parenthesis. \n"
   ]
  },
  {
   "cell_type": "code",
   "execution_count": null,
   "id": "a36eb11f",
   "metadata": {},
   "outputs": [],
   "source": [
    "world_data1 = df.merge(usa_data,how='outer') # The merge considers the longest time period and generates Nan for the variables with shorter time periods. \n",
    "world_data1.head(8) # it shows the first \"n\" observations. By defeault, n is equal to 5, but this can changed with any number put in parenthesis. \n"
   ]
  },
  {
   "cell_type": "code",
   "execution_count": null,
   "id": "329ebe30",
   "metadata": {},
   "outputs": [],
   "source": [
    "world_data1 = world_data1.sort_values(by=['DATE']) # This column sorts world_data1 dataframe by column Date. \n",
    "world_data1.head(8) # it shows the first \"n\" observations. By defeault, n is equal to 5, but this can changed with any number put in parenthesis. \n"
   ]
  },
  {
   "cell_type": "code",
   "execution_count": null,
   "id": "98db50b0",
   "metadata": {},
   "outputs": [],
   "source": [
    "world_data1.index = range(len(world_data1.index))\n",
    "world_data1.head(8)"
   ]
  },
  {
   "cell_type": "markdown",
   "id": "d3352411",
   "metadata": {},
   "source": [
    "Alternative solution \n",
    "\n",
    "world_data1.reset_index(drop=True, inplace = True) # This command resets the index. The change is permanement with the option inplace=True. \n",
    "world_data1.head(8) # it shows the first \"n\" observations. By defeault, n is equal to 5, but this can changed with any number put in parenthesis. \n"
   ]
  },
  {
   "cell_type": "code",
   "execution_count": null,
   "id": "46f08b66",
   "metadata": {},
   "outputs": [],
   "source": [
    "world_data1 = df.merge(usa_data,how='outer', sort = True) # This is ok, only because data sets were already sorted by Date.\n",
    "world_data1.head(8) # it shows the first \"n\" observations. By defeault, n is equal to 5, but this can changed with any number put in parenthesis. \n"
   ]
  },
  {
   "cell_type": "code",
   "execution_count": null,
   "id": "b7535562",
   "metadata": {},
   "outputs": [],
   "source": [
    "world_data.rename(columns={'LRHUTTTTGBM156S': \"uk_nemployment\", 'LRHUTTTTUSM156S': \"usa_nemployment\"})"
   ]
  },
  {
   "cell_type": "code",
   "execution_count": null,
   "id": "3680e694",
   "metadata": {},
   "outputs": [],
   "source": [
    "with pd.option_context('display.max_rows', None, 'display.max_columns', None): print(world_data)"
   ]
  },
  {
   "cell_type": "code",
   "execution_count": null,
   "id": "2c63c700",
   "metadata": {},
   "outputs": [],
   "source": [
    "print(world_data['USA Unemployment'])\n"
   ]
  },
  {
   "cell_type": "markdown",
   "id": "99bbc00d",
   "metadata": {},
   "source": [
    "**DataFrame.assign()** adds one or more columns. It can contain functions and/or operations inside."
   ]
  },
  {
   "cell_type": "code",
   "execution_count": null,
   "id": "6d830843",
   "metadata": {},
   "outputs": [],
   "source": [
    "world_data = world_data.assign(Source = 'FRED', Diff_U = world_data.uk_unemployment - world_data.usa_unemployment) \n",
    "world_data"
   ]
  },
  {
   "cell_type": "code",
   "execution_count": null,
   "id": "dbd28f84",
   "metadata": {},
   "outputs": [],
   "source": [
    "world_data.dtypes "
   ]
  },
  {
   "cell_type": "code",
   "execution_count": null,
   "id": "3a4b7739",
   "metadata": {},
   "outputs": [],
   "source": [
    "world_data.info()"
   ]
  },
  {
   "cell_type": "code",
   "execution_count": null,
   "id": "79988c84",
   "metadata": {},
   "outputs": [],
   "source": [
    "world_data1.info()"
   ]
  },
  {
   "cell_type": "markdown",
   "id": "a617e7d9",
   "metadata": {},
   "source": [
    "DataFrame.dtypes is a subset of DataFrame.info()"
   ]
  },
  {
   "cell_type": "code",
   "execution_count": null,
   "id": "531088ab",
   "metadata": {},
   "outputs": [],
   "source": [
    "import datetime\n",
    "world_data['date'] = pd.to_datetime(world_data['DATE'], yearfirst = True, format='%Y-%m-%d') # it creates a datetime64[ns] variable. \n",
    "world_data['day'] = world_data['date'].dt.day\n",
    "world_data['month'] = world_data['date'].dt.month\n",
    "world_data['year'] = world_data['date'].dt.year\n",
    "world_data['weekday'] = world_data['date'].dt.dayofweek\n"
   ]
  },
  {
   "cell_type": "code",
   "execution_count": null,
   "id": "5f10973b",
   "metadata": {},
   "outputs": [],
   "source": [
    "world_data.dtypes\n"
   ]
  },
  {
   "cell_type": "code",
   "execution_count": null,
   "id": "931e45d4",
   "metadata": {},
   "outputs": [],
   "source": [
    "world_data[['DATE','weekday']] # note the double square parenthesis, when you recall more than a column. \n"
   ]
  },
  {
   "cell_type": "code",
   "execution_count": null,
   "id": "00a269ab",
   "metadata": {},
   "outputs": [],
   "source": [
    "world_data = world_data.set_index(['DATE'])\n",
    "world_data"
   ]
  },
  {
   "cell_type": "code",
   "execution_count": null,
   "id": "b2fe686f",
   "metadata": {},
   "outputs": [],
   "source": [
    "nineties_data = world_data.loc['1990-01-01':'1999-12-01']\n",
    "nineties_data"
   ]
  },
  {
   "cell_type": "code",
   "execution_count": null,
   "id": "e43e9b91",
   "metadata": {},
   "outputs": [],
   "source": [
    "nineties_data_reduced = world_data.loc['1990-01-01':'1999-12-01', world_data.columns != 'day']\n",
    "nineties_data_reduced"
   ]
  },
  {
   "cell_type": "code",
   "execution_count": null,
   "id": "21e0ef2c",
   "metadata": {},
   "outputs": [],
   "source": [
    "nineties_data_reduced = world_data.loc['1990-01-01':'1999-12-01',['date','UK Unemployment','USA Unemployment','weekday']]\n",
    "nineties_data_reduced"
   ]
  },
  {
   "cell_type": "code",
   "execution_count": null,
   "id": "828911d9",
   "metadata": {},
   "outputs": [],
   "source": [
    "world_data.rename(columns={'LRHUTTTTGBM156S': \"UK Unemployment\", 'LRHUTTTTUSM156S': \"USA Unemployment\"}, inplace = True)\n",
    "nineties_data_reduced = world_data.loc['1990-01-01':'1999-12-01',['date','UK Unemployment','USA Unemployment','weekday']]\n",
    "nineties_data_reduced"
   ]
  },
  {
   "cell_type": "markdown",
   "id": "a3978084",
   "metadata": {},
   "source": [
    "Without the option \"inplace = True\", the change in the name of the column is temporary and not fixed in the dataframe."
   ]
  },
  {
   "cell_type": "code",
   "execution_count": null,
   "id": "7ccde888",
   "metadata": {},
   "outputs": [],
   "source": [
    "nineties_data['UK Unemployment'].mean()\n",
    "nineties_data['USA Unemployment'].mean()\n",
    "nineties_data[['UK Unemployment','USA Unemployment']].mean()\n",
    "nineties_data.describe(exclude=['int64','datetime64[ns]'])\n"
   ]
  },
  {
   "cell_type": "code",
   "execution_count": null,
   "id": "e63220c6",
   "metadata": {},
   "outputs": [],
   "source": [
    "nineties_data = world_data.loc['1990-01-01':'1999-12-01']\n",
    "nineties_data['UK Unemployment'].mean()\n"
   ]
  },
  {
   "cell_type": "code",
   "execution_count": null,
   "id": "ccfdb25e",
   "metadata": {},
   "outputs": [],
   "source": [
    "nineties_data['USA Unemployment'].mean()\n"
   ]
  },
  {
   "cell_type": "code",
   "execution_count": null,
   "id": "1c902be8",
   "metadata": {},
   "outputs": [],
   "source": [
    "nineties_data[['UK Unemployment','USA Unemployment']].mean()\n"
   ]
  },
  {
   "cell_type": "code",
   "execution_count": null,
   "id": "69cdaa28",
   "metadata": {},
   "outputs": [],
   "source": [
    "nineties_data.describe(exclude=['int64','datetime64[ns]'])\n"
   ]
  },
  {
   "cell_type": "code",
   "execution_count": null,
   "id": "fba852fc",
   "metadata": {},
   "outputs": [],
   "source": [
    "from pandas_datareader import wb\n",
    "matches = wb.search('government.*debt.*gdp')\n",
    "matches\n"
   ]
  },
  {
   "cell_type": "code",
   "execution_count": null,
   "id": "2f348515",
   "metadata": {},
   "outputs": [],
   "source": [
    "debt = wb.download(indicator='GC.DOD.TOTL.GD.ZS', country=\"all\", start=2005, end=2016)\n",
    "debt"
   ]
  },
  {
   "cell_type": "code",
   "execution_count": null,
   "id": "1c783cda",
   "metadata": {},
   "outputs": [],
   "source": [
    "debt = wb.download(indicator='GC.DOD.TOTL.GD.ZS', country=\"all\", start=2005, end=2016).stack().unstack(0)\n",
    "debt"
   ]
  },
  {
   "cell_type": "code",
   "execution_count": null,
   "id": "b7276d20",
   "metadata": {},
   "outputs": [],
   "source": [
    "debt1 = wb.download(indicator='GC.DOD.TOTL.GD.ZS', country=\"all\", start=2005, end=2016).stack(dropna=False).unstack(0)\n",
    "debt1"
   ]
  },
  {
   "cell_type": "code",
   "execution_count": null,
   "id": "2f985a79",
   "metadata": {},
   "outputs": [],
   "source": [
    "debt2 = wb.download(indicator='GC.DOD.TOTL.GD.ZS', country=\"all\", start=2005, end=2016).unstack(0)\n",
    "debt2"
   ]
  },
  {
   "cell_type": "code",
   "execution_count": null,
   "id": "46924106",
   "metadata": {},
   "outputs": [],
   "source": [
    "del [[debt1, debt2]]"
   ]
  },
  {
   "cell_type": "code",
   "execution_count": null,
   "id": "67c18462",
   "metadata": {},
   "outputs": [],
   "source": [
    "debt"
   ]
  },
  {
   "cell_type": "code",
   "execution_count": null,
   "id": "9b9c5356",
   "metadata": {},
   "outputs": [],
   "source": [
    "debt.index = debt.index.droplevel(1) # drop indicator index \n",
    "debt"
   ]
  },
  {
   "cell_type": "code",
   "execution_count": null,
   "id": "4450690b",
   "metadata": {},
   "outputs": [],
   "source": [
    "print(debt.loc[\"2005\"].kurtosis())\n",
    "print(debt.loc[\"2005\"].skew())"
   ]
  },
  {
   "cell_type": "code",
   "execution_count": null,
   "id": "66054f27",
   "metadata": {},
   "outputs": [],
   "source": [
    "debt.to_csv('debt.csv')\n",
    "debt.to_stata('debt.dta')\n",
    "debt.to_json('debt.json')\n",
    "debt.to_pickle('debt.pkl')\n",
    "debt.to_parquet('debt.parquet')\n"
   ]
  },
  {
   "cell_type": "markdown",
   "id": "03a25a86",
   "metadata": {},
   "source": [
    "Where are these files?"
   ]
  },
  {
   "cell_type": "code",
   "execution_count": null,
   "id": "65093a98",
   "metadata": {},
   "outputs": [],
   "source": [
    "os.getcwd()"
   ]
  },
  {
   "cell_type": "code",
   "execution_count": 26,
   "id": "72276081",
   "metadata": {},
   "outputs": [
    {
     "name": "stdout",
     "output_type": "stream",
     "text": [
      "Package                       Version\n",
      "----------------------------- --------------------\n",
      "aiohttp                       3.8.1\n",
      "aiosignal                     1.2.0\n",
      "alabaster                     0.7.12\n",
      "anaconda-client               1.11.0\n",
      "anaconda-navigator            2.3.1\n",
      "anaconda-project              0.11.1\n",
      "anyio                         3.5.0\n",
      "appdirs                       1.4.4\n",
      "argon2-cffi                   21.3.0\n",
      "argon2-cffi-bindings          21.2.0\n",
      "arrow                         1.2.2\n",
      "astroid                       2.6.6\n",
      "astropy                       5.1\n",
      "asttokens                     2.0.5\n",
      "async-timeout                 4.0.1\n",
      "atomicwrites                  1.4.0\n",
      "attrs                         21.4.0\n",
      "Automat                       20.2.0\n",
      "autopep8                      1.6.0\n",
      "Babel                         2.9.1\n",
      "backcall                      0.2.0\n",
      "backports.functools-lru-cache 1.6.4\n",
      "backports.tempfile            1.0\n",
      "backports.weakref             1.0.post1\n",
      "bcrypt                        3.2.0\n",
      "beautifulsoup4                4.11.1\n",
      "binaryornot                   0.4.4\n",
      "bitarray                      2.5.1\n",
      "bkcharts                      0.2\n",
      "black                         22.6.0\n",
      "bleach                        4.1.0\n",
      "bokeh                         2.4.3\n",
      "boto3                         1.24.28\n",
      "botocore                      1.27.28\n",
      "Bottleneck                    1.3.5\n",
      "brotlipy                      0.7.0\n",
      "cachetools                    4.2.2\n",
      "certifi                       2022.9.14\n",
      "cffi                          1.15.1\n",
      "chardet                       4.0.0\n",
      "charset-normalizer            2.0.4\n",
      "click                         8.0.4\n",
      "cloudpickle                   2.0.0\n",
      "clyent                        1.2.2\n",
      "colorama                      0.4.5\n",
      "colorcet                      3.0.0\n",
      "comtypes                      1.1.10\n",
      "conda                         22.9.0\n",
      "conda-build                   3.22.0\n",
      "conda-content-trust           0.1.3\n",
      "conda-pack                    0.6.0\n",
      "conda-package-handling        1.9.0\n",
      "conda-repo-cli                1.0.20\n",
      "conda-token                   0.4.0\n",
      "conda-verify                  3.4.2\n",
      "constantly                    15.1.0\n",
      "cookiecutter                  1.7.3\n",
      "cryptography                  37.0.1\n",
      "cssselect                     1.1.0\n",
      "cycler                        0.11.0\n",
      "Cython                        0.29.32\n",
      "cytoolz                       0.11.0\n",
      "daal4py                       2021.5.0\n",
      "dask                          2022.7.0\n",
      "datashader                    0.14.1\n",
      "datashape                     0.5.4\n",
      "debugpy                       1.5.1\n",
      "decorator                     5.1.1\n",
      "defusedxml                    0.7.1\n",
      "diff-match-patch              20200713\n",
      "distributed                   2022.7.0\n",
      "docutils                      0.18.1\n",
      "entrypoints                   0.4\n",
      "et-xmlfile                    1.1.0\n",
      "executing                     0.8.3\n",
      "fastjsonschema                2.16.2\n",
      "filelock                      3.6.0\n",
      "flake8                        3.9.2\n",
      "Flask                         1.1.2\n",
      "fonttools                     4.25.0\n",
      "frozenlist                    1.2.0\n",
      "fsspec                        2022.7.1\n",
      "future                        0.18.2\n",
      "gensim                        4.1.2\n",
      "glob2                         0.7\n",
      "google-api-core               2.10.1\n",
      "google-auth                   2.6.0\n",
      "google-cloud-core             2.2.2\n",
      "google-cloud-storage          1.43.0\n",
      "google-crc32c                 1.1.2\n",
      "google-resumable-media        1.3.1\n",
      "googleapis-common-protos      1.56.4\n",
      "greenlet                      1.1.1\n",
      "grpcio                        1.42.0\n",
      "h5py                          3.7.0\n",
      "HeapDict                      1.0.1\n",
      "holoviews                     1.15.0\n",
      "hvplot                        0.8.0\n",
      "hyperlink                     21.0.0\n",
      "idna                          3.3\n",
      "imagecodecs                   2021.8.26\n",
      "imageio                       2.19.3\n",
      "imagesize                     1.4.1\n",
      "importlib-metadata            4.11.3\n",
      "incremental                   21.3.0\n",
      "inflection                    0.5.1\n",
      "iniconfig                     1.1.1\n",
      "intake                        0.6.5\n",
      "intervaltree                  3.1.0\n",
      "ipykernel                     6.15.2\n",
      "ipython                       8.4.0\n",
      "ipython-genutils              0.2.0\n",
      "ipywidgets                    7.6.5\n",
      "isort                         5.9.3\n",
      "itemadapter                   0.3.0\n",
      "itemloaders                   1.0.4\n",
      "itsdangerous                  2.0.1\n",
      "jdcal                         1.4.1\n",
      "jedi                          0.18.1\n",
      "Jinja2                        2.11.3\n",
      "jinja2-time                   0.2.0\n",
      "jmespath                      0.10.0\n",
      "joblib                        1.1.0\n",
      "json5                         0.9.6\n",
      "jsonschema                    4.16.0\n",
      "jupyter                       1.0.0\n",
      "jupyter-client                6.1.12\n",
      "jupyter-console               6.4.0\n",
      "jupyter-core                  4.10.0\n",
      "jupyter-server                1.18.1\n",
      "jupyterlab                    3.4.4\n",
      "jupyterlab-pygments           0.1.2\n",
      "jupyterlab-server             2.10.3\n",
      "jupyterlab-widgets            1.0.0\n",
      "keyring                       23.4.0\n",
      "kiwisolver                    1.4.2\n",
      "lazy-object-proxy             1.6.0\n",
      "libarchive-c                  2.9\n",
      "llvmlite                      0.38.0\n",
      "locket                        1.0.0\n",
      "lxml                          4.9.1\n",
      "lz4                           3.1.3\n",
      "Markdown                      3.3.4\n",
      "MarkupSafe                    2.0.1\n",
      "matplotlib                    3.5.2\n",
      "matplotlib-inline             0.1.6\n",
      "mccabe                        0.6.1\n",
      "menuinst                      1.4.19\n",
      "mistune                       0.8.4\n",
      "mkl-fft                       1.3.1\n",
      "mkl-random                    1.2.2\n",
      "mkl-service                   2.4.0\n",
      "mock                          4.0.3\n",
      "mpmath                        1.2.1\n",
      "msgpack                       1.0.3\n",
      "multidict                     5.2.0\n",
      "multipledispatch              0.6.0\n",
      "munkres                       1.1.4\n",
      "mypy-extensions               0.4.3\n",
      "navigator-updater             0.3.0\n",
      "nbclassic                     0.3.5\n",
      "nbclient                      0.5.13\n",
      "nbconvert                     6.4.4\n",
      "nbformat                      5.5.0\n",
      "nest-asyncio                  1.5.5\n",
      "networkx                      2.8.4\n",
      "nltk                          3.7\n",
      "nose                          1.3.7\n",
      "notebook                      6.4.12\n",
      "numba                         0.55.1\n",
      "numexpr                       2.8.3\n",
      "numpy                         1.21.5\n",
      "numpydoc                      1.4.0\n",
      "olefile                       0.46\n",
      "openpyxl                      3.0.10\n",
      "packaging                     21.3\n",
      "pandas                        1.4.4\n",
      "pandas-datareader             0.10.0\n",
      "pandocfilters                 1.5.0\n",
      "panel                         0.13.1\n",
      "param                         1.12.0\n",
      "paramiko                      2.8.1\n",
      "parsel                        1.6.0\n",
      "parso                         0.8.3\n",
      "partd                         1.2.0\n",
      "pathlib                       1.0.1\n",
      "pathspec                      0.9.0\n",
      "patsy                         0.5.2\n",
      "pep8                          1.7.1\n",
      "pexpect                       4.8.0\n",
      "pickleshare                   0.7.5\n",
      "Pillow                        9.2.0\n",
      "pip                           22.2.2\n",
      "pkginfo                       1.8.2\n",
      "platformdirs                  2.5.2\n",
      "plotly                        5.9.0\n",
      "pluggy                        1.0.0\n",
      "poyo                          0.5.0\n",
      "prometheus-client             0.14.1\n",
      "prompt-toolkit                3.0.20\n",
      "Protego                       0.1.16\n",
      "protobuf                      3.20.1\n",
      "psutil                        5.9.0\n",
      "ptyprocess                    0.7.0\n",
      "pure-eval                     0.2.2\n",
      "py                            1.11.0\n",
      "pyarrow                       9.0.0\n",
      "pyasn1                        0.4.8\n",
      "pyasn1-modules                0.2.8\n",
      "pycodestyle                   2.7.0\n",
      "pycosat                       0.6.3\n",
      "pycparser                     2.21\n",
      "pyct                          0.4.8\n",
      "pycurl                        7.45.1\n",
      "PyDispatcher                  2.0.5\n",
      "pydocstyle                    6.1.1\n",
      "pyerfa                        2.0.0\n",
      "pyflakes                      2.3.1\n",
      "Pygments                      2.11.2\n",
      "PyHamcrest                    2.0.2\n",
      "PyJWT                         2.4.0\n",
      "pylint                        2.9.6\n",
      "pyls-spyder                   0.4.0\n",
      "PyNaCl                        1.5.0\n",
      "pyodbc                        4.0.34\n",
      "pyOpenSSL                     22.0.0\n",
      "pyparsing                     3.0.9\n",
      "PyQt5-Qt5                     5.15.2\n",
      "PyQtWebEngine-Qt5             5.15.2\n",
      "pyreadline                    2.1\n",
      "pyrsistent                    0.18.0\n",
      "PySocks                       1.7.1\n",
      "pytest                        7.1.2\n",
      "python-dateutil               2.8.2\n",
      "python-lsp-black              1.0.0\n",
      "python-lsp-jsonrpc            1.0.0\n",
      "python-lsp-server             1.2.4\n",
      "python-slugify                5.0.2\n",
      "python-snappy                 0.6.0\n",
      "pytz                          2022.1\n",
      "pyviz-comms                   2.0.2\n",
      "PyWavelets                    1.3.0\n",
      "pywin32                       302\n",
      "pywin32-ctypes                0.2.0\n",
      "pywinpty                      2.0.2\n",
      "PyYAML                        6.0\n",
      "pyzmq                         23.2.0\n",
      "QDarkStyle                    3.0.2\n",
      "qstylizer                     0.1.10\n",
      "QtAwesome                     1.0.3\n",
      "qtconsole                     5.3.2\n",
      "QtPy                          2.2.0\n",
      "queuelib                      1.5.0\n",
      "regex                         2022.7.9\n",
      "requests                      2.28.1\n",
      "requests-file                 1.5.1\n",
      "rope                          0.22.0\n",
      "rsa                           4.7.2\n",
      "Rtree                         0.9.7\n",
      "ruamel-yaml-conda             0.15.100\n",
      "s3transfer                    0.6.0\n",
      "scikit-image                  0.19.2\n",
      "scikit-learn                  1.1.1\n",
      "scikit-learn-intelex          2021.20220215.102710\n",
      "scipy                         1.7.3\n",
      "Scrapy                        2.6.2\n",
      "seaborn                       0.11.2\n",
      "Send2Trash                    1.8.0\n",
      "service-identity              18.1.0\n",
      "setuptools                    63.4.1\n",
      "sip                           4.19.13\n",
      "six                           1.16.0\n",
      "smart-open                    5.2.1\n",
      "sniffio                       1.2.0\n",
      "snowballstemmer               2.2.0\n",
      "sortedcollections             2.1.0\n",
      "sortedcontainers              2.4.0\n",
      "soupsieve                     2.3.1\n",
      "Sphinx                        5.0.2\n",
      "sphinxcontrib-applehelp       1.0.2\n",
      "sphinxcontrib-devhelp         1.0.2\n",
      "sphinxcontrib-htmlhelp        2.0.0\n",
      "sphinxcontrib-jsmath          1.0.1\n",
      "sphinxcontrib-qthelp          1.0.3\n",
      "sphinxcontrib-serializinghtml 1.1.5\n",
      "spyder                        5.1.5\n",
      "spyder-kernels                2.1.3\n",
      "SQLAlchemy                    1.4.39\n",
      "stack-data                    0.2.0\n",
      "statsmodels                   0.13.2\n",
      "sympy                         1.10.1\n",
      "tables                        3.6.1\n",
      "tabulate                      0.8.10\n",
      "TBB                           0.2\n",
      "tblib                         1.7.0\n",
      "tenacity                      8.0.1\n",
      "terminado                     0.13.1\n",
      "testpath                      0.6.0\n",
      "text-unidecode                1.3\n",
      "textdistance                  4.2.1\n",
      "threadpoolctl                 2.2.0\n",
      "three-merge                   0.1.1\n",
      "tifffile                      2021.7.2\n",
      "tinycss                       0.4\n",
      "tldextract                    3.2.0\n",
      "toml                          0.10.2\n",
      "tomli                         2.0.1\n",
      "toolz                         0.11.2\n",
      "tornado                       6.2\n",
      "tqdm                          4.64.1\n",
      "traitlets                     5.1.1\n",
      "Twisted                       22.2.0\n",
      "twisted-iocpsupport           1.0.2\n",
      "typed-ast                     1.4.3\n",
      "typing_extensions             4.3.0\n",
      "ujson                         5.4.0\n",
      "Unidecode                     1.2.0\n",
      "urllib3                       1.26.11\n",
      "w3lib                         1.21.0\n",
      "watchdog                      2.1.6\n",
      "wcwidth                       0.2.5\n",
      "webencodings                  0.5.1\n",
      "websocket-client              0.58.0\n",
      "Werkzeug                      2.0.3\n",
      "whatthepatch                  1.0.2\n",
      "wheel                         0.37.1\n",
      "widgetsnbextension            3.5.2\n",
      "win-inet-pton                 1.1.0\n",
      "win-unicode-console           0.5\n",
      "wincertstore                  0.2\n",
      "wrapt                         1.12.1\n",
      "xarray                        0.20.1\n",
      "xlrd                          2.0.1\n",
      "XlsxWriter                    3.0.3\n",
      "xlwings                       0.24.9\n",
      "yapf                          0.31.0\n",
      "yarl                          1.8.1\n",
      "zict                          2.1.0\n",
      "zipp                          3.8.0\n",
      "zope.interface                5.4.0\n",
      "Note: you may need to restart the kernel to use updated packages.\n"
     ]
    }
   ],
   "source": [
    "pip list"
   ]
  },
  {
   "cell_type": "code",
   "execution_count": null,
   "id": "4cff9e69",
   "metadata": {},
   "outputs": [],
   "source": []
  }
 ],
 "metadata": {
  "kernelspec": {
   "display_name": "Python 3 (ipykernel)",
   "language": "python",
   "name": "python3"
  },
  "language_info": {
   "codemirror_mode": {
    "name": "ipython",
    "version": 3
   },
   "file_extension": ".py",
   "mimetype": "text/x-python",
   "name": "python",
   "nbconvert_exporter": "python",
   "pygments_lexer": "ipython3",
   "version": "3.9.13"
  }
 },
 "nbformat": 4,
 "nbformat_minor": 5
}
