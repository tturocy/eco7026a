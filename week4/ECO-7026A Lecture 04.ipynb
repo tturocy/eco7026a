{
 "cells": [
  {
   "cell_type": "markdown",
   "id": "1286029e",
   "metadata": {},
   "source": [
    "Andrea Calef\n",
    "\n",
    "💁‍♂️ My details: a.calef@uea.ac.uk; office hours Wednesdays 4-6pm on Teams. Or meet live by appointment!\n",
    "\n",
    "The materials for this week are available as a Jupyter notebook. Jupyter notebooks mix rich text with runnable python code. So, you can follow along with this lecture, run the python examples, and even add your own notes and code. To do this go to\n",
    "\n",
    "https://mybinder.org/v2/gh/tturocy/eco7026a/HEAD\n",
    "\n",
    "Alternatively, you can copy and paste code from here into the python command line or an IDE such as Spyder.\n",
    "Using Jupyter notebooks\n",
    "\n",
    "To get your own copy of this notebook, choose File above then Download.\n",
    "\n",
    "When you have done that, click in the field below, and either press the play button or type Shift+Enter. This executes the Python cell."
   ]
  },
  {
   "cell_type": "markdown",
   "id": "d015b2a4",
   "metadata": {},
   "source": [
    "## Notes: necessary libraries to replicate this lecture.\n",
    "\n",
    "import numpy as np\n",
    "<br>\n",
    "import pandas as pd"
   ]
  },
  {
   "cell_type": "code",
   "execution_count": null,
   "id": "db90c37d",
   "metadata": {},
   "outputs": [],
   "source": [
    "import pandas as pd\n",
    "import numpy as np"
   ]
  },
  {
   "cell_type": "code",
   "execution_count": null,
   "id": "91702725",
   "metadata": {},
   "outputs": [],
   "source": [
    "df1=pd.read_csv(\"Databases/Labourdata.csv\") # Importing data for Labour Force\n",
    "df2=pd.read_excel(\"Databases/UKHLS_missing.xlsx\") # Importing data for the UK Household Longitudinal Study"
   ]
  },
  {
   "cell_type": "code",
   "execution_count": null,
   "id": "2c2dac7d",
   "metadata": {},
   "outputs": [],
   "source": [
    "print(df1)"
   ]
  },
  {
   "cell_type": "code",
   "execution_count": null,
   "id": "5b35be2a",
   "metadata": {},
   "outputs": [],
   "source": [
    "for i in df1.columns[:3]:\n",
    "    pct_missing = np.mean(df1[i].isnull())\n",
    "    print('{} - {}%'.format(i, round(pct_missing*100)))\n"
   ]
  },
  {
   "cell_type": "code",
   "execution_count": null,
   "id": "e144a234",
   "metadata": {},
   "outputs": [],
   "source": [
    "round(df1.iloc[:,:3].isna().mean()*100,2) "
   ]
  },
  {
   "cell_type": "code",
   "execution_count": null,
   "id": "1da389e8",
   "metadata": {},
   "outputs": [],
   "source": [
    "df1 = df1.set_index('PERSONID') # Setting PERSONID as the new index Column for Labour force data"
   ]
  },
  {
   "cell_type": "code",
   "execution_count": null,
   "id": "049b58fd",
   "metadata": {},
   "outputs": [],
   "source": [
    "print(df1.iloc[:2, :3])\n",
    "print(df1.iloc[0:3, :3])\n",
    "print(df1.iloc[:, :3])"
   ]
  },
  {
   "cell_type": "code",
   "execution_count": null,
   "id": "a13ca4e0",
   "metadata": {},
   "outputs": [],
   "source": [
    "round(df2.isna().mean()*100,2) "
   ]
  },
  {
   "cell_type": "markdown",
   "id": "4cf1f182",
   "metadata": {},
   "source": [
    "### Data cleaning"
   ]
  },
  {
   "cell_type": "markdown",
   "id": "c0fb6d72",
   "metadata": {},
   "source": [
    "#### Solution 1: Dropping observations with missing values for UKHLS data. This will reduce the number of rows. "
   ]
  },
  {
   "cell_type": "code",
   "execution_count": null,
   "id": "785d0127",
   "metadata": {},
   "outputs": [],
   "source": [
    "df2.dropna(inplace = True) "
   ]
  },
  {
   "cell_type": "code",
   "execution_count": null,
   "id": "03cb9529",
   "metadata": {},
   "outputs": [],
   "source": [
    "for i in df2.columns:\n",
    "    pct_missing = np.mean(df2[i].isnull())\n",
    "    print('{} - {}%'.format(i, round(pct_missing*100)))"
   ]
  },
  {
   "cell_type": "markdown",
   "id": "3fb8b3a5",
   "metadata": {},
   "source": [
    "#### Solution 2: Dropping columns."
   ]
  },
  {
   "cell_type": "code",
   "execution_count": null,
   "id": "fb5b95cb",
   "metadata": {},
   "outputs": [],
   "source": [
    "columns_to_remove = ['EDUC', 'TIMETRND', 'MOTHERED', 'FATHERED', 'BRKNHOME', 'SIBLINGS'] \n",
    "df1.drop(columns_to_remove, inplace=True, axis=1) \n",
    "round(df1.isna().mean()*100,2) "
   ]
  },
  {
   "cell_type": "code",
   "execution_count": null,
   "id": "841aef4e",
   "metadata": {},
   "outputs": [],
   "source": []
  },
  {
   "cell_type": "markdown",
   "id": "3da9515f",
   "metadata": {},
   "source": [
    "#### Solution 3: Filling in with mean values.  "
   ]
  },
  {
   "cell_type": "code",
   "execution_count": null,
   "id": "87a5ce53",
   "metadata": {},
   "outputs": [],
   "source": [
    "df2=pd.read_excel(\"Databases/UKHLS_missing.xlsx\")\n",
    "round(df2.isna().mean()*100,2) \n",
    "df2['How much do you donate to charity?'].info()\n",
    "df2['How much do you donate to charity?'].describe()"
   ]
  },
  {
   "cell_type": "code",
   "execution_count": null,
   "id": "48d546f3",
   "metadata": {},
   "outputs": [],
   "source": [
    "df2['How much do you donate to charity?'] = df2['How much do you donate to charity?'].fillna(df2['How much do you donate to charity?'].mean()) \n",
    "for i in df2.columns:\n",
    "    pct_missing = np.mean(df2[i].isnull())\n",
    "    print('{} - {}%'.format(i, round(pct_missing*100)))\n",
    "df2['How much do you donate to charity?'].info()\n",
    "df2['How much do you donate to charity?'].describe()"
   ]
  },
  {
   "cell_type": "markdown",
   "id": "a8e75f0e",
   "metadata": {},
   "source": [
    "Any comment?"
   ]
  },
  {
   "cell_type": "markdown",
   "id": "9d1c23b0",
   "metadata": {},
   "source": [
    "#### Solution 4: Interpolation\n",
    "\n",
    "Depending on the research question, it may be used with <u>time series</u>.\n",
    "<br>\n",
    "<br>\n",
    "**.interpolate()** can be used with both Series and DataFrames. With no options, the interpolation is linear.\n",
    "<br>\n",
    "<br>\n",
    "**.interpolate(method='polynomial', order= n)** introduces nonlinearities of order n. \n",
    "<br>\n",
    "<br>\n",
    "For more information, please click <a href='https://pandas.pydata.org/docs/reference/api/pandas.DataFrame.interpolate.html'>here</a>. \n",
    " "
   ]
  },
  {
   "cell_type": "code",
   "execution_count": null,
   "id": "4537ff05",
   "metadata": {},
   "outputs": [],
   "source": [
    "df2=pd.read_excel(\"Databases/UKHLS_missing.xlsx\")\n",
    "df2['How much do you donate to charity?'].interpolate(method='polynomial', order=9)"
   ]
  },
  {
   "cell_type": "code",
   "execution_count": null,
   "id": "245e592d",
   "metadata": {},
   "outputs": [],
   "source": [
    "df2"
   ]
  },
  {
   "cell_type": "markdown",
   "id": "d342a59e",
   "metadata": {},
   "source": [
    "#### Note\n",
    "\n",
    "This interpolation is meaningless, as the data set is just a cross-section!"
   ]
  },
  {
   "cell_type": "markdown",
   "id": "efc55d5e",
   "metadata": {},
   "source": [
    "### Data manipulation"
   ]
  },
  {
   "cell_type": "code",
   "execution_count": null,
   "id": "3144eb3f",
   "metadata": {},
   "outputs": [],
   "source": [
    "df = pd.read_csv(\"Databases/WEO_Data.csv\") # Load WEO data \n",
    "\n",
    "df.drop(['Units', 'Scale', 'Country/Series-specific Notes', 'Estimates Start After'], axis = 1, inplace = True)\n"
   ]
  },
  {
   "cell_type": "code",
   "execution_count": null,
   "id": "bc9deb31",
   "metadata": {},
   "outputs": [],
   "source": [
    "df"
   ]
  },
  {
   "cell_type": "code",
   "execution_count": null,
   "id": "27420cb4",
   "metadata": {},
   "outputs": [],
   "source": [
    "df['Subject Descriptor'] = df['Subject Descriptor'].str.replace('Gross domestic product, constant prices', 'r_gdp')\n",
    "df['Subject Descriptor'] = df['Subject Descriptor'].str.replace('Gross domestic product, current prices', 'n_gdp')\n",
    "df['Subject Descriptor'] = df['Subject Descriptor'].str.replace('Gross domestic product, deflator', 'defl')\n",
    "df['Subject Descriptor'] = df['Subject Descriptor'].str.replace('Unemployment rate', 'u')"
   ]
  },
  {
   "cell_type": "code",
   "execution_count": null,
   "id": "843eeda1",
   "metadata": {},
   "outputs": [],
   "source": [
    "print(df.T[:4])\n",
    "print(df[:4].T)"
   ]
  },
  {
   "cell_type": "code",
   "execution_count": null,
   "id": "12ea491e",
   "metadata": {},
   "outputs": [],
   "source": [
    "df1 = df.stack()\n",
    "df1.head(10)"
   ]
  },
  {
   "cell_type": "code",
   "execution_count": null,
   "id": "ebd03708",
   "metadata": {},
   "outputs": [],
   "source": [
    "df1.index = df1.index.droplevel(0) # drop indicator index \n",
    "df1.head(10)"
   ]
  },
  {
   "cell_type": "code",
   "execution_count": null,
   "id": "ca95eadd",
   "metadata": {},
   "outputs": [],
   "source": []
  },
  {
   "cell_type": "markdown",
   "id": "b6695a37",
   "metadata": {},
   "source": [
    "### Problem: it does not work! \n",
    "\n",
    "We need a different strategy, implemented through the following four steps: \n",
    "\n",
    "1. Create the column \"Year\" that tracks the time dimension. This implies a decrease in columns and increase in rows. From a \"wide\" panel data visualisation to a \"long\" panel data visualisation. \n",
    "<br>\n",
    "<br>\n",
    "2. Create a new column named \"GDP\" that is a list variable, containing the four values of the variables of interest for each country and year. Data are sorted by Year and Country. The Index is automatically resetted. \n",
    "<br>\n",
    "<br>\n",
    "3. Creating columns for the variables of interest.\n",
    "<br>\n",
    "<br>\n",
    "4. Merging the two previously created dataframes."
   ]
  },
  {
   "cell_type": "code",
   "execution_count": null,
   "id": "e3c8bbb0",
   "metadata": {},
   "outputs": [],
   "source": [
    "df\n",
    "one = pd.melt(df, id_vars=['Country', 'Subject Descriptor'], var_name='Year', value_name='our_variables')\n",
    "one.head() "
   ]
  },
  {
   "cell_type": "code",
   "execution_count": null,
   "id": "1c932d36",
   "metadata": {},
   "outputs": [],
   "source": [
    "df"
   ]
  },
  {
   "cell_type": "code",
   "execution_count": null,
   "id": "71650b4d",
   "metadata": {},
   "outputs": [],
   "source": [
    "two = one.groupby(['Year','Country']).agg(list).drop('Subject Descriptor', axis = 1)\n",
    "two.head() "
   ]
  },
  {
   "cell_type": "code",
   "execution_count": null,
   "id": "f7793168",
   "metadata": {},
   "outputs": [],
   "source": [
    "three = pd.DataFrame(two['our_variables'].to_list(), columns=[s.upper() for s in set(one['Subject Descriptor'].tolist())]) \n",
    "three.head()"
   ]
  },
  {
   "cell_type": "code",
   "execution_count": null,
   "id": "bf82ad56",
   "metadata": {},
   "outputs": [],
   "source": [
    "four = pd.concat([two,three], axis=1).drop('our_variables', axis = 1)\n",
    "four.head() \n"
   ]
  },
  {
   "cell_type": "code",
   "execution_count": null,
   "id": "41cb805f",
   "metadata": {},
   "outputs": [],
   "source": [
    "two.reset_index(col_level=1, inplace=True)\n",
    "two"
   ]
  },
  {
   "cell_type": "code",
   "execution_count": null,
   "id": "3058629b",
   "metadata": {},
   "outputs": [],
   "source": [
    "four = pd.concat([two,three], axis=1).drop('our_variables', axis = 1)\n",
    "four.head() "
   ]
  },
  {
   "cell_type": "code",
   "execution_count": null,
   "id": "e8194cab",
   "metadata": {},
   "outputs": [],
   "source": [
    "df_sorted = four.sort_values(by=['Country','Year'])  \n",
    "df_sorted.rename(columns={\"DEFL\": \"deflator\", \"N_GDP\": \"nominal_gdp\", \"R_GDP\": \"real_gdp\", \"U\": \"unemployment_rate\"}, inplace=True) \n",
    "df_sorted.head() \n"
   ]
  },
  {
   "cell_type": "markdown",
   "id": "9cdae2df",
   "metadata": {},
   "source": [
    "Wait for a second ... "
   ]
  },
  {
   "cell_type": "markdown",
   "id": "1e86d607",
   "metadata": {},
   "source": [
    "#### Fix 1\n",
    "\n",
    "Let us sort ..."
   ]
  },
  {
   "cell_type": "code",
   "execution_count": null,
   "id": "00c2a94d",
   "metadata": {},
   "outputs": [],
   "source": [
    "three = pd.DataFrame(two['our_variables'].to_list(), columns=[s.upper() for s in sorted(set(one['Subject Descriptor'].tolist()))]) \n",
    "three"
   ]
  },
  {
   "cell_type": "markdown",
   "id": "3b54dd08",
   "metadata": {},
   "source": [
    "#### Fix 2\n",
    "\n",
    "Let us simplify ..."
   ]
  },
  {
   "cell_type": "code",
   "execution_count": null,
   "id": "ecdfcbe6",
   "metadata": {},
   "outputs": [],
   "source": [
    "three = pd.DataFrame(two['our_variables'].to_list(), columns=[s.upper() for s in one['Subject Descriptor'].tolist()]) \n",
    "three"
   ]
  },
  {
   "cell_type": "markdown",
   "id": "af3f1b28",
   "metadata": {},
   "source": [
    "#### Too much simplification ..."
   ]
  },
  {
   "cell_type": "code",
   "execution_count": null,
   "id": "69b09fff",
   "metadata": {},
   "outputs": [],
   "source": [
    "three = pd.DataFrame(two['our_variables'].to_list(), columns=[s.upper() for s in one['Subject Descriptor'][:4].tolist()]) \n",
    "three"
   ]
  },
  {
   "cell_type": "code",
   "execution_count": null,
   "id": "6c615ed1",
   "metadata": {},
   "outputs": [],
   "source": [
    "one = pd.melt(df, id_vars=['Country', 'Subject Descriptor'], var_name='Year', value_name='our_variables')\n",
    "two = one.groupby(['Year','Country']).agg(list).drop('Subject Descriptor', axis = 1)\n",
    "three = pd.DataFrame(two['our_variables'].to_list(), columns=[s.upper() for s in one['Subject Descriptor'][:4].tolist()]) \n",
    "three\n",
    "two.reset_index(col_level=1, inplace=True)\n",
    "four = pd.concat([two,three], axis=1).drop('our_variables', axis = 1)\n",
    "four.head() \n",
    "df_sorted = four.sort_values(by=['Country','Year'])  \n",
    "df_sorted.rename(columns={\"DEFL\": \"deflator\", \"N_GDP\": \"nominal_gdp\", \"R_GDP\": \"real_gdp\", \"U\": \"unemployment_rate\"}, inplace=True) \n",
    "df_sorted.head() "
   ]
  },
  {
   "cell_type": "markdown",
   "id": "01bd8a3e",
   "metadata": {},
   "source": [
    "We can finally save in the data formats we wish, e.g."
   ]
  },
  {
   "cell_type": "code",
   "execution_count": null,
   "id": "5d1b5102",
   "metadata": {},
   "outputs": [],
   "source": [
    "df_sorted.to_csv('WEO_Data_Sorted.csv', index = False)\n",
    "df_sorted.to_latex('WEO_Data_Sorted.tex', index = False)\n",
    "df_sorted.to_stata('WEO_Data_Sorted.dta', write_index = False)"
   ]
  },
  {
   "cell_type": "markdown",
   "id": "97054bc7",
   "metadata": {},
   "source": [
    "#### It has been a great pleasure to be your teacher!"
   ]
  }
 ],
 "metadata": {
  "kernelspec": {
   "display_name": "Python 3 (ipykernel)",
   "language": "python",
   "name": "python3"
  },
  "language_info": {
   "codemirror_mode": {
    "name": "ipython",
    "version": 3
   },
   "file_extension": ".py",
   "mimetype": "text/x-python",
   "name": "python",
   "nbconvert_exporter": "python",
   "pygments_lexer": "ipython3",
   "version": "3.9.13"
  }
 },
 "nbformat": 4,
 "nbformat_minor": 5
}
