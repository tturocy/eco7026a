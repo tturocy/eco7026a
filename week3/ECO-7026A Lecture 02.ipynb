{
 "cells": [
  {
   "cell_type": "markdown",
   "id": "8d5b6ac0",
   "metadata": {},
   "source": [
    "## Andrea Calef\n",
    "\n",
    "> 💁‍♂️ My details: a.calef@uea.ac.uk; office hours Wednesdays 4-6pm on Teams. Or meet live by appointment! In any case, I recommend emailing me before any meeting, as I may have long queues of students or being stuck in job-related meetings.\n",
    "\n",
    "\n",
    "The materials for this week are available as a Jupyter notebook. Jupyter notebooks mix rich text with runnable python code. So, you can follow along with this lecture, run the python examples, and even add your own notes and code. \n",
    "\n",
    "https://mybinder.org/v2/gh/tturocy/eco7026a/HEAD\n",
    "\n",
    "Alternatively, you can copy and paste code from here into the python command line or an IDE, such as Spyder. Albeit not been the only way to get access to Jupyter notebook, downloading **Anaconda** is recommended, as it comes with many python-based software (e.g., Jupyter, PyCharm, Spyder, etc). Please click <a href='https://www.anaconda.com/products/distribution#Downloads'>here</a> to download Anaconda's installer.\n",
    "\n",
    "### Using Jupyter notebooks\n",
    "\n",
    "To get your own copy of this notebook, choose **File** above then **Download**.\n",
    "\n",
    "When you have done that, click in the field below, and either press the play button or type Shift+Enter. This executes the Python cell."
   ]
  },
  {
   "cell_type": "markdown",
   "id": "d1f9dcc8",
   "metadata": {},
   "source": [
    "## Notes: necessary libraries to replicate this lecture.\n",
    "\n",
    "pip list \n",
    "<br>\n",
    "print(pd.__version__)'\n",
    "\n",
    "import numpy as np\n",
    "<br>\n",
    "import pandas as pd\n",
    "<br>\n",
    "import os\n",
    "\n",
    "The first time you need to install pandas_datareader: pip install pandas_datareader\n",
    "\n",
    "The first time you need to install pyarrow: pip install pyarrow \n",
    "<br>\n",
    "import pyarrow as pa\n",
    "<br>\n",
    "import pyarrow.parquet as pq\n",
    "\n",
    "According to Pythonic and PEP-8, all the libraries should be recalled at the beginning of your .py/.ipynb file. "
   ]
  },
  {
   "cell_type": "markdown",
   "id": "d46e30e1",
   "metadata": {},
   "source": [
    "In this lecture we will upload a couple of .csv files and, at the end of it we will save part of the work via files having different extensions. Before starting any work, it is worth checking the directory ..."
   ]
  },
  {
   "cell_type": "code",
   "execution_count": null,
   "id": "fcbafac2",
   "metadata": {},
   "outputs": [],
   "source": [
    "pwd "
   ]
  },
  {
   "cell_type": "markdown",
   "id": "6b05fc83",
   "metadata": {},
   "source": [
    "Or after importing **os** ..."
   ]
  },
  {
   "cell_type": "code",
   "execution_count": null,
   "id": "3806be04",
   "metadata": {},
   "outputs": [],
   "source": [
    "#import os\n",
    "os.getcwd()"
   ]
  },
  {
   "cell_type": "markdown",
   "id": "ef7c0407",
   "metadata": {},
   "source": [
    "And modify the directory as needed with: \n",
    "<br>\n",
    "cd C:\\Your\\Directory\\Until\\the\\chosen\\folder\\\n",
    "<br>\n",
    "os.chdir('C:/Your/Directory/Until/the/chosen/folder/')\n",
    "<br>\n",
    "Let us try below!"
   ]
  },
  {
   "cell_type": "code",
   "execution_count": null,
   "id": "5d0236ee",
   "metadata": {},
   "outputs": [],
   "source": []
  },
  {
   "cell_type": "markdown",
   "id": "86ff8176",
   "metadata": {},
   "source": [
    "Today we are going to look at **pandas** and **numpy**, which are libraries for data analysis and numerical programming, respectively.\n",
    "<br>\n",
    "<br>\n",
    "**numpy** and **pandas** provide some useful data types of their own, which rather speed up the process of data analysis.\n",
    "* numpy provides mathematical functions, multidimensional arrays. \n",
    "* pandas builds on numpy and helps us handle data for analysis."
   ]
  },
  {
   "cell_type": "markdown",
   "id": "6ab4065f",
   "metadata": {},
   "source": [
    "## numpy\n",
    "\n",
    "The main functionality of **numpy** is to help process **arrays**. \n",
    "<br>\n",
    "<br>\n",
    "Arrays provide a way to store data. In the previous week, we looked at lists. Arrays are a way of taking that concept and making it multi-dimensional. This concept is the same as a **matrix** in Mathematics.\n",
    "<br>\n",
    "<br>\n",
    "**numpy** is a library that stores many functions. When you wish to recall a particular one, a dot (.) is needed. \n",
    "It is worth giving a look at the **documentation** of this library by clicking on the following <a href='https://numpy.org/doc/stable/numpy-user.pdf'>hyperlink</a>."
   ]
  },
  {
   "cell_type": "code",
   "execution_count": null,
   "id": "2291e72c",
   "metadata": {},
   "outputs": [],
   "source": [
    "#import numpy as np \n",
    "a = np.array([[1,2],[3,4]])\n",
    "print(a)\n",
    "print(a*3)\n"
   ]
  },
  {
   "cell_type": "code",
   "execution_count": null,
   "id": "0c659a82",
   "metadata": {},
   "outputs": [],
   "source": [
    "m = np.array([[2,1],[1,2]])\n",
    "eigen_value, eigen_vector = np.linalg.eig(m)\n",
    "print(eigen_value)\n",
    "print(eigen_vector)"
   ]
  },
  {
   "cell_type": "markdown",
   "id": "b214d3d0",
   "metadata": {},
   "source": [
    "Let us import the function to do some linear algebra."
   ]
  },
  {
   "cell_type": "code",
   "execution_count": null,
   "id": "9d0dfe7f",
   "metadata": {},
   "outputs": [],
   "source": [
    "from np import linalg as la"
   ]
  },
  {
   "cell_type": "markdown",
   "id": "b28a9498",
   "metadata": {},
   "source": [
    "We perform some matricial operations now. For a refresher, please click <a href='https://twister.caps.ou.edu/OBAN2019/Intro_FEM_files/IFEM.AppC.pdf'>here</a>. "
   ]
  },
  {
   "cell_type": "code",
   "execution_count": null,
   "id": "d956a718",
   "metadata": {},
   "outputs": [],
   "source": [
    "from numpy import linalg as la \n",
    "eigen_value_, eigen_vector_ = la.eig(m)\n",
    "print(eigen_value_)\n",
    "print(eigen_vector_)"
   ]
  },
  {
   "cell_type": "code",
   "execution_count": null,
   "id": "93b194c8",
   "metadata": {},
   "outputs": [],
   "source": [
    "print(la.det(a))\n",
    "det = la.det(a)\n",
    "print(np.round(det))\n",
    "b = la.inv(a)\n",
    "print(b)\n",
    "print(np.matmul(b,a))\n",
    "print(np.round(np.matmul(b,a)))"
   ]
  },
  {
   "cell_type": "markdown",
   "id": "bdfcf407",
   "metadata": {},
   "source": [
    "## pandas\n",
    "\n",
    "**pandas** is a library that builds on the mathematical tools introduced by numpy to provide a comprehensive set of statistics tools, in a similar way to software like R or STATA.\n",
    "<br>\n",
    "<br>\n",
    "We can use a public dataset as a starting point for producing some real statistics.\n",
    "<br>\n",
    "<br>\n",
    "For example, let us go on Federal Reserve Economic Data (<a href='https://fred.stlouisfed.org/'>**FRED**</a>)'s website, which provides some useful macroeconomic variables we can use for analysis.\n",
    "<br>\n",
    "<br>\n",
    "We will have a look at the UK unemployment rate. \n",
    "<br>\n",
    "<br>\n",
    "The FRED website can supply us with a CSV file of the relevant variable, which we can work with if we put it in the folder in which Python is running. (We can also use Python’s **requests** module to get the file.)"
   ]
  },
  {
   "cell_type": "markdown",
   "id": "ed62c20f",
   "metadata": {},
   "source": [
    "### pandas: Data structures\n",
    "\n",
    "Before loading our data, we need to learn about the data types available from the pandas library. \n",
    "<br>\n",
    "<br>\n",
    "pandas main data types are bool and datetime64, number64, object. \n",
    "<br>\n",
    "<br>\n",
    "pandas data types can be Series or DataFrame. \n",
    "<br>\n",
    "<br>\n",
    "A **Series** is like a column of data, whereas a DataFrame is a collection of these Series. \n",
    "<br>\n",
    "<br>\n",
    "The distinction is similar to that between a column of a spreadsheet, and the whole spreadsheet itself. "
   ]
  },
  {
   "cell_type": "code",
   "execution_count": null,
   "id": "4613fdb1",
   "metadata": {},
   "outputs": [],
   "source": [
    "#import pandas as pd\n",
    "s = pd.Series([3,2,3,4], name='inflation')\n",
    "print(s)\n",
    "s = pd.Series([3,2,3,4], name='inflation', index = [2008, 2009, 2010, 2011])\n",
    "print(s[2008])\n",
    "print(s.loc[2008:2010])"
   ]
  },
  {
   "cell_type": "markdown",
   "id": "ccf8c793",
   "metadata": {},
   "source": [
    "The Series object is much like a numpy array, but it supports the use of labeling our data with an index <u>and</u> some descriptive statistics features."
   ]
  },
  {
   "cell_type": "code",
   "execution_count": null,
   "id": "31f750c5",
   "metadata": {},
   "outputs": [],
   "source": [
    "print(s.describe())\n",
    "print(s.count())\n",
    "print(s.mean())\n",
    "print(s.median())\n",
    "print(s.std())\n",
    "print(s.min())\n",
    "print(s.quantile(0.25))\n",
    "print(s.max())\n",
    "\n",
    "print(s.mode())\n",
    "print(s.skew())\n",
    "print(s.kurt())"
   ]
  },
  {
   "cell_type": "markdown",
   "id": "37890018",
   "metadata": {},
   "source": [
    "If the file is stored online on GitHub, just import the file, careful to its extension. \n",
    "<br>\n",
    "If the file is stored on your computer\n",
    "<br>\n",
    "import os \n",
    "<br>\n",
    "os. getcwd()\n",
    "<br>\n",
    "#os.chdir('C:/Users/andre/Dropbox/University/Teaching/UEA/Module organiser/ECO-7026A Programming and Data Analytics for Behavioural Economists/Lecture 02')\n"
   ]
  },
  {
   "cell_type": "code",
   "execution_count": null,
   "id": "12e8f850",
   "metadata": {},
   "outputs": [],
   "source": [
    "url = 'https://raw.githubusercontent.com/tturocy/eco7026a/main/week2/LRHUTTTTGBM156S.csv'\n",
    "df = pd.read_csv(url)"
   ]
  },
  {
   "cell_type": "code",
   "execution_count": null,
   "id": "a2d87970",
   "metadata": {},
   "outputs": [],
   "source": [
    "print(df)"
   ]
  },
  {
   "cell_type": "code",
   "execution_count": null,
   "id": "b33ddb09",
   "metadata": {},
   "outputs": [],
   "source": [
    "usa_data = pd.read_csv('https://raw.githubusercontent.com/tturocy/eco7026a/main/week2/LRHUTTTTUSM156S.csv')"
   ]
  },
  {
   "cell_type": "markdown",
   "id": "8c266324",
   "metadata": {},
   "source": [
    "Let us give a look at the first four observations ..."
   ]
  },
  {
   "cell_type": "code",
   "execution_count": null,
   "id": "2611bd0f",
   "metadata": {},
   "outputs": [],
   "source": [
    "usa_data.head(4)"
   ]
  },
  {
   "cell_type": "markdown",
   "id": "934af422",
   "metadata": {},
   "source": [
    "... and the last four ones. "
   ]
  },
  {
   "cell_type": "code",
   "execution_count": null,
   "id": "d8a8b7ee",
   "metadata": {},
   "outputs": [],
   "source": [
    "usa_data.tail(4)"
   ]
  },
  {
   "cell_type": "code",
   "execution_count": null,
   "id": "5b0c4da4",
   "metadata": {},
   "outputs": [],
   "source": [
    "world_data = df.merge(usa_data,sort=True) # The merge considers just the dates in common. \n",
    "world_data.head(8) "
   ]
  },
  {
   "cell_type": "code",
   "execution_count": null,
   "id": "a36eb11f",
   "metadata": {},
   "outputs": [],
   "source": [
    "world_data1 = df.merge(usa_data,how='outer') # The merge considers the longest time period and generates Nan for the variables with shorter time periods. \n",
    "world_data1.head(8) "
   ]
  },
  {
   "cell_type": "markdown",
   "id": "4f86bfad",
   "metadata": {},
   "source": [
    "We notice that data are not well sorted. Why? What can we do to correct?"
   ]
  },
  {
   "cell_type": "code",
   "execution_count": null,
   "id": "329ebe30",
   "metadata": {},
   "outputs": [],
   "source": [
    "world_data1 = world_data1.sort_values(by=['DATE']) # This column sorts world_data1 DataFrame by column Date. \n",
    "world_data1.head(8) "
   ]
  },
  {
   "cell_type": "code",
   "execution_count": null,
   "id": "98db50b0",
   "metadata": {},
   "outputs": [],
   "source": [
    "world_data1.index = range(len(world_data1.index))\n",
    "world_data1.head(8)"
   ]
  },
  {
   "cell_type": "markdown",
   "id": "d3352411",
   "metadata": {},
   "source": [
    "Alternative solution \n",
    "\n",
    "world_data1.reset_index(drop=True, inplace = True) # This command resets the index. The change is permanement with the option inplace=True. \n",
    "world_data1.head(8) \n",
    "\n",
    "There are other two solutions, one is written below. See again above to look for the other one ..."
   ]
  },
  {
   "cell_type": "code",
   "execution_count": null,
   "id": "24b1664f",
   "metadata": {},
   "outputs": [],
   "source": []
  },
  {
   "cell_type": "code",
   "execution_count": null,
   "id": "61b17abd",
   "metadata": {},
   "outputs": [],
   "source": []
  },
  {
   "cell_type": "code",
   "execution_count": null,
   "id": "46f08b66",
   "metadata": {},
   "outputs": [],
   "source": [
    "world_data1 = df.merge(usa_data,how='outer', sort = True) # This is ok, only because data sets were already sorted by Date.\n",
    "world_data1.head(8) "
   ]
  },
  {
   "cell_type": "markdown",
   "id": "a42c299d",
   "metadata": {},
   "source": [
    "Let us rename the two main variables of our data set. "
   ]
  },
  {
   "cell_type": "code",
   "execution_count": null,
   "id": "b7535562",
   "metadata": {},
   "outputs": [],
   "source": [
    "world_data.rename(columns={'LRHUTTTTGBM156S': 'uk_unemployment', 'LRHUTTTTUSM156S': 'usa_nemployment'})"
   ]
  },
  {
   "cell_type": "markdown",
   "id": "d1bac7b3",
   "metadata": {},
   "source": [
    "Do you notice anything above? \n",
    "<br>\n",
    "Let us see all the data below."
   ]
  },
  {
   "cell_type": "code",
   "execution_count": null,
   "id": "3680e694",
   "metadata": {
    "scrolled": false
   },
   "outputs": [],
   "source": [
    "with pd.option_context('display.max_rows', None, 'display.max_columns', None): print(world_data)"
   ]
  },
  {
   "cell_type": "markdown",
   "id": "e32539e6",
   "metadata": {},
   "source": [
    "Nice, but ..."
   ]
  },
  {
   "cell_type": "code",
   "execution_count": null,
   "id": "785be2d0",
   "metadata": {},
   "outputs": [],
   "source": [
    "world_data.rename(columns={'LRHUTTTTGBM156S': 'uk_unemployment', 'LRHUTTTTUSM156S': 'usa_unemployment'}, inplace = True)"
   ]
  },
  {
   "cell_type": "code",
   "execution_count": null,
   "id": "2c63c700",
   "metadata": {},
   "outputs": [],
   "source": [
    "print(world_data['usa_unemployment'])\n"
   ]
  },
  {
   "cell_type": "markdown",
   "id": "a3978084",
   "metadata": {},
   "source": [
    "Without the option \"inplace = True\", the change in the name of the column is temporary and not fixed in the dataframe."
   ]
  },
  {
   "cell_type": "markdown",
   "id": "fe0de859",
   "metadata": {},
   "source": [
    "**DataFrame.assign()** adds one or more columns. It can contain functions and/or operations inside."
   ]
  },
  {
   "cell_type": "code",
   "execution_count": null,
   "id": "8367d154",
   "metadata": {},
   "outputs": [],
   "source": [
    "world_data = world_data.assign(Source = 'FRED', Diff_U = world_data.uk_unemployment - world_data.usa_unemployment) "
   ]
  },
  {
   "cell_type": "markdown",
   "id": "a40231fc",
   "metadata": {},
   "source": [
    "Let us better understand the data set we are using before undertaking any analysis."
   ]
  },
  {
   "cell_type": "code",
   "execution_count": null,
   "id": "dbd28f84",
   "metadata": {},
   "outputs": [],
   "source": [
    "world_data.dtypes "
   ]
  },
  {
   "cell_type": "code",
   "execution_count": null,
   "id": "74bd0a40",
   "metadata": {},
   "outputs": [],
   "source": [
    "world_data.shape "
   ]
  },
  {
   "cell_type": "code",
   "execution_count": null,
   "id": "0b8e27cf",
   "metadata": {},
   "outputs": [],
   "source": [
    "world_data.info()"
   ]
  },
  {
   "cell_type": "code",
   "execution_count": null,
   "id": "79988c84",
   "metadata": {},
   "outputs": [],
   "source": [
    "world_data1.info()"
   ]
  },
  {
   "cell_type": "code",
   "execution_count": null,
   "id": "37944267",
   "metadata": {},
   "outputs": [],
   "source": [
    "world_data1.isna()"
   ]
  },
  {
   "cell_type": "markdown",
   "id": "6744d4fa",
   "metadata": {},
   "source": [
    "Does this remind you anything from the last lecture?"
   ]
  },
  {
   "cell_type": "code",
   "execution_count": null,
   "id": "d145eb9c",
   "metadata": {},
   "outputs": [],
   "source": [
    "world_data1.isna().mean()*100"
   ]
  },
  {
   "cell_type": "code",
   "execution_count": null,
   "id": "7aac7fbb",
   "metadata": {},
   "outputs": [],
   "source": [
    "world_data.nunique()"
   ]
  },
  {
   "cell_type": "markdown",
   "id": "a617e7d9",
   "metadata": {},
   "source": [
    "**DataFrame.dtypes** is a subset of **DataFrame.info()**"
   ]
  },
  {
   "cell_type": "code",
   "execution_count": null,
   "id": "531088ab",
   "metadata": {},
   "outputs": [],
   "source": [
    "import datetime\n",
    "world_data['date'] = pd.to_datetime(world_data['DATE'], yearfirst = True, format='%Y-%m-%d') # it creates a datetime64[ns] variable. \n",
    "world_data['day'] = world_data['date'].dt.day\n",
    "world_data['month'] = world_data['date'].dt.month\n",
    "world_data['year'] = world_data['date'].dt.year\n",
    "world_data['weekday'] = world_data['date'].dt.dayofweek\n"
   ]
  },
  {
   "cell_type": "code",
   "execution_count": null,
   "id": "5f10973b",
   "metadata": {},
   "outputs": [],
   "source": [
    "world_data.dtypes"
   ]
  },
  {
   "cell_type": "code",
   "execution_count": null,
   "id": "931e45d4",
   "metadata": {},
   "outputs": [],
   "source": [
    "world_data[['DATE','weekday']] # note the double square parenthesis, when you recall more than a column. \n"
   ]
  },
  {
   "cell_type": "code",
   "execution_count": null,
   "id": "00a269ab",
   "metadata": {},
   "outputs": [],
   "source": [
    "world_data = world_data.set_index(['DATE'])\n",
    "world_data"
   ]
  },
  {
   "cell_type": "code",
   "execution_count": null,
   "id": "b2fe686f",
   "metadata": {},
   "outputs": [],
   "source": [
    "nineties_data = world_data.loc['1990-01-01':'1999-12-01']\n",
    "nineties_data"
   ]
  },
  {
   "cell_type": "code",
   "execution_count": null,
   "id": "e43e9b91",
   "metadata": {},
   "outputs": [],
   "source": [
    "nineties_data_reduced = world_data.loc['1990-01-01':'1999-12-01', world_data.columns != 'day']\n",
    "nineties_data_reduced"
   ]
  },
  {
   "cell_type": "code",
   "execution_count": null,
   "id": "21e0ef2c",
   "metadata": {},
   "outputs": [],
   "source": [
    "nineties_data_reduced = world_data.loc['1990-01-01':'1999-12-01',['date','uk_unemployment','usa_unemployment','weekday']]\n",
    "nineties_data_reduced"
   ]
  },
  {
   "cell_type": "code",
   "execution_count": null,
   "id": "828911d9",
   "metadata": {},
   "outputs": [],
   "source": [
    "world_data.rename(columns={'LRHUTTTTGBM156S': 'uk_unemployment', 'LRHUTTTTUSM156S': 'usa_unemployment'}, inplace = True)\n",
    "nineties_data_reduced = world_data.loc['1990-01-01':'1999-12-01',['date','uk_unemployment','usa_unemployment','weekday']]\n",
    "nineties_data_reduced"
   ]
  },
  {
   "cell_type": "code",
   "execution_count": null,
   "id": "7ccde888",
   "metadata": {},
   "outputs": [],
   "source": [
    "nineties_data['uk_unemployment'].mean()\n",
    "nineties_data['usa_unemployment'].mean()\n",
    "nineties_data[['uk_unemployment','usa_unemployment']].mean()\n",
    "nineties_data.describe(exclude=['int64','datetime64[ns]'])\n"
   ]
  },
  {
   "cell_type": "code",
   "execution_count": null,
   "id": "e63220c6",
   "metadata": {},
   "outputs": [],
   "source": [
    "nineties_data = world_data.loc['1990-01-01':'1999-12-01']\n",
    "nineties_data['uk_unemployment'].mean()\n"
   ]
  },
  {
   "cell_type": "code",
   "execution_count": null,
   "id": "ccfdb25e",
   "metadata": {},
   "outputs": [],
   "source": [
    "nineties_data['usa_unemployment'].mean()\n"
   ]
  },
  {
   "cell_type": "code",
   "execution_count": null,
   "id": "1c902be8",
   "metadata": {},
   "outputs": [],
   "source": [
    "nineties_data[['uk_unemployment','usa_unemployment']].mean()\n"
   ]
  },
  {
   "cell_type": "code",
   "execution_count": null,
   "id": "69cdaa28",
   "metadata": {},
   "outputs": [],
   "source": [
    "nineties_data.describe(exclude=['int64','datetime64[ns]'])\n"
   ]
  },
  {
   "cell_type": "code",
   "execution_count": null,
   "id": "fba852fc",
   "metadata": {},
   "outputs": [],
   "source": [
    "from pandas_datareader import wb\n",
    "matches = wb.search('government.*debt.*gdp')\n",
    "matches\n"
   ]
  },
  {
   "cell_type": "code",
   "execution_count": null,
   "id": "93554e32",
   "metadata": {},
   "outputs": [],
   "source": [
    "debt = wb.download(indicator='GC.DOD.TOTL.GD.ZS', country=\"all\", start=2005, end=2016)\n",
    "debt"
   ]
  },
  {
   "cell_type": "code",
   "execution_count": null,
   "id": "1c783cda",
   "metadata": {},
   "outputs": [],
   "source": [
    "debt = wb.download(indicator='GC.DOD.TOTL.GD.ZS', country=\"all\", start=2005, end=2016).stack().unstack(0)\n",
    "debt"
   ]
  },
  {
   "cell_type": "code",
   "execution_count": null,
   "id": "c4ac7a1c",
   "metadata": {},
   "outputs": [],
   "source": [
    "debt1 = wb.download(indicator='GC.DOD.TOTL.GD.ZS', country=\"all\", start=2005, end=2016).stack(dropna=False).unstack(0)\n",
    "debt1"
   ]
  },
  {
   "cell_type": "code",
   "execution_count": null,
   "id": "62fd6197",
   "metadata": {},
   "outputs": [],
   "source": [
    "debt2 = wb.download(indicator='GC.DOD.TOTL.GD.ZS', country=\"all\", start=2005, end=2016).unstack(0)\n",
    "debt2"
   ]
  },
  {
   "cell_type": "code",
   "execution_count": null,
   "id": "80cd1b1a",
   "metadata": {},
   "outputs": [],
   "source": [
    "del [[debt1, debt2]]"
   ]
  },
  {
   "cell_type": "code",
   "execution_count": null,
   "id": "de2d8f31",
   "metadata": {},
   "outputs": [],
   "source": [
    "debt"
   ]
  },
  {
   "cell_type": "code",
   "execution_count": null,
   "id": "64ee3881",
   "metadata": {},
   "outputs": [],
   "source": [
    "debt.index = debt.index.droplevel(1) # drop indicator index \n",
    "debt"
   ]
  },
  {
   "cell_type": "code",
   "execution_count": null,
   "id": "d262c9a1",
   "metadata": {},
   "outputs": [],
   "source": [
    "print(debt.loc[\"2005\"].kurtosis())\n",
    "print(debt.loc[\"2005\"].skew())"
   ]
  },
  {
   "cell_type": "code",
   "execution_count": null,
   "id": "e5d7c7d7",
   "metadata": {},
   "outputs": [],
   "source": [
    "debt.to_csv('debt.csv')\n",
    "debt.to_stata('debt.dta')\n",
    "debt.to_json('debt.json')\n",
    "debt.to_pickle('debt.pkl')\n",
    "debt.to_parquet('debt.parquet')\n",
    "debt.to_latex('debt.tex')"
   ]
  },
  {
   "cell_type": "markdown",
   "id": "49cd2a30",
   "metadata": {},
   "source": [
    "Please click on the following hyperlinks for additional information about some data formats:\n",
    "\n",
    "* <a href='https://fileinfo.com/extension/json'>.json</a>\n",
    "<br>\n",
    "<br>\n",
    "* <a href='https://www.databricks.com/glossary/what-is-parquet'>.parquet</a>\n",
    "<br>\n",
    "<br>\n",
    "* <a href='https://pythonnumericalmethods.berkeley.edu/notebooks/chapter11.03-Pickle-Files.html'>.pickle</a>"
   ]
  },
  {
   "cell_type": "markdown",
   "id": "235565f6",
   "metadata": {},
   "source": [
    "Where are these files?"
   ]
  },
  {
   "cell_type": "code",
   "execution_count": null,
   "id": "1f2484cf",
   "metadata": {},
   "outputs": [],
   "source": [
    "os.getcwd()"
   ]
  },
  {
   "cell_type": "code",
   "execution_count": null,
   "id": "54c3f143",
   "metadata": {},
   "outputs": [],
   "source": [
    "pwd"
   ]
  },
  {
   "cell_type": "code",
   "execution_count": null,
   "id": "67a66973",
   "metadata": {},
   "outputs": [],
   "source": [
    "cd "
   ]
  },
  {
   "cell_type": "code",
   "execution_count": null,
   "id": "a6570ce3",
   "metadata": {},
   "outputs": [],
   "source": [
    "cd C:\\Users\\andre\\Dropbox\\University\\Teaching\\UEA\\Module organiser\\"
   ]
  }
 ],
 "metadata": {
  "celltoolbar": "Tags",
  "kernelspec": {
   "display_name": "Python 3",
   "language": "python",
   "name": "python3"
  },
  "language_info": {
   "codemirror_mode": {
    "name": "ipython",
    "version": 3
   },
   "file_extension": ".py",
   "mimetype": "text/x-python",
   "name": "python",
   "nbconvert_exporter": "python",
   "pygments_lexer": "ipython3",
   "version": "3.8.8"
  }
 },
 "nbformat": 4,
 "nbformat_minor": 5
}
