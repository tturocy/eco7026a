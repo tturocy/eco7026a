{
 "cells": [
  {
   "cell_type": "markdown",
   "id": "fe60e3e1",
   "metadata": {},
   "source": [
    "## Andrea Calef\n",
    "\n",
    "> 💁‍♂️ My details: a.calef@uea.ac.uk; office hours Wednesdays 4-6pm on Teams. Or meet live by appointment! In any case, I recommend emailing me before any meeting, as I may have long queues of students or being stuck in job-related meetings.\n",
    "\n",
    "\n",
    "The materials for this week are available as a Jupyter notebook. Jupyter notebooks mix rich text with runnable python code. So, you can follow along with this lecture, run the python examples, and even add your own notes and code. \n",
    "\n",
    "https://mybinder.org/v2/gh/tturocy/eco7026a/HEAD\n",
    "\n",
    "Alternatively, you can copy and paste code from here into the python command line or an IDE, such as Spyder. Albeit not been the only way to get access to Jupyter notebook, downloading **Anaconda** is recommended, as it comes with many python-based software (e.g., Jupyter, PyCharm, Spyder, etc). Please click <a href='https://www.anaconda.com/products/distribution#Downloads'>here</a> to download Anaconda's installer.\n",
    "\n",
    "### Using Jupyter notebooks\n",
    "\n",
    "To get your own copy of this notebook, choose **File** above then **Download**.\n",
    "\n",
    "When you have done that, click in the field below, and either press the play button or type Shift+Enter. This executes the Python cell."
   ]
  },
  {
   "cell_type": "markdown",
   "id": "a6828077",
   "metadata": {},
   "source": [
    "## Notes: necessary libraries to replicate this lecture.\n",
    "\n",
    "import pandas_datareader \n",
    "<br>\n",
    "import pandas as pd \n",
    "<br>\n",
    "import pyarrow as pa \n",
    "<br>\n",
    "import pyarrow.parquet as pq \n",
    "<br>\n",
    "import matplotlib.pyplot as plt \n",
    "\n",
    "The first time you need to install pandas_datareader: pip install pandas_datareader\n",
    "\n",
    "The first time you need to install pyarrow: pip install pyarrow \n",
    "\n",
    "According to Pythonic and PEP-8, all the libraries should be recalled at the beginning of your .py/.ipynb file. "
   ]
  },
  {
   "cell_type": "markdown",
   "id": "9b2e779f",
   "metadata": {},
   "source": [
    "## ECO-7026A Lecture 03\n",
    "\n",
    "### Main topic: Data Visualisation using Python.\n",
    "\n",
    "We will download some data and draw the following graphs:\n",
    "\n",
    "* <a href='https://www.splashlearn.com/math-vocabulary/geometry/line-graph'>Line graph</a>\n",
    "* <a href='https://chartio.com/learn/charts/what-is-a-scatter-plot/'>Scatter plot</a>\n",
    "* <a href='https://chartio.com/learn/charts/bar-chart-complete-guide/'>Bar chart</a>\n",
    "* <a href='https://chartio.com/learn/charts/histogram-complete-guide/'>Histogram</a>\n",
    "* <a href='https://chartio.com/learn/charts/pie-chart-complete-guide/'>Pie chart</a>\n",
    "* <a href='https://datavizproject.com/data-type/three-dimensional-stream-graph/'>3D graph</a>\n",
    "* <a href='https://www.itl.nist.gov/div898/handbook/eda/section3/contour.htm'>Contour plot</a>"
   ]
  },
  {
   "cell_type": "markdown",
   "id": "c4fcd3cd",
   "metadata": {},
   "source": [
    "Through **pandas_datareader** we can look for certain data stored in <a href='https://data.worldbank.org/'>World Bank Database</a>'s website and download them without directly accessing through our browser. \n",
    "\n",
    "Actually, <a href='https://pandas-datareader.readthedocs.io/en/latest/'>**pandas_datareader**</a> allows for getting data from many public databases. Please read its documentation page. "
   ]
  },
  {
   "cell_type": "code",
   "execution_count": null,
   "id": "ae5fcaa9",
   "metadata": {},
   "outputs": [],
   "source": [
    "import pandas_datareader as pdr \n",
    "from pandas_datareader import wb\n",
    "matches = wb.search('government.*debt.*gdp')\n",
    "matches"
   ]
  },
  {
   "cell_type": "markdown",
   "id": "7a725bd1",
   "metadata": {},
   "source": [
    "Let us choose the proper index and download the needed data. "
   ]
  },
  {
   "cell_type": "code",
   "execution_count": null,
   "id": "c00fd357",
   "metadata": {},
   "outputs": [],
   "source": [
    "debt = wb.download(indicator='GC.DOD.TOTL.GD.ZS', country=\"all\", start=2005, end=2016)\n",
    "debt"
   ]
  },
  {
   "cell_type": "markdown",
   "id": "4c8cd46c",
   "metadata": {},
   "source": [
    "We have just downloaded panel data (time series for many countries - countries represent the cross-section). \n",
    "<br>\n",
    "But how should it be structured? \n",
    "<br>\n",
    "Its shape can be modified with **stack()** and **unstack**, which are the equivalent of Stata's \"long\" and \"wide\", respectively. See <a href='https://pandas.pydata.org/docs/user_guide/reshaping.html'>here</a> for more information. "
   ]
  },
  {
   "cell_type": "code",
   "execution_count": null,
   "id": "0208a399",
   "metadata": {},
   "outputs": [],
   "source": [
    "debt = wb.download(indicator='GC.DOD.TOTL.GD.ZS', country=\"all\", start=2005, end=2016).unstack()\n",
    "debt"
   ]
  },
  {
   "cell_type": "code",
   "execution_count": null,
   "id": "522984ca",
   "metadata": {},
   "outputs": [],
   "source": [
    "debt = wb.download(indicator='GC.DOD.TOTL.GD.ZS', country=\"all\", start=2005, end=2016).unstack(1)\n",
    "debt"
   ]
  },
  {
   "cell_type": "code",
   "execution_count": null,
   "id": "4370a8bc",
   "metadata": {},
   "outputs": [],
   "source": [
    "debt = wb.download(indicator='GC.DOD.TOTL.GD.ZS', country=\"all\", start=2005, end=2016).unstack(0)\n",
    "debt"
   ]
  },
  {
   "cell_type": "code",
   "execution_count": null,
   "id": "a7e7d4f7",
   "metadata": {},
   "outputs": [],
   "source": [
    "debt = wb.download(indicator='GC.DOD.TOTL.GD.ZS', country=\"all\", start=2005, end=2016).stack().unstack(0)\n",
    "debt"
   ]
  },
  {
   "cell_type": "code",
   "execution_count": null,
   "id": "89d54a11",
   "metadata": {},
   "outputs": [],
   "source": [
    "debt1 = wb.download(indicator='GC.DOD.TOTL.GD.ZS', country=\"all\", start=2005, end=2016).stack()\n",
    "import pandas as pd \n",
    "with pd.option_context('display.max_rows', None, 'display.max_columns', None): print(debt1)"
   ]
  },
  {
   "cell_type": "code",
   "execution_count": null,
   "id": "0e65bf7d",
   "metadata": {},
   "outputs": [],
   "source": [
    "debt2 = wb.download(indicator='GC.DOD.TOTL.GD.ZS', country=\"all\", start=2005, end=2016).stack(dropna=False).unstack(0)\n",
    "debt2"
   ]
  },
  {
   "cell_type": "code",
   "execution_count": null,
   "id": "95351fc2",
   "metadata": {},
   "outputs": [],
   "source": [
    "del [[debt, debt1, debt2]]"
   ]
  },
  {
   "cell_type": "markdown",
   "id": "58d41d13",
   "metadata": {},
   "source": [
    "Note: we used a <a href='https://www.martinfowler.com/bliki/FluentInterface.html'>**fluent interface**</a>, as we need to get used to it, but please split the code if needed."
   ]
  },
  {
   "cell_type": "markdown",
   "id": "70f5d24e",
   "metadata": {},
   "source": [
    "Let us run the following code. "
   ]
  },
  {
   "cell_type": "code",
   "execution_count": null,
   "id": "128e8649",
   "metadata": {},
   "outputs": [],
   "source": [
    "debt = wb.download(indicator='GC.DOD.TOTL.GD.ZS', country=\"all\", start=2005, end=2016).stack().unstack(0)\n",
    "debt"
   ]
  },
  {
   "cell_type": "code",
   "execution_count": null,
   "id": "ec8f68f2",
   "metadata": {},
   "outputs": [],
   "source": [
    "debt.index = debt.index.droplevel(1)\n",
    "debt"
   ]
  },
  {
   "cell_type": "markdown",
   "id": "fbb70a10",
   "metadata": {},
   "source": [
    "**Question:** Was there a faster way to achieve the same outcome? (See above.)"
   ]
  },
  {
   "cell_type": "code",
   "execution_count": null,
   "id": "67ccaab3",
   "metadata": {},
   "outputs": [],
   "source": []
  },
  {
   "cell_type": "code",
   "execution_count": null,
   "id": "8b507a21",
   "metadata": {},
   "outputs": [],
   "source": [
    "debt = wb.download(indicator='GC.DOD.TOTL.GD.ZS', country=\"all\", start=2005, end=2016).unstack(0).dropna()\n",
    "debt"
   ]
  },
  {
   "cell_type": "markdown",
   "id": "048aee9e",
   "metadata": {},
   "source": [
    "It did not really work. It has erased all the rows ad no columns. "
   ]
  },
  {
   "cell_type": "code",
   "execution_count": null,
   "id": "75123af4",
   "metadata": {},
   "outputs": [],
   "source": [
    "debt = wb.download(indicator='GC.DOD.TOTL.GD.ZS', country=\"all\", start=2005, end=2016).unstack(0).dropna(axis='columns')\n",
    "debt"
   ]
  },
  {
   "cell_type": "markdown",
   "id": "da5a2ff1",
   "metadata": {},
   "source": [
    "It worked and the panel data is balanced, but we may have eliminated some useful information. Let us try again. See <a href='https://pynative.com/pandas-drop-na-columns-from-dataframe/'>here</a> for more information. "
   ]
  },
  {
   "cell_type": "code",
   "execution_count": null,
   "id": "4095fcc3",
   "metadata": {},
   "outputs": [],
   "source": [
    "debt = wb.download(indicator='GC.DOD.TOTL.GD.ZS', country=\"all\", start=2005, end=2016).unstack(0).dropna(axis='columns', how='all')\n",
    "debt"
   ]
  },
  {
   "cell_type": "markdown",
   "id": "a39cf773",
   "metadata": {},
   "source": [
    "We are now ready to computed descriptive statistics for the whole data set or part of it.\n",
    "<br>\n",
    "<br>\n",
    "Let us find the kurthosis related to 2005 data. \n",
    "<br>\n",
    "<br>\n",
    "How do we locate it? See more <a href='https://pandas.pydata.org/docs/user_guide/indexing.html#'>here</a>. Two ways:\n",
    "* **loc[]** - label. \n",
    "* **iloc[]** - position. "
   ]
  },
  {
   "cell_type": "code",
   "execution_count": null,
   "id": "98bdf177",
   "metadata": {},
   "outputs": [],
   "source": [
    "print(debt.loc[\"2005\"].kurtosis())\n",
    "print(debt.iloc[0].kurtosis())"
   ]
  },
  {
   "cell_type": "markdown",
   "id": "8d90a052",
   "metadata": {},
   "source": [
    "We can save our data set in many data formats. "
   ]
  },
  {
   "cell_type": "code",
   "execution_count": null,
   "id": "020a1dc0",
   "metadata": {},
   "outputs": [],
   "source": [
    "debt.to_csv('debt.csv')\n",
    "debt.to_stata('debt.dta')\n",
    "debt.to_json('debt.json')\n",
    "debt.to_pickle('debt.pkl')\n",
    "debt.to_parquet('debt.parquet')\n",
    "debt.to_latex('debt.tex')"
   ]
  },
  {
   "cell_type": "markdown",
   "id": "133671d1",
   "metadata": {},
   "source": [
    "Please click on the following hyperlinks for additional information about some data formats:\n",
    "\n",
    "* <a href='https://fileinfo.com/extension/json'>.json</a>\n",
    "<br>\n",
    "<br>\n",
    "* <a href='https://www.databricks.com/glossary/what-is-parquet'>.parquet</a>\n",
    "<br>\n",
    "<br>\n",
    "* <a href='https://pythonnumericalmethods.berkeley.edu/notebooks/chapter11.03-Pickle-Files.html'>.pickle</a>"
   ]
  },
  {
   "cell_type": "code",
   "execution_count": null,
   "id": "28708629",
   "metadata": {
    "scrolled": false
   },
   "outputs": [],
   "source": [
    "del debt\n",
    "debt = pd.read_csv('https://raw.githubusercontent.com/tturocy/eco7026a/main/week3/debt.csv')\n",
    "debt"
   ]
  },
  {
   "cell_type": "markdown",
   "id": "14f908fb",
   "metadata": {},
   "source": [
    "Any comment?"
   ]
  },
  {
   "cell_type": "code",
   "execution_count": null,
   "id": "5ca5415b",
   "metadata": {},
   "outputs": [],
   "source": []
  },
  {
   "cell_type": "code",
   "execution_count": null,
   "id": "4247a883",
   "metadata": {},
   "outputs": [],
   "source": [
    "debt.set_index('year', drop=True)\n",
    "debt"
   ]
  },
  {
   "cell_type": "markdown",
   "id": "2abe386d",
   "metadata": {},
   "source": [
    "Something did not work properly. Last week we saw how to fix it ... please let your lecturer know you did it. "
   ]
  },
  {
   "cell_type": "markdown",
   "id": "ddc9d467",
   "metadata": {},
   "source": [
    "Let us focus on UK and USA data. "
   ]
  },
  {
   "cell_type": "code",
   "execution_count": null,
   "id": "d57b6c4f",
   "metadata": {},
   "outputs": [],
   "source": [
    "uk_and_us_debt = debt[['United Kingdom', 'United States']]\n",
    "print(uk_and_us_debt)"
   ]
  },
  {
   "cell_type": "markdown",
   "id": "98329b93",
   "metadata": {},
   "source": [
    "## Line graph"
   ]
  },
  {
   "cell_type": "code",
   "execution_count": null,
   "id": "958cfc3c",
   "metadata": {},
   "outputs": [],
   "source": [
    "import matplotlib.pyplot as plt \n",
    "graph = uk_and_us_debt.plot()"
   ]
  },
  {
   "cell_type": "code",
   "execution_count": null,
   "id": "e3d44ba3",
   "metadata": {},
   "outputs": [],
   "source": [
    "graph1 = uk_and_us_debt.plot(lw=2) \n",
    "graph1.set_xlabel('Year', fontsize=12) \n",
    "graph1.set_ylabel('Debt to GDP (%)', fontsize=12) \n",
    "plt.title('Government Debt to GDP (%)') \n",
    "plt.show() # show the plot\n",
    "#plt.savefig('Plot1.png')"
   ]
  },
  {
   "cell_type": "markdown",
   "id": "d258cfd1",
   "metadata": {},
   "source": [
    "Where did we save the file?"
   ]
  },
  {
   "cell_type": "code",
   "execution_count": null,
   "id": "402bd296",
   "metadata": {},
   "outputs": [],
   "source": []
  },
  {
   "cell_type": "code",
   "execution_count": null,
   "id": "4eca1de8",
   "metadata": {},
   "outputs": [],
   "source": [
    "plt.plot().clear()\n",
    "plt.close()\n",
    "plt.cla()\n",
    "plt.clf()"
   ]
  },
  {
   "cell_type": "markdown",
   "id": "53597544",
   "metadata": {},
   "source": [
    "## Scatter plot"
   ]
  },
  {
   "cell_type": "markdown",
   "id": "358a787a",
   "metadata": {},
   "source": [
    "Let us focus un population and nominal GDP (in USD) for G20 countries and generate a scatter plot. "
   ]
  },
  {
   "cell_type": "code",
   "execution_count": null,
   "id": "77659775",
   "metadata": {},
   "outputs": [],
   "source": [
    "pop = wb.search('population.*total')\n",
    "pop"
   ]
  },
  {
   "cell_type": "code",
   "execution_count": null,
   "id": "3b1eeedd",
   "metadata": {},
   "outputs": [],
   "source": [
    "n_gdp = wb.search('gdp.*current')\n",
    "n_gdp "
   ]
  },
  {
   "cell_type": "code",
   "execution_count": null,
   "id": "8190bdfc",
   "metadata": {},
   "outputs": [],
   "source": [
    "G20 = ['ARG', 'AUS', 'BRA', 'CAN', 'CHN', 'DEU', 'FRA','GBR', 'IDN', 'IND',\n",
    "       'ITA', 'JPN', 'KOR', 'MEX', 'RUS', 'SAU', 'TUR', 'USA', 'ZAF']"
   ]
  },
  {
   "cell_type": "code",
   "execution_count": null,
   "id": "a184324b",
   "metadata": {},
   "outputs": [],
   "source": [
    "pop_and_gdp1 = wb.download(indicator=['SP.POP.TOTL','NY.GDP.MKTP.CD'], country=G20,start=2000, end=2020)\n",
    "pop_and_gdp1"
   ]
  },
  {
   "cell_type": "code",
   "execution_count": null,
   "id": "ad5a2118",
   "metadata": {},
   "outputs": [],
   "source": [
    "pop_and_gdp2 = wb.download(indicator=['SP.POP.TOTL','NY.GDP.MKTP.CD'], country=G20, start=2000, end=2020).stack().unstack()\n",
    "pop_and_gdp2"
   ]
  },
  {
   "cell_type": "markdown",
   "id": "cf6dff81",
   "metadata": {},
   "source": [
    "Any comment?"
   ]
  },
  {
   "cell_type": "markdown",
   "id": "bb1090f8",
   "metadata": {},
   "source": [
    "Let us rename the columns. Two ways: "
   ]
  },
  {
   "cell_type": "code",
   "execution_count": null,
   "id": "68091bc3",
   "metadata": {},
   "outputs": [],
   "source": [
    "pop_and_gdp3 = pop_and_gdp2\n",
    "pop_and_gdp2.rename(columns={'SP.POP.TOTL': 'population', 'NY.GDP.MKTP.CD': 'nominal_gdp'}, inplace = True)\n",
    "pop_and_gdp3.columns = ['population', 'nominal_gdp'] "
   ]
  },
  {
   "cell_type": "code",
   "execution_count": null,
   "id": "f9fade29",
   "metadata": {},
   "outputs": [],
   "source": [
    "pop_and_gdp2"
   ]
  },
  {
   "cell_type": "code",
   "execution_count": null,
   "id": "2b1ea19b",
   "metadata": {},
   "outputs": [],
   "source": [
    "pop_and_gdp3"
   ]
  },
  {
   "cell_type": "markdown",
   "id": "ee76761b",
   "metadata": {},
   "source": [
    "Any comments?"
   ]
  },
  {
   "cell_type": "code",
   "execution_count": null,
   "id": "cb29dfce",
   "metadata": {},
   "outputs": [],
   "source": [
    "pop_and_gdp2000 = pop_and_gdp2.iloc[pop_and_gdp2.index.isin(['2000'], level=1)]\n",
    "#pop_and_gdp2000.index = pop_and_gdp2000.index.droplevel(1) # remove the index year\n",
    "pop_and_gdp2020 = pop_and_gdp2.iloc[pop_and_gdp2.index.isin(['2020'], level=1)]\n",
    "#pop_and_gdp2020.index = pop_and_gdp2020.index.droplevel(1) # remove the index year"
   ]
  },
  {
   "cell_type": "code",
   "execution_count": null,
   "id": "23c65fec",
   "metadata": {},
   "outputs": [],
   "source": [
    "pop_and_gdp2000"
   ]
  },
  {
   "cell_type": "code",
   "execution_count": null,
   "id": "7cd03854",
   "metadata": {},
   "outputs": [],
   "source": [
    "pop_and_gdp2020"
   ]
  },
  {
   "cell_type": "code",
   "execution_count": null,
   "id": "8aabd9ac",
   "metadata": {},
   "outputs": [],
   "source": [
    "pd.set_option('display.float_format', '{:,.0f}'.format)\n",
    "print(pop_and_gdp2000)\n",
    "print(pop_and_gdp2020)"
   ]
  },
  {
   "cell_type": "code",
   "execution_count": null,
   "id": "5ab60908",
   "metadata": {},
   "outputs": [],
   "source": [
    "pop_and_gdp2000.plot.scatter(x='population', y='nominal_gdp', title='Scatter plot of GDP against population (2000)') \n",
    "plt.show() # show it \n",
    "#plt.savefig('ScatterPlot1.png')\n",
    "\n",
    "pop_and_gdp2020.plot.scatter(x='population', y='nominal_gdp', title='Scatter plot of GDP against population (2020)') \n",
    "plt.show() "
   ]
  },
  {
   "cell_type": "markdown",
   "id": "24fe1f4c",
   "metadata": {},
   "source": [
    "### To add country labels to each plot point some fixes are needed.\n",
    "\n",
    "I report the full code. "
   ]
  },
  {
   "cell_type": "markdown",
   "id": "c725000c",
   "metadata": {},
   "source": [
    "Any comments?"
   ]
  },
  {
   "cell_type": "markdown",
   "id": "dbd22d5f",
   "metadata": {},
   "source": [
    "### Non-misleading comparison"
   ]
  },
  {
   "cell_type": "code",
   "execution_count": null,
   "id": "1f19089f",
   "metadata": {},
   "outputs": [],
   "source": [
    "pop_and_gdp2000.plot.scatter(x='population', y='nominal_gdp', title='Scatter plot of GDP against population (2000)', s=25, c=\"Green\") \n",
    "plt.xlim([0, 1500000000])\n",
    "plt.ylim([0, 22000000000000])\n",
    "plt.show() \n",
    "\n",
    "pop_and_gdp2020.plot.scatter(x='population', y='nominal_gdp', title='Scatter plot of GDP against population (2020)', s=25, c=\"Green\") \n",
    "plt.xlim([0, 1500000000])\n",
    "plt.ylim([0, 22000000000000])\n",
    "plt.show() "
   ]
  },
  {
   "cell_type": "code",
   "execution_count": null,
   "id": "d96ec969",
   "metadata": {},
   "outputs": [],
   "source": [
    "import matplotlib.pyplot as plt\n",
    "import pandas as pd\n",
    "import pandas_datareader as pdr \n",
    "from pandas_datareader import wb\n",
    "\n",
    "G20 = ['ARG', 'AUS', 'BRA', 'CAN', 'CHN', 'DEU', 'FRA','GBR', 'IDN', 'IND',\n",
    "       'ITA', 'JPN', 'KOR', 'MEX', 'RUS', 'SAU', 'TUR', 'USA', 'ZAF']\n",
    "\n",
    "pop_and_gdp2 = wb.download(indicator=['SP.POP.TOTL','NY.GDP.MKTP.CD'], country=G20,start=2000, end=2020)\n",
    "pop_and_gdp2.rename(columns={'SP.POP.TOTL': 'population', 'NY.GDP.MKTP.CD': 'nominal_gdp'}, inplace = True)\n",
    "pop_and_gdp2000 = pop_and_gdp2.iloc[pop_and_gdp2.index.isin(['2000'], level=1)]\n",
    "#pop_and_gdp2000.index = pop_and_gdp2000.index.droplevel(1) # remove the index year\n",
    "pop_and_gdp2020 = pop_and_gdp2.iloc[pop_and_gdp2.index.isin(['2020'], level=1)]\n",
    "#pop_and_gdp2020.index = pop_and_gdp2020.index.droplevel(1) # remove the index year\n",
    "pd.set_option('display.float_format', '{:,.0f}'.format)\n",
    "\n",
    "x2000 = pop_and_gdp2000['population']\n",
    "y2000 = pop_and_gdp2000['nominal_gdp']\n",
    "\n",
    "plt.figure(figsize=(7,5))\n",
    "plt.scatter(x2000, y2000,s=12,color=\"red\") \n",
    "for i, label in enumerate(G20):\n",
    "    plt.text(x2000[i], y2000[i],label)\n",
    "plt.xlabel('population')\n",
    "plt.ylabel('nominal_gdp')\n",
    "plt.title('Scatter plot of GDP against population (2000)',fontsize=15)\n",
    "plt.xlim([0, 1500000000])\n",
    "plt.ylim([0, 22000000000000])\n",
    "plt.tight_layout() \n",
    "plt.show() # show it \n",
    "#plt.savefig('ScatterPlot1.png')\n",
    "\n",
    "x2020 = pop_and_gdp2020['population']\n",
    "y2020 = pop_and_gdp2020['nominal_gdp']\n",
    "\n",
    "plt.figure(figsize=(7,5))\n",
    "plt.scatter(x2020, y2020,s=12,color=\"red\") \n",
    "for i, label in enumerate(G20):\n",
    "    plt.text(x2020[i], y2020[i],label)\n",
    "plt.xlabel('population')\n",
    "plt.ylabel('nominal_gdp')\n",
    "plt.title('Scatter plot of GDP against population (2020)',fontsize=15)\n",
    "plt.xlim([0, 1500000000])\n",
    "plt.ylim([0, 22000000000000])\n",
    "plt.tight_layout() \n",
    "plt.show() "
   ]
  },
  {
   "cell_type": "markdown",
   "id": "f4a64b24",
   "metadata": {},
   "source": [
    "**Exercise**: After excluding China, India and USA, please reproduce the previous graph. Comment your findings."
   ]
  },
  {
   "cell_type": "markdown",
   "id": "9930afa5",
   "metadata": {},
   "source": [
    "## Bar chart"
   ]
  },
  {
   "cell_type": "code",
   "execution_count": null,
   "id": "ccf1c249",
   "metadata": {},
   "outputs": [],
   "source": [
    "gdp = pop_and_gdp2000['nominal_gdp'] \n",
    "graph = gdp.plot(kind='bar') # make bar chart\n",
    "graph.set_xlabel('Country') \n",
    "graph.set_ylabel('GDP in current $') \n",
    "plt.tight_layout() # it improves the formatting \n",
    "plt.show()"
   ]
  },
  {
   "cell_type": "code",
   "execution_count": null,
   "id": "25931e22",
   "metadata": {},
   "outputs": [],
   "source": [
    "print(gdp)"
   ]
  },
  {
   "cell_type": "code",
   "execution_count": null,
   "id": "e6cc9368",
   "metadata": {},
   "outputs": [],
   "source": [
    "gdp.index = gdp.index.droplevel(1) \n",
    "graph = gdp.plot(kind='bar') \n",
    "graph.set_xlabel('Country') \n",
    "graph.set_ylabel('GDP in current $') \n",
    "plt.tight_layout() \n",
    "plt.show()"
   ]
  },
  {
   "cell_type": "code",
   "execution_count": null,
   "id": "49db901b",
   "metadata": {},
   "outputs": [],
   "source": [
    "gdp = gdp.sort_values(ascending=True)\n",
    "graph = gdp.plot(kind='bar') \n",
    "graph.set_xlabel('Country') \n",
    "graph.set_ylabel('GDP in current $') \n",
    "plt.tight_layout() \n",
    "plt.show()"
   ]
  },
  {
   "cell_type": "markdown",
   "id": "3773a3ba",
   "metadata": {},
   "source": [
    "## Histogram"
   ]
  },
  {
   "cell_type": "code",
   "execution_count": null,
   "id": "2302e30a",
   "metadata": {},
   "outputs": [],
   "source": [
    "gdp.hist() # it generates a 10 bins histogram by default \n",
    "plt.show() \n",
    "#plt.savefig('Hist.png')"
   ]
  },
  {
   "cell_type": "code",
   "execution_count": null,
   "id": "feff34ce",
   "metadata": {},
   "outputs": [],
   "source": [
    "gdp.hist(bins = 5) # it generates a histogram with 5 bins\n",
    "plt.show() "
   ]
  },
  {
   "cell_type": "code",
   "execution_count": null,
   "id": "fd75c8f9",
   "metadata": {},
   "outputs": [],
   "source": [
    "gdp.skew()"
   ]
  },
  {
   "cell_type": "markdown",
   "id": "4f3e66aa",
   "metadata": {},
   "source": [
    "## Pie charts"
   ]
  },
  {
   "cell_type": "markdown",
   "id": "7a963ac3",
   "metadata": {},
   "source": [
    "Using the 2020 data for the proportion of UK GDP by sector (Source: <a href='https://www.statista.com/statistics/270372/distribution-of-gdp-across-economic-sectors-in-the-united-kingdom/'>Statista</a> - which UEA is subscribed to), let us create a pie chart. "
   ]
  },
  {
   "cell_type": "code",
   "execution_count": null,
   "id": "e9433eeb",
   "metadata": {},
   "outputs": [],
   "source": [
    "labels = ('Agriculture', 'Industry', 'Services')\n",
    "sizes = [0.60, 17.70, 71.63]\n",
    "plt.pie(sizes, labels=labels, autopct='%.2f%%', counterclock=False, startangle=90)  # autopct allows amount of decimal points\n",
    "plt.show()"
   ]
  },
  {
   "cell_type": "markdown",
   "id": "4a9c6dd9",
   "metadata": {},
   "source": [
    "Any comment?"
   ]
  },
  {
   "cell_type": "markdown",
   "id": "458f9a70",
   "metadata": {},
   "source": [
    "Let us see a couple of layout variations. "
   ]
  },
  {
   "cell_type": "code",
   "execution_count": null,
   "id": "e0b0b6c9",
   "metadata": {},
   "outputs": [],
   "source": [
    "explode = (0, 0, 0.1)\n",
    "plt.pie(sizes, explode=explode, labels=labels,\n",
    "autopct='%.2f%%', counterclock=False, startangle=90)\n",
    "plt.show()"
   ]
  },
  {
   "cell_type": "code",
   "execution_count": null,
   "id": "5648c27a",
   "metadata": {},
   "outputs": [],
   "source": [
    "explode = (0, 0, 0.1)\n",
    "plt.pie(sizes, explode=explode, labels=labels,\n",
    "autopct='%.2f%%', counterclock=False, shadow = True, startangle=90)\n",
    "plt.show()"
   ]
  },
  {
   "cell_type": "markdown",
   "id": "e3c0eed0",
   "metadata": {},
   "source": [
    "## 3D graphs"
   ]
  },
  {
   "cell_type": "markdown",
   "id": "0b8167aa",
   "metadata": {},
   "source": [
    "<div style='text-align: justify'>When we are looking to plot the relationship between three variables (as opposed to two as we have seen in previous examples), we use a three dimensional graph.\n",
    "<br> \n",
    "<br> \n",
    "We can clearly exhibit this by thinking about a particular Cobb-Douglas function to compute the relationship between units of Labour (L) and Capital (K) on Output (Y):\n",
    "<br> \n",
    "<br> \n",
    "$$ Y = L ^{0.5} K^{0.5} $$ \n",
    "<br> </div>"
   ]
  },
  {
   "cell_type": "code",
   "execution_count": null,
   "id": "9f573191",
   "metadata": {},
   "outputs": [],
   "source": [
    "from matplotlib import cm as colourmap # required for 3D Projections\n",
    "import numpy as np \n",
    "x_values = np.arange(0, 101, 1)\n",
    "y_values = np.arange(0, 101, 1)\n",
    "\n",
    "x_values, y_values = np.meshgrid(x_values, y_values) # Generate coordinate matrices from coordinate vectors\n",
    "z_values = ((x_values)**(0.5))*((y_values)**(0.5))\n",
    "with pd.option_context('display.max_rows', None, 'display.max_columns', None): print(z_values)\n",
    "z_values.shape"
   ]
  },
  {
   "cell_type": "code",
   "execution_count": null,
   "id": "13f002c6",
   "metadata": {},
   "outputs": [],
   "source": [
    "x_values = np.arange(0, 101, 1)\n",
    "y_values = np.arange(0, 101, 1)\n",
    "\n",
    "z_values = ((x_values)**(0.5))*((y_values)**(0.5))\n",
    "x_values, y_values = np.meshgrid(x_values, y_values) \n",
    "with pd.option_context('display.max_rows', None, 'display.max_columns', None): print(z_values)\n",
    "z_values.shape"
   ]
  },
  {
   "cell_type": "markdown",
   "id": "1c959a91",
   "metadata": {},
   "source": [
    "**Lesson**: coding order matters."
   ]
  },
  {
   "cell_type": "code",
   "execution_count": null,
   "id": "cb9871d7",
   "metadata": {},
   "outputs": [],
   "source": [
    "x_values = np.arange(0, 101, 1)\n",
    "y_values = np.arange(0, 101, 1)\n",
    "x_values, y_values = np.meshgrid(x_values, y_values) \n",
    "z_values = ((x_values)**(0.5))*((y_values)**(0.5)) \n",
    "figure = plt.figure() \n",
    "axes = figure.add_subplot(projection='3d') # Get the axes object for the 3D graph\n",
    "surf = axes.plot_surface(x_values, y_values, z_values)# Plot the surface."
   ]
  },
  {
   "cell_type": "code",
   "execution_count": null,
   "id": "3ad48e18",
   "metadata": {
    "scrolled": true
   },
   "outputs": [],
   "source": [
    "x_values = np.arange(0, 101, 1)\n",
    "y_values = np.arange(0, 101, 1)\n",
    "x_values, y_values = np.meshgrid(x_values, y_values)\n",
    "z_values = ((x_values)**(0.5))*((y_values)**(0.5))\n",
    "figure = plt.figure()\n",
    "axes = figure.add_subplot(projection='3d')\n",
    "#figure, axes = plt.subplots(subplot_kw={\"projection\": \"3d\"})\n",
    "surf = axes.plot_surface(x_values,y_values,z_values, cmap=colourmap.coolwarm)\n",
    "figure.colorbar(surf, shrink=0.46, anchor = (0.4, 0.5), label=\"Output level\")\n",
    "plt.title(\"3D Graph showing the impact of Labour and Capital on Output\")\n",
    "axes.set_xlabel('Labour (x)' , fontsize=8)\n",
    "axes.set_ylabel('Capital (y)', fontsize=8)\n",
    "axes.set_zlabel('Output (z)', fontsize=8)\n",
    "plt.show()\n"
   ]
  },
  {
   "cell_type": "markdown",
   "id": "8dce8ea3",
   "metadata": {},
   "source": [
    "Are there any peaks?\n",
    "<br>\n",
    "<br>\n",
    "It must be noted that three dimensional graphs could make it difficult to carry out any further analysis, for example, finding the combination of Labour and Capital that maximises output when tending to positive infinity."
   ]
  },
  {
   "cell_type": "code",
   "execution_count": null,
   "id": "87c845ad",
   "metadata": {},
   "outputs": [],
   "source": [
    "x_values = np.arange(0, 101, 1)\n",
    "y_values = np.arange(0, 101, 1)\n",
    "x_values, y_values = np.meshgrid(x_values, y_values)\n",
    "z_values = ((x_values)**(0.5))*((y_values)**(0.5))\n",
    "figure = plt.figure()\n",
    "axes = figure.add_subplot(projection='3d')\n",
    "#figure, axes = plt.subplots(subplot_kw={\"projection\": \"3d\"})\n",
    "surf = axes.plot_surface(x_values,y_values,z_values, cmap=colourmap.coolwarm)\n",
    "figure.colorbar(surf, shrink=0.46, anchor = (-0.2, 0.5), label=\"Output level\")\n",
    "plt.title(\"3D Graph showing the impact of Labour and Capital on Output\")\n",
    "axes.set_xlabel('Labour (x)' , fontsize=8)\n",
    "axes.set_ylabel('Capital (y)', fontsize=8)\n",
    "axes.set_zlabel('Output (z)', fontsize=8)\n",
    "for angle in range(0, 360):\n",
    "    axes.view_init(20, -90)\n",
    "    plt.show()\n"
   ]
  },
  {
   "cell_type": "markdown",
   "id": "aa440a19",
   "metadata": {},
   "source": [
    "### Constrained optimisation (labour capital)"
   ]
  },
  {
   "cell_type": "markdown",
   "id": "96677877",
   "metadata": {},
   "source": [
    "<div style=\"text-align: justify\">If we were to introduce a cost constraint on this firm, we can find the optimal combination of Labour and Capital when trying to maximise output.\n",
    "<br>\n",
    "<br>\n",
    "Let us assume the same production function as before, but now the firm is constrained to costs where the an extra unit of labour and capital costs 25 units and 250 units, respectively and has a budget of 2,500 units.\n",
    "<br>\n",
    "<br>\n",
    "We can we set up the optimisation problem as follows:\n",
    "<br>\n",
    "<br>\n",
    "$$ \\underset{L,K}{\\max} \\ L^{0.5} K^{0.5} \\\\ \\text{s.t.} \\\\ \\\\ 25L + 250K = 2,500 $$ \n",
    "<br>\n",
    "<br>\n",
    "Or through a Lagrangian function:\n",
    "<br>\n",
    "<br>\n",
    "$$ \\underset{L,K,λ}{\\max} \\ L(L, K , λ) = L^{0.5} K^{0.5} + λ(2,500 − 25L − 250K) $$\n",
    "<br>\n",
    "</div>"
   ]
  },
  {
   "cell_type": "markdown",
   "id": "83f8f1c7",
   "metadata": {},
   "source": [
    "Let us write costs and budget values."
   ]
  },
  {
   "cell_type": "code",
   "execution_count": null,
   "id": "7b70d032",
   "metadata": {},
   "outputs": [],
   "source": [
    "cost_labour = 25\n",
    "cost_capital = 250\n",
    "budget = 2500"
   ]
  },
  {
   "cell_type": "markdown",
   "id": "bbf9497e",
   "metadata": {},
   "source": [
    "Let us write/compute the minima and maxima values of our production factors (labour and capital, respectively)."
   ]
  },
  {
   "cell_type": "code",
   "execution_count": null,
   "id": "15bfdf97",
   "metadata": {},
   "outputs": [],
   "source": [
    "labour_min = 0\n",
    "labour_max = budget / cost_labour\n",
    "capital_min = 0\n",
    "capital_max = budget / cost_capital"
   ]
  },
  {
   "cell_type": "markdown",
   "id": "9172e6cf",
   "metadata": {},
   "source": [
    "Let us define the functions to compute \n",
    "<br>\n",
    "* quantities of labour and capital (as a function of the other production factor and budget);\n",
    "* quantity of output (as a function of the two production factors). \n",
    "<br>\n",
    "\n",
    "**Note**: at this stage, the second definition is redundant. Nevertheless, it is necessary if we want to find the optimal values. "
   ]
  },
  {
   "cell_type": "code",
   "execution_count": null,
   "id": "2e89a24d",
   "metadata": {},
   "outputs": [],
   "source": [
    "def n_labour_bc(n_capital, budget):\n",
    "    return (budget - cost_capital * n_capital) / cost_labour\n",
    "def n_capital_bc(n_labour, budget):\n",
    "    return (budget - cost_labour * n_labour) / cost_capital\n",
    "def output_fc(n_labour, n_capital):\n",
    "    return (n_labour**(1/2)) * (n_capital**(1/2))"
   ]
  },
  {
   "cell_type": "markdown",
   "id": "a2896ab7",
   "metadata": {},
   "source": [
    "Let us draw the contour plot. "
   ]
  },
  {
   "cell_type": "code",
   "execution_count": null,
   "id": "5156fc60",
   "metadata": {
    "scrolled": true
   },
   "outputs": [],
   "source": [
    "fig, (ax_r) = plt.subplots(figsize = (10, 5))\n",
    "labour_axis = np.linspace(labour_min, labour_max)\n",
    "capital_axis = np.linspace(capital_min, capital_max)\n",
    "labour_grid, capital_grid = np.meshgrid(labour_axis, capital_axis)\n",
    "\n",
    "im2 = ax_r.contour(output_fc(labour_grid,capital_grid), extent=[labour_min, labour_max, capital_min, capital_max]) \n",
    "ax_r.plot(labour_axis, n_capital_bc(labour_axis, budget), 'r') # adding the budget constraint\n",
    "ax_r.set_xlabel('Labour (L)')\n",
    "ax_r.set_ylabel('Capital (K)')\n",
    "ax_r.set_title('Possible combinations of Labour and Capital')\n",
    "\n",
    "plt.colorbar(im2,ax=ax_r, label=\"Output level\")\n",
    "plt.tight_layout() "
   ]
  },
  {
   "cell_type": "markdown",
   "id": "c7724305",
   "metadata": {},
   "source": [
    "Let us now find the optimal values by using <a href='https://docs.scipy.org/doc/scipy/reference/generated/scipy.optimize.minimize_scalar.html'>**minimize_scalar**</a>, which is part of **scipy.optimize** (that, in turn, is part of the library **scipy**). "
   ]
  },
  {
   "cell_type": "code",
   "execution_count": null,
   "id": "c7f02541",
   "metadata": {},
   "outputs": [],
   "source": [
    "from scipy.optimize import minimize_scalar\n",
    "\n",
    "def min_output(n_labour):\n",
    "    n_capital = n_capital_bc(n_labour, budget)\n",
    "    return -output_fc(n_labour, n_capital)\n",
    "\n",
    "result_max = minimize_scalar(min_output)\n",
    "print(result_max)"
   ]
  },
  {
   "cell_type": "markdown",
   "id": "390d8d38",
   "metadata": {},
   "source": [
    "Let us store the optimal quantity of labour and compute the optimal quantity of capital and the maximum value of output, respectively."
   ]
  },
  {
   "cell_type": "code",
   "execution_count": null,
   "id": "76f31d00",
   "metadata": {},
   "outputs": [],
   "source": [
    "n_labour_max_value = result_max.x\n",
    "n_capital_max_value = n_capital_bc(n_labour_max_value, budget)\n",
    "max_output_value = output_fc(n_labour_max_value, n_capital_max_value)"
   ]
  },
  {
   "cell_type": "markdown",
   "id": "83ac94ab",
   "metadata": {},
   "source": [
    "Let us present our findings in different ways. "
   ]
  },
  {
   "cell_type": "code",
   "execution_count": null,
   "id": "e53e8c0b",
   "metadata": {},
   "outputs": [],
   "source": [
    "print(n_labour_max_value, n_capital_max_value, max_output_value)\n",
    "print(round(n_labour_max_value,2), round(n_capital_max_value,2), round(max_output_value,2))\n",
    "print(f'Optimal values for labour, capital, and output are, respectively, {n_labour_max_value:.2f}, '\n",
    "      f'{n_capital_max_value:.2f}, {max_output_value:.2f}.')"
   ]
  },
  {
   "cell_type": "code",
   "execution_count": null,
   "id": "f522776e",
   "metadata": {},
   "outputs": [],
   "source": []
  }
 ],
 "metadata": {
  "kernelspec": {
   "display_name": "Python 3",
   "language": "python",
   "name": "python3"
  },
  "language_info": {
   "codemirror_mode": {
    "name": "ipython",
    "version": 3
   },
   "file_extension": ".py",
   "mimetype": "text/x-python",
   "name": "python",
   "nbconvert_exporter": "python",
   "pygments_lexer": "ipython3",
   "version": "3.8.8"
  }
 },
 "nbformat": 4,
 "nbformat_minor": 5
}
